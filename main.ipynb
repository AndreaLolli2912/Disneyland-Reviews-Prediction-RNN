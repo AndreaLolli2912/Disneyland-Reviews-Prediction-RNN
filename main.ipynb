{
 "cells": [
  {
   "cell_type": "code",
   "execution_count": 1,
   "metadata": {
    "colab": {
     "base_uri": "https://localhost:8080/"
    },
    "executionInfo": {
     "elapsed": 64530,
     "status": "ok",
     "timestamp": 1688310479793,
     "user": {
      "displayName": "ANDREA LOLLI",
      "userId": "08743711697490110255"
     },
     "user_tz": -120
    },
    "id": "DY0G-TJvACbP",
    "outputId": "5d993ae7-839b-4249-c0c5-fc4cf60f6599"
   },
   "outputs": [
    {
     "name": "stdout",
     "output_type": "stream",
     "text": [
      "Requirement already satisfied: contractions in /home/andrea/anaconda3/lib/python3.9/site-packages (0.1.73)\n",
      "Requirement already satisfied: textsearch>=0.0.21 in /home/andrea/anaconda3/lib/python3.9/site-packages (from contractions) (0.0.24)\n",
      "Requirement already satisfied: pyahocorasick in /home/andrea/anaconda3/lib/python3.9/site-packages (from textsearch>=0.0.21->contractions) (2.0.0)\n",
      "Requirement already satisfied: anyascii in /home/andrea/anaconda3/lib/python3.9/site-packages (from textsearch>=0.0.21->contractions) (0.3.2)\n",
      "Requirement already satisfied: langdetect in /home/andrea/anaconda3/lib/python3.9/site-packages (1.0.9)\n",
      "Requirement already satisfied: six in /home/andrea/anaconda3/lib/python3.9/site-packages (from langdetect) (1.16.0)\n",
      "Reading package lists... Done\n",
      "\u001b[1;31mE: \u001b[0mCould not open lock file /var/lib/apt/lists/lock - open (13: Permission denied)\u001b[0m\n",
      "\u001b[1;31mE: \u001b[0mUnable to lock directory /var/lib/apt/lists/\u001b[0m\n",
      "\u001b[1;33mW: \u001b[0mProblem unlinking the file /var/cache/apt/pkgcache.bin - RemoveCaches (13: Permission denied)\u001b[0m\n",
      "\u001b[1;33mW: \u001b[0mProblem unlinking the file /var/cache/apt/srcpkgcache.bin - RemoveCaches (13: Permission denied)\u001b[0m\n",
      "\u001b[1;31mE: \u001b[0mCould not open lock file /var/lib/dpkg/lock-frontend - open (13: Permission denied)\u001b[0m\n",
      "\u001b[1;31mE: \u001b[0mUnable to acquire the dpkg frontend lock (/var/lib/dpkg/lock-frontend), are you root?\u001b[0m\n",
      "\u001b[1;31mE: \u001b[0mCould not open lock file /var/lib/dpkg/lock-frontend - open (13: Permission denied)\u001b[0m\n",
      "\u001b[1;31mE: \u001b[0mUnable to acquire the dpkg frontend lock (/var/lib/dpkg/lock-frontend), are you root?\u001b[0m\n",
      "Requirement already satisfied: pyenchant in /home/andrea/anaconda3/lib/python3.9/site-packages (3.2.2)\n",
      "Requirement already satisfied: pyenchant in /home/andrea/anaconda3/lib/python3.9/site-packages (3.2.2)\n",
      "Requirement already satisfied: scikeras in /home/andrea/anaconda3/lib/python3.9/site-packages (0.10.0)\n",
      "Requirement already satisfied: scikit-learn>=1.0.0 in /home/andrea/anaconda3/lib/python3.9/site-packages (from scikeras) (1.0.2)\n",
      "Requirement already satisfied: packaging>=0.21 in /home/andrea/anaconda3/lib/python3.9/site-packages (from scikeras) (21.3)\n",
      "Requirement already satisfied: pyparsing!=3.0.5,>=2.0.2 in /home/andrea/anaconda3/lib/python3.9/site-packages (from packaging>=0.21->scikeras) (3.0.9)\n",
      "Requirement already satisfied: scipy>=1.1.0 in /home/andrea/anaconda3/lib/python3.9/site-packages (from scikit-learn>=1.0.0->scikeras) (1.7.3)\n",
      "Requirement already satisfied: joblib>=0.11 in /home/andrea/anaconda3/lib/python3.9/site-packages (from scikit-learn>=1.0.0->scikeras) (1.2.0)\n",
      "Requirement already satisfied: threadpoolctl>=2.0.0 in /home/andrea/anaconda3/lib/python3.9/site-packages (from scikit-learn>=1.0.0->scikeras) (2.2.0)\n",
      "Requirement already satisfied: numpy>=1.14.6 in /home/andrea/anaconda3/lib/python3.9/site-packages (from scikit-learn>=1.0.0->scikeras) (1.22.4)\n"
     ]
    }
   ],
   "source": [
    "!pip install contractions\n",
    "!pip install langdetect\n",
    "\n",
    "!apt update\n",
    "!apt install enchant --fix-missing\n",
    "!apt install -qq enchant\n",
    "!pip install pyenchant\n",
    "\n",
    "!pip install pyenchant\n",
    "!pip install scikeras\n"
   ]
  },
  {
   "cell_type": "code",
   "execution_count": 2,
   "metadata": {
    "colab": {
     "base_uri": "https://localhost:8080/"
    },
    "executionInfo": {
     "elapsed": 633,
     "status": "ok",
     "timestamp": 1688312238644,
     "user": {
      "displayName": "ANDREA LOLLI",
      "userId": "08743711697490110255"
     },
     "user_tz": -120
    },
    "id": "T6rLFiKNAFGh",
    "outputId": "9cf3c8f3-e4b8-47f7-a2ba-bbff027e7654"
   },
   "outputs": [
    {
     "name": "stderr",
     "output_type": "stream",
     "text": [
      "[nltk_data] Downloading package punkt to /home/andrea/nltk_data...\n",
      "[nltk_data]   Package punkt is already up-to-date!\n",
      "[nltk_data] Downloading package wordnet to /home/andrea/nltk_data...\n",
      "[nltk_data]   Package wordnet is already up-to-date!\n",
      "[nltk_data] Downloading package stopwords to /home/andrea/nltk_data...\n",
      "[nltk_data]   Package stopwords is already up-to-date!\n"
     ]
    }
   ],
   "source": [
    "from tensorflow.keras.models import Sequential, Model\n",
    "from tensorflow.keras.layers import Input, Embedding, GRU, Flatten, Dense, BatchNormalization, Dropout, Concatenate, Lambda\n",
    "from tensorflow.keras.utils import to_categorical\n",
    "\n",
    "from scikeras.wrappers import KerasClassifier\n",
    "from scipy.linalg import svd\n",
    "\n",
    "from sklearn.impute import SimpleImputer\n",
    "from sklearn.preprocessing import OneHotEncoder, MinMaxScaler\n",
    "from sklearn.model_selection import train_test_split, GridSearchCV\n",
    "from sklearn.decomposition import PCA\n",
    "from sklearn.metrics import accuracy_score, f1_score, precision_recall_curve, roc_curve, confusion_matrix\n",
    "\n",
    "import nltk\n",
    "from nltk.corpus import stopwords\n",
    "from nltk.tokenize import word_tokenize\n",
    "nltk.download('punkt')\n",
    "nltk.download('wordnet')\n",
    "nltk.download('stopwords')\n",
    "\n",
    "import pandas as pd\n",
    "import numpy as np\n",
    "import matplotlib.pyplot as plt\n",
    "import seaborn as sns\n",
    "\n",
    "\n",
    "from collections import defaultdict, Counter\n",
    "import enchant\n",
    "import contractions\n",
    "import re\n",
    "\n",
    "%matplotlib inline"
   ]
  },
  {
   "cell_type": "markdown",
   "metadata": {
    "id": "sgANGPkuCOI3"
   },
   "source": [
    "# 1) Input\n",
    "- **Which fields to be used to predict the rating?**\n",
    "\n",
    "For the purpose of predicting the rating, three key fields have been selected: \"Review_Text,\" \"Year_Month,\" and \"Branch.\" Each of these fields contributes valuable insights to the analysis.\n",
    "\n",
    "The field <code>Review_Text</code> holds utmost significance as it encompasses the primary feature of the dataset. It comprises the customers' feedback and reviews regarding the amusement park. Analyzing the textual data allows for the identification of sentiment, key themes, and specific aspects of the park that are frequently mentioned. Applying appropriate Natural Language Processing (NLP) techniques facilitates the extraction of meaningful information from the text.\n",
    "\n",
    "The <code>Year_Month</code> field provides temporal information, allowing for the observation of patterns and trends over time. By considering the month and year of each review, it becomes possible to identify seasonal variations in customer satisfaction or changes in the park's offerings and management practices that may influence ratings.\n",
    "\n",
    "Additionally, the <code>Branch</code> field indicates the specific location or branch of the amusement park. Analyzing ratings based on different branches enables the identification of potential variations in customer experiences across locations. This analysis may shed light on unique characteristics or operational differences between branches that contribute to differences in customer satisfaction.\n",
    "\n",
    "By incorporating these three fields as input features for rating prediction, the analysis encompasses textual information, temporal trends, and location-specific patterns. This comprehensive approach aims to gain a deeper understanding of the factors influencing customer ratings at the amusement park."
   ]
  },
  {
   "cell_type": "code",
   "execution_count": 3,
   "metadata": {
    "colab": {
     "base_uri": "https://localhost:8080/",
     "height": 206
    },
    "executionInfo": {
     "elapsed": 2079,
     "status": "ok",
     "timestamp": 1688310487937,
     "user": {
      "displayName": "ANDREA LOLLI",
      "userId": "08743711697490110255"
     },
     "user_tz": -120
    },
    "id": "z5jFZVRcxGcW",
    "outputId": "cf29d081-17a0-4018-f627-7dc12abfb4e1"
   },
   "outputs": [
    {
     "data": {
      "text/html": [
       "<div>\n",
       "<style scoped>\n",
       "    .dataframe tbody tr th:only-of-type {\n",
       "        vertical-align: middle;\n",
       "    }\n",
       "\n",
       "    .dataframe tbody tr th {\n",
       "        vertical-align: top;\n",
       "    }\n",
       "\n",
       "    .dataframe thead th {\n",
       "        text-align: right;\n",
       "    }\n",
       "</style>\n",
       "<table border=\"1\" class=\"dataframe\">\n",
       "  <thead>\n",
       "    <tr style=\"text-align: right;\">\n",
       "      <th></th>\n",
       "      <th>Review_ID</th>\n",
       "      <th>Rating</th>\n",
       "      <th>Year_Month</th>\n",
       "      <th>Reviewer_Location</th>\n",
       "      <th>Review_Text</th>\n",
       "      <th>Branch</th>\n",
       "    </tr>\n",
       "  </thead>\n",
       "  <tbody>\n",
       "    <tr>\n",
       "      <th>0</th>\n",
       "      <td>670772142</td>\n",
       "      <td>4</td>\n",
       "      <td>2019-4</td>\n",
       "      <td>Australia</td>\n",
       "      <td>If you've ever been to Disneyland anywhere you...</td>\n",
       "      <td>Disneyland_HongKong</td>\n",
       "    </tr>\n",
       "    <tr>\n",
       "      <th>1</th>\n",
       "      <td>670682799</td>\n",
       "      <td>4</td>\n",
       "      <td>2019-5</td>\n",
       "      <td>Philippines</td>\n",
       "      <td>Its been a while since d last time we visit HK...</td>\n",
       "      <td>Disneyland_HongKong</td>\n",
       "    </tr>\n",
       "    <tr>\n",
       "      <th>2</th>\n",
       "      <td>670623270</td>\n",
       "      <td>4</td>\n",
       "      <td>2019-4</td>\n",
       "      <td>United Arab Emirates</td>\n",
       "      <td>Thanks God it wasn   t too hot or too humid wh...</td>\n",
       "      <td>Disneyland_HongKong</td>\n",
       "    </tr>\n",
       "    <tr>\n",
       "      <th>3</th>\n",
       "      <td>670607911</td>\n",
       "      <td>4</td>\n",
       "      <td>2019-4</td>\n",
       "      <td>Australia</td>\n",
       "      <td>HK Disneyland is a great compact park. Unfortu...</td>\n",
       "      <td>Disneyland_HongKong</td>\n",
       "    </tr>\n",
       "    <tr>\n",
       "      <th>4</th>\n",
       "      <td>670607296</td>\n",
       "      <td>4</td>\n",
       "      <td>2019-4</td>\n",
       "      <td>United Kingdom</td>\n",
       "      <td>the location is not in the city, took around 1...</td>\n",
       "      <td>Disneyland_HongKong</td>\n",
       "    </tr>\n",
       "  </tbody>\n",
       "</table>\n",
       "</div>"
      ],
      "text/plain": [
       "   Review_ID  Rating Year_Month     Reviewer_Location  \\\n",
       "0  670772142       4     2019-4             Australia   \n",
       "1  670682799       4     2019-5           Philippines   \n",
       "2  670623270       4     2019-4  United Arab Emirates   \n",
       "3  670607911       4     2019-4             Australia   \n",
       "4  670607296       4     2019-4        United Kingdom   \n",
       "\n",
       "                                         Review_Text               Branch  \n",
       "0  If you've ever been to Disneyland anywhere you...  Disneyland_HongKong  \n",
       "1  Its been a while since d last time we visit HK...  Disneyland_HongKong  \n",
       "2  Thanks God it wasn   t too hot or too humid wh...  Disneyland_HongKong  \n",
       "3  HK Disneyland is a great compact park. Unfortu...  Disneyland_HongKong  \n",
       "4  the location is not in the city, took around 1...  Disneyland_HongKong  "
      ]
     },
     "execution_count": 3,
     "metadata": {},
     "output_type": "execute_result"
    }
   ],
   "source": [
    "# Read dataset\n",
    "df = pd.read_csv(\"https://github.com/MikiTwenty/Python/blob/main/Colab/DL-Exam/parkReviews.csv?raw=true\", encoding='latin-1')\n",
    "df = df.replace('missing', np.nan)\n",
    "df.head()"
   ]
  },
  {
   "cell_type": "code",
   "execution_count": 4,
   "metadata": {
    "colab": {
     "base_uri": "https://localhost:8080/"
    },
    "executionInfo": {
     "elapsed": 9,
     "status": "ok",
     "timestamp": 1688310487938,
     "user": {
      "displayName": "ANDREA LOLLI",
      "userId": "08743711697490110255"
     },
     "user_tz": -120
    },
    "id": "nQ4v62ZqAGun",
    "outputId": "43654e6c-3f7b-4d39-ef80-4cf9c09cdd17"
   },
   "outputs": [
    {
     "name": "stdout",
     "output_type": "stream",
     "text": [
      "len(X): 8532\n",
      "len(y): 8532\n",
      "\n"
     ]
    }
   ],
   "source": [
    "# extract reviews, year, month, branch and labels\n",
    "\n",
    "X = df[['Review_Text', 'Year_Month', 'Branch']]\n",
    "       \n",
    "y = df['Rating']\n",
    "\n",
    "# Create a copy of X before modifying it\n",
    "X_copy = X.copy()\n",
    "\n",
    "\n",
    "# Reduce dataset size by 80%\n",
    "X_trash, X_cut, y_trash, y_cut = train_test_split(X_copy, y, test_size=0.2, stratify=y, random_state=42)\n",
    "\n",
    "# Rename reduced dataset\n",
    "X, y = X_cut, y_cut\n",
    "\n",
    "print(f\"len(X): {len(X)}\")\n",
    "print(f\"len(y): {len(y)}\\n\")"
   ]
  },
  {
   "cell_type": "code",
   "execution_count": 5,
   "metadata": {},
   "outputs": [
    {
     "data": {
      "text/html": [
       "<div>\n",
       "<style scoped>\n",
       "    .dataframe tbody tr th:only-of-type {\n",
       "        vertical-align: middle;\n",
       "    }\n",
       "\n",
       "    .dataframe tbody tr th {\n",
       "        vertical-align: top;\n",
       "    }\n",
       "\n",
       "    .dataframe thead th {\n",
       "        text-align: right;\n",
       "    }\n",
       "</style>\n",
       "<table border=\"1\" class=\"dataframe\">\n",
       "  <thead>\n",
       "    <tr style=\"text-align: right;\">\n",
       "      <th></th>\n",
       "      <th>Review_Text</th>\n",
       "      <th>Year_Month</th>\n",
       "      <th>Branch</th>\n",
       "    </tr>\n",
       "  </thead>\n",
       "  <tbody>\n",
       "    <tr>\n",
       "      <th>31462</th>\n",
       "      <td>How Disney can be rated anything other than 5*...</td>\n",
       "      <td>2017-7</td>\n",
       "      <td>Disneyland_Paris</td>\n",
       "    </tr>\n",
       "    <tr>\n",
       "      <th>29019</th>\n",
       "      <td>I have been fortunate enough to be able to vis...</td>\n",
       "      <td>NaN</td>\n",
       "      <td>Disneyland_California</td>\n",
       "    </tr>\n",
       "    <tr>\n",
       "      <th>18701</th>\n",
       "      <td>Always fun, always clean, always a thrill. The...</td>\n",
       "      <td>2014-7</td>\n",
       "      <td>Disneyland_California</td>\n",
       "    </tr>\n",
       "    <tr>\n",
       "      <th>2708</th>\n",
       "      <td>Slightly disappointed during our visit to Disn...</td>\n",
       "      <td>2017-2</td>\n",
       "      <td>Disneyland_HongKong</td>\n",
       "    </tr>\n",
       "    <tr>\n",
       "      <th>32737</th>\n",
       "      <td>We booked tickets for Disneyland Paris for a d...</td>\n",
       "      <td>2016-12</td>\n",
       "      <td>Disneyland_Paris</td>\n",
       "    </tr>\n",
       "  </tbody>\n",
       "</table>\n",
       "</div>"
      ],
      "text/plain": [
       "                                             Review_Text Year_Month  \\\n",
       "31462  How Disney can be rated anything other than 5*...     2017-7   \n",
       "29019  I have been fortunate enough to be able to vis...        NaN   \n",
       "18701  Always fun, always clean, always a thrill. The...     2014-7   \n",
       "2708   Slightly disappointed during our visit to Disn...     2017-2   \n",
       "32737  We booked tickets for Disneyland Paris for a d...    2016-12   \n",
       "\n",
       "                      Branch  \n",
       "31462       Disneyland_Paris  \n",
       "29019  Disneyland_California  \n",
       "18701  Disneyland_California  \n",
       "2708     Disneyland_HongKong  \n",
       "32737       Disneyland_Paris  "
      ]
     },
     "execution_count": 5,
     "metadata": {},
     "output_type": "execute_result"
    }
   ],
   "source": [
    "X.head()"
   ]
  },
  {
   "cell_type": "code",
   "execution_count": 6,
   "metadata": {
    "executionInfo": {
     "elapsed": 7,
     "status": "ok",
     "timestamp": 1688310487938,
     "user": {
      "displayName": "ANDREA LOLLI",
      "userId": "08743711697490110255"
     },
     "user_tz": -120
    },
    "id": "a9gwDLDAAKAx"
   },
   "outputs": [],
   "source": [
    "# Define function to get statistics about reviews\n",
    "\n",
    "def get_max_mean(reviews):\n",
    "\n",
    "    # Max Number of Words\n",
    "    max_n_words = max([len(review.split()) for review in reviews])\n",
    "\n",
    "    # Mean Number of Words\n",
    "    tot_n_word=0\n",
    "    for review in reviews:\n",
    "        tot_n_word += len(review.split())\n",
    "\n",
    "    mean_n_words = tot_n_word / len(reviews)\n",
    "\n",
    "    return max_n_words, mean_n_words"
   ]
  },
  {
   "cell_type": "code",
   "execution_count": 7,
   "metadata": {
    "colab": {
     "base_uri": "https://localhost:8080/"
    },
    "executionInfo": {
     "elapsed": 320,
     "status": "ok",
     "timestamp": 1688310488251,
     "user": {
      "displayName": "ANDREA LOLLI",
      "userId": "08743711697490110255"
     },
     "user_tz": -120
    },
    "id": "umCCTk6uALp4",
    "outputId": "8602b9ba-49c0-4b84-cfd4-06a1510d5842"
   },
   "outputs": [
    {
     "name": "stdout",
     "output_type": "stream",
     "text": [
      "mean_n_words: 130.45\n",
      "max_n_words: 3278\n"
     ]
    }
   ],
   "source": [
    "# Review_Text Statistics\n",
    "max_n_words, mean_n_words = get_max_mean(X['Review_Text'])\n",
    "\n",
    "print(f\"mean_n_words: {round(mean_n_words, 2)}\")\n",
    "print(f\"max_n_words: {max_n_words}\")"
   ]
  },
  {
   "cell_type": "markdown",
   "metadata": {
    "id": "Ad2pS2JVD05P"
   },
   "source": [
    "- **How to (possibly) process/transform each field used?**\n",
    "\n",
    "\n",
    "**Text:**\n",
    "\n",
    "1. Lowercasing: Convert all words to lowercase to ensure consistency and avoid duplication based on case sensitivity.\n",
    "2. Handling Contractions: Expand or resolve contractions and abbreviated forms of words to maintain standardization and improve text understanding.\n",
    "3. Removal of Punctuation: Delete punctuation marks from the text to focus on the actual words and reduce noise.\n",
    "4. Stop Word Removal: Eliminate common words, known as stop words, from the text as they often carry little semantic meaning and can be safely disregarded.\n",
    "\n",
    "After analyzing the textual data and plotting the most frequent words in the reviews, it is advisable to remove the following words:\n",
    "\n",
    "- Words that appear frequently: These words may not contribute much to the predictive power as they are likely generic terms.\n",
    "- Words that appear only once: These words are not likely to provide meaningful insights due to their infrequency.\n",
    "- Words composed of two letters or less: Such short words are often prepositions or conjunctions that don't carry substantial semantic value.\n",
    "- Words that do not belong to the English vocabulary: Removing non-English words ensures the focus remains on relevant terms within the given context.\n",
    "\n",
    "**Branch:**\n",
    "Apply one-hot encoding to represent the \"Branch\" feature as a three-dimensional vector. Afterwards, drop the first column to reduce the dimensionality while preserving the necessary information.\n",
    "\n",
    "**Year_Month:**\n",
    "\n",
    "1. SimpleImputer(strategy='most_frequent'): Fill any missing values in the \"Year_Month\" feature using the most frequent value, ensuring completeness of the dataset.\n",
    "2. Split in two columns: Split the \"Year_Month\" feature into two separate columns, namely \"Year\" and \"Month,\" to facilitate temporal analysis.\n",
    "3. Apply normalization: Normalize the \"Year\" and \"Month\" columns using an appropriate scaling technique to bring the values within a specific range and ensure uniformity for further analysis."
   ]
  },
  {
   "cell_type": "markdown",
   "metadata": {},
   "source": [
    "### TEXT"
   ]
  },
  {
   "cell_type": "code",
   "execution_count": 8,
   "metadata": {
    "executionInfo": {
     "elapsed": 4,
     "status": "ok",
     "timestamp": 1688310488251,
     "user": {
      "displayName": "ANDREA LOLLI",
      "userId": "08743711697490110255"
     },
     "user_tz": -120
    },
    "id": "KpfAY48oAul7"
   },
   "outputs": [],
   "source": [
    "# Lowercasing\n",
    "REVIEWS = [review.lower() for review in X['Review_Text']]"
   ]
  },
  {
   "cell_type": "code",
   "execution_count": 9,
   "metadata": {
    "executionInfo": {
     "elapsed": 682,
     "status": "ok",
     "timestamp": 1688310488929,
     "user": {
      "displayName": "ANDREA LOLLI",
      "userId": "08743711697490110255"
     },
     "user_tz": -120
    },
    "id": "FOkwuISHAv0r"
   },
   "outputs": [],
   "source": [
    "# Handling Contractions\n",
    "REVIEWS = [contractions.fix(review) for review in REVIEWS]"
   ]
  },
  {
   "cell_type": "code",
   "execution_count": 10,
   "metadata": {
    "executionInfo": {
     "elapsed": 338,
     "status": "ok",
     "timestamp": 1688310489265,
     "user": {
      "displayName": "ANDREA LOLLI",
      "userId": "08743711697490110255"
     },
     "user_tz": -120
    },
    "id": "XIS31ZPQAw8M"
   },
   "outputs": [],
   "source": [
    "# Removal of punctuation\n",
    "def remove_punctuation(text):\n",
    "    no_punct = re.sub(r\"[^\\w\\s]\", \"\", text)\n",
    "    return no_punct\n",
    "\n",
    "REVIEWS = [remove_punctuation(review) for review in REVIEWS]"
   ]
  },
  {
   "cell_type": "code",
   "execution_count": 11,
   "metadata": {
    "executionInfo": {
     "elapsed": 15568,
     "status": "ok",
     "timestamp": 1688310504830,
     "user": {
      "displayName": "ANDREA LOLLI",
      "userId": "08743711697490110255"
     },
     "user_tz": -120
    },
    "id": "WmX-uWhrAx-5"
   },
   "outputs": [],
   "source": [
    "## Stop word removal\n",
    "def remove_stopwords(sentence):\n",
    "    stop_words = set(stopwords.words('english'))\n",
    "    tokens = word_tokenize(sentence)\n",
    "    filtered_tokens = [word for word in tokens if word.casefold() not in stop_words]\n",
    "    filtered_sentence = ' '.join(filtered_tokens)\n",
    "    return filtered_sentence\n",
    "\n",
    "REVIEWS = [remove_stopwords(review) for review in REVIEWS]"
   ]
  },
  {
   "cell_type": "code",
   "execution_count": 12,
   "metadata": {
    "colab": {
     "base_uri": "https://localhost:8080/"
    },
    "executionInfo": {
     "elapsed": 15,
     "status": "ok",
     "timestamp": 1688310504831,
     "user": {
      "displayName": "ANDREA LOLLI",
      "userId": "08743711697490110255"
     },
     "user_tz": -120
    },
    "id": "uDMpVRLIA4VN",
    "outputId": "c232bfda-7087-437f-9e72-8bd992136e47"
   },
   "outputs": [
    {
     "name": "stdout",
     "output_type": "stream",
     "text": [
      "mean_n_words: 65.99\n",
      "max_n_words: 1557\n"
     ]
    }
   ],
   "source": [
    "# Reviews Statistics\n",
    "max_n_words, mean_n_words = get_max_mean(REVIEWS)\n",
    "\n",
    "print(f\"mean_n_words: {round(mean_n_words, 2)}\")\n",
    "print(f\"max_n_words: {max_n_words}\")"
   ]
  },
  {
   "cell_type": "code",
   "execution_count": 13,
   "metadata": {
    "executionInfo": {
     "elapsed": 500,
     "status": "ok",
     "timestamp": 1688310505325,
     "user": {
      "displayName": "ANDREA LOLLI",
      "userId": "08743711697490110255"
     },
     "user_tz": -120
    },
    "id": "fLyXRSqQA7xw"
   },
   "outputs": [],
   "source": [
    "# Word count\n",
    "word_counter = Counter()\n",
    "\n",
    "# Iterate over each sentence and update the word counts\n",
    "for review in REVIEWS:\n",
    "    words = review.split()\n",
    "    word_counter.update(words)"
   ]
  },
  {
   "cell_type": "code",
   "execution_count": 14,
   "metadata": {
    "executionInfo": {
     "elapsed": 337,
     "status": "ok",
     "timestamp": 1688310509149,
     "user": {
      "displayName": "ANDREA LOLLI",
      "userId": "08743711697490110255"
     },
     "user_tz": -120
    },
    "id": "idq-OGYoA-Gc"
   },
   "outputs": [],
   "source": [
    "# Sort the word_counter in decreasing order by count\n",
    "SORTED_COUNTS = sorted(word_counter.items(), key=lambda x: x[1], reverse=True)\n",
    "\n",
    "# Separate the words and counts into separate lists\n",
    "words = [word for word, count in SORTED_COUNTS]\n",
    "counts = [count for word, count in SORTED_COUNTS]"
   ]
  },
  {
   "cell_type": "code",
   "execution_count": 15,
   "metadata": {
    "colab": {
     "base_uri": "https://localhost:8080/",
     "height": 626
    },
    "executionInfo": {
     "elapsed": 916,
     "status": "ok",
     "timestamp": 1688310511272,
     "user": {
      "displayName": "ANDREA LOLLI",
      "userId": "08743711697490110255"
     },
     "user_tz": -120
    },
    "id": "TiDVGBu8BEET",
    "outputId": "d94f1aff-0600-4aa9-b3dc-904a516ab82f"
   },
   "outputs": [
    {
     "data": {
      "image/png": "[encoded data removed]",
      "text/plain": [
       "<Figure size 1000x600 with 1 Axes>"
      ]
     },
     "metadata": {},
     "output_type": "display_data"
    }
   ],
   "source": [
    "# Plot the word counts in a bar plot\n",
    "plt.figure(figsize=(10, 6))\n",
    "plt.bar(words[:20], counts[:20])\n",
    "\n",
    "plt.xlabel('Words')\n",
    "plt.ylabel('Counts')\n",
    "plt.title('Word Counts')\n",
    "plt.xticks(rotation=90)\n",
    "\n",
    "plt.show()"
   ]
  },
  {
   "cell_type": "code",
   "execution_count": 16,
   "metadata": {
    "colab": {
     "base_uri": "https://localhost:8080/"
    },
    "executionInfo": {
     "elapsed": 439,
     "status": "ok",
     "timestamp": 1688310513173,
     "user": {
      "displayName": "ANDREA LOLLI",
      "userId": "08743711697490110255"
     },
     "user_tz": -120
    },
    "id": "_ZniuLy6BMcC",
    "outputId": "bb376f5d-74d1-4486-d3b3-9c30d75acfd0"
   },
   "outputs": [
    {
     "data": {
      "text/plain": [
       "(27415, 8605)"
      ]
     },
     "execution_count": 16,
     "metadata": {},
     "output_type": "execute_result"
    }
   ],
   "source": [
    "dictionary = enchant.Dict(\"en_US\")\n",
    "filtered_word_counts = []\n",
    "\n",
    "# Words that appear more than once\n",
    "filtered_word_counts = [(word, count) for word, count in SORTED_COUNTS if count > 1]\n",
    "\n",
    "# Words with more than 2 characters\n",
    "filtered_word_counts = [(word, count) for word, count in filtered_word_counts if len(word) > 2]\n",
    "\n",
    "# Words which are in the english vocabulary\n",
    "filtered_word_counts = [(word, count) for word, count in filtered_word_counts if dictionary.check(word)]\n",
    "\n",
    "len(SORTED_COUNTS), len(filtered_word_counts)"
   ]
  },
  {
   "cell_type": "code",
   "execution_count": 17,
   "metadata": {
    "colab": {
     "base_uri": "https://localhost:8080/"
    },
    "executionInfo": {
     "elapsed": 407,
     "status": "ok",
     "timestamp": 1688310514692,
     "user": {
      "displayName": "ANDREA LOLLI",
      "userId": "08743711697490110255"
     },
     "user_tz": -120
    },
    "id": "EYnmyY-kCwdF",
    "outputId": "2dfa4682-0195-45f1-a67a-84b69fc111db"
   },
   "outputs": [
    {
     "name": "stdout",
     "output_type": "stream",
     "text": [
      "len(most_freq_words) = 4\n",
      "len(unique_words) = 15995\n",
      "len(short_words) = 370\n",
      "len(non_english_words) = 14248\n",
      "\n",
      "Total unique words = 27415\n",
      "len(useless_words) = 18812\n",
      "\n",
      "Remaining words after processing = 8603\n"
     ]
    }
   ],
   "source": [
    "most_freq_words = ['park', 'disney', 'rides', 'disneyland']\n",
    "unique_words = [word for word,count in SORTED_COUNTS if count == 1]\n",
    "short_words = [word for word, count in SORTED_COUNTS if len(word) <= 2]\n",
    "non_english_words = [word for word,count in SORTED_COUNTS if not dictionary.check(word)]\n",
    "\n",
    "\n",
    "words_to_remove = []\n",
    "words_to_remove.extend(most_freq_words)\n",
    "words_to_remove.extend(unique_words)\n",
    "words_to_remove.extend(short_words)\n",
    "words_to_remove.extend(non_english_words)\n",
    "words_to_remove = set(words_to_remove)\n",
    "\n",
    "print(f\"len(most_freq_words) = {len(most_freq_words)}\")\n",
    "print(f\"len(unique_words) = {len(unique_words)}\")\n",
    "print(f\"len(short_words) = {len(short_words)}\")\n",
    "print(f\"len(non_english_words) = {len(non_english_words)}\\n\")\n",
    "\n",
    "print(f\"Total unique words = {len(SORTED_COUNTS)}\")\n",
    "print(f\"len(useless_words) = {len(words_to_remove)}\\n\")\n",
    "\n",
    "print(f\"Remaining words after processing = {len(SORTED_COUNTS) - len(words_to_remove)}\")"
   ]
  },
  {
   "cell_type": "code",
   "execution_count": 18,
   "metadata": {
    "executionInfo": {
     "elapsed": 460,
     "status": "ok",
     "timestamp": 1688310517250,
     "user": {
      "displayName": "ANDREA LOLLI",
      "userId": "08743711697490110255"
     },
     "user_tz": -120
    },
    "id": "pViY19wvCwzH"
   },
   "outputs": [],
   "source": [
    "filtered_reviews = []\n",
    "\n",
    "for r in REVIEWS:\n",
    "    filtered_review = []\n",
    "    words = r.split()\n",
    "    for w in words:\n",
    "        if w in words_to_remove:\n",
    "            continue\n",
    "        filtered_review.append(w)\n",
    "\n",
    "    filtered_review = \" \".join(filtered_review)\n",
    "    filtered_reviews.append(filtered_review)"
   ]
  },
  {
   "cell_type": "code",
   "execution_count": 19,
   "metadata": {
    "colab": {
     "base_uri": "https://localhost:8080/"
    },
    "executionInfo": {
     "elapsed": 403,
     "status": "ok",
     "timestamp": 1688310520064,
     "user": {
      "displayName": "ANDREA LOLLI",
      "userId": "08743711697490110255"
     },
     "user_tz": -120
    },
    "id": "jIEnZKskCysb",
    "outputId": "228540c3-6593-40d6-de51-c6753bae745d"
   },
   "outputs": [
    {
     "name": "stdout",
     "output_type": "stream",
     "text": [
      "mean_n_words: 54.44\n",
      "max_n_words: 1239\n"
     ]
    }
   ],
   "source": [
    "# Filtered Reviews Statistics\n",
    "max_n_words, mean_n_words = get_max_mean(filtered_reviews)\n",
    "\n",
    "print(f\"mean_n_words: {round(mean_n_words, 2)}\")\n",
    "print(f\"max_n_words: {max_n_words}\")"
   ]
  },
  {
   "cell_type": "code",
   "execution_count": 20,
   "metadata": {},
   "outputs": [],
   "source": [
    " #cut reviews at 60 words\n",
    "cut_reviews = []\n",
    "\n",
    "MAX_LENGTH = 60\n",
    "\n",
    "for r in filtered_reviews:\n",
    "    LENGTH = len(r.split())\n",
    "\n",
    "    if LENGTH > MAX_LENGTH:\n",
    "        r = \" \".join(r.split()[:MAX_LENGTH])\n",
    "        cut_reviews.append(r)\n",
    "        continue\n",
    "\n",
    "    if LENGTH < 60:\n",
    "        r = r.split() + [\"<UNK>\"] * (MAX_LENGTH - LENGTH)\n",
    "        cut_reviews.append(\" \".join(r))\n",
    "        continue\n",
    "\n",
    "    else:\n",
    "        cut_reviews.append(r)"
   ]
  },
  {
   "cell_type": "code",
   "execution_count": 21,
   "metadata": {},
   "outputs": [
    {
     "data": {
      "text/plain": [
       "'rated anything beyond magical exciting fun something new unexpected around every corner new shows parades different seasons along different characters meet every day keep fresh new extra magic hours perfection option take advantage bit quieter definitely extra special wait til saved enough pennies place <UNK> <UNK> <UNK> <UNK> <UNK> <UNK> <UNK> <UNK> <UNK> <UNK> <UNK> <UNK> <UNK> <UNK> <UNK> <UNK>'"
      ]
     },
     "execution_count": 21,
     "metadata": {},
     "output_type": "execute_result"
    }
   ],
   "source": [
    "cut_reviews[0]"
   ]
  },
  {
   "cell_type": "code",
   "execution_count": 22,
   "metadata": {
    "executionInfo": {
     "elapsed": 452,
     "status": "ok",
     "timestamp": 1688310751511,
     "user": {
      "displayName": "ANDREA LOLLI",
      "userId": "08743711697490110255"
     },
     "user_tz": -120
    },
    "id": "Hu33nhRJC2pK"
   },
   "outputs": [],
   "source": [
    "def compute_co_occurrence_matrix(reviews, window_size):\n",
    "    co_occurrence_matrix = defaultdict(int)\n",
    "\n",
    "    for review in reviews:\n",
    "\n",
    "        words = review.split()\n",
    "\n",
    "        for i, word in enumerate(words):\n",
    "\n",
    "            start = max(0, i - window_size + 1)\n",
    "            end = min(len(words), i + window_size + 1)\n",
    "\n",
    "            context_words = words[start:end]\n",
    "\n",
    "            for context_word in context_words:\n",
    "\n",
    "                if context_word != word:\n",
    "                    co_occurrence_matrix[(word, context_word)] += 1\n",
    "                else:\n",
    "                    co_occurrence_matrix[(word, context_word)] += 0\n",
    "\n",
    "\n",
    "\n",
    "\n",
    "    word_list = sorted(set(word for word, _ in co_occurrence_matrix.keys()))\n",
    "    num_words = len(word_list)\n",
    "\n",
    "    co_occurrence_array = (np.zeros((num_words, num_words), dtype=np.int32))\n",
    "\n",
    "    for (word, context_word), count in co_occurrence_matrix.items():\n",
    "\n",
    "        i = word_list.index(word)\n",
    "        j = word_list.index(context_word)\n",
    "\n",
    "        co_occurrence_array[i,j] = count\n",
    "\n",
    "\n",
    "    # modify \"<UNK>\" vals\n",
    "    i = word_list.index('<UNK>')\n",
    "    co_occurrence_array[:, i] = np.zeros(co_occurrence_array[:, i].shape)\n",
    "    co_occurrence_array[i, :] = np.zeros(co_occurrence_array[i, :].shape)\n",
    "\n",
    "    return co_occurrence_array, word_list"
   ]
  },
  {
   "cell_type": "code",
   "execution_count": 23,
   "metadata": {
    "executionInfo": {
     "elapsed": 320,
     "status": "ok",
     "timestamp": 1688310755569,
     "user": {
      "displayName": "ANDREA LOLLI",
      "userId": "08743711697490110255"
     },
     "user_tz": -120
    },
    "id": "QmN0hn73C4OK"
   },
   "outputs": [],
   "source": [
    "#co_occurrence_array, word_list = compute_co_occurrence_matrix(cut_reviews, window_size=3)\n",
    "#co_occurrence_array"
   ]
  },
  {
   "cell_type": "code",
   "execution_count": 24,
   "metadata": {
    "executionInfo": {
     "elapsed": 2,
     "status": "ok",
     "timestamp": 1688310756003,
     "user": {
      "displayName": "ANDREA LOLLI",
      "userId": "08743711697490110255"
     },
     "user_tz": -120
    },
    "id": "4vMNIxYEC6fO"
   },
   "outputs": [],
   "source": [
    "#co_occurrence_array = co_occurrence_array.astype(float)"
   ]
  },
  {
   "cell_type": "code",
   "execution_count": 25,
   "metadata": {
    "executionInfo": {
     "elapsed": 4,
     "status": "ok",
     "timestamp": 1688310756503,
     "user": {
      "displayName": "ANDREA LOLLI",
      "userId": "08743711697490110255"
     },
     "user_tz": -120
    },
    "id": "zFEqGIItC8YH"
   },
   "outputs": [],
   "source": [
    "# Save co-occurrence matrix\n",
    "#np.save('co_occurrence_matrix.npy', co_occurrence_array)\n",
    "#np.save('word_list.npy', word_list)"
   ]
  },
  {
   "cell_type": "code",
   "execution_count": 26,
   "metadata": {
    "executionInfo": {
     "elapsed": 5,
     "status": "ok",
     "timestamp": 1688310757326,
     "user": {
      "displayName": "ANDREA LOLLI",
      "userId": "08743711697490110255"
     },
     "user_tz": -120
    },
    "id": "Im3mXOtKC-cc"
   },
   "outputs": [],
   "source": [
    "co_occurrence_matrix = np.load('co_occurrence_matrix.npy')\n",
    "word_list = np.load('word_list.npy')"
   ]
  },
  {
   "cell_type": "code",
   "execution_count": 27,
   "metadata": {
    "executionInfo": {
     "elapsed": 4,
     "status": "ok",
     "timestamp": 1688310759350,
     "user": {
      "displayName": "ANDREA LOLLI",
      "userId": "08743711697490110255"
     },
     "user_tz": -120
    },
    "id": "32hZ9PoyDBG3"
   },
   "outputs": [],
   "source": [
    "# pca 100 dimensions\n",
    "#n_components = 100\n",
    "#pca = PCA(n_components=n_components)\n",
    "#co_occurrence_100d = pca.fit_transform(co_occurrence_matrix)\n",
    "\n",
    "# pca 200 dimensions\n",
    "#n_components = 200\n",
    "#pca = PCA(n_components=n_components)\n",
    "#co_occurrence_200d = pca.fit_transform(co_occurrence_matrix)\n",
    "\n",
    "# pca 300 dimensions\n",
    "#n_components = 300\n",
    "#pca = PCA(n_components=n_components)\n",
    "#co_occurrence_300d = pca.fit_transform(co_occurrence_matrix)"
   ]
  },
  {
   "cell_type": "code",
   "execution_count": 28,
   "metadata": {
    "colab": {
     "base_uri": "https://localhost:8080/"
    },
    "executionInfo": {
     "elapsed": 7060,
     "status": "ok",
     "timestamp": 1688310776356,
     "user": {
      "displayName": "ANDREA LOLLI",
      "userId": "08743711697490110255"
     },
     "user_tz": -120
    },
    "id": "xHr8jjY8uQ84",
    "outputId": "c9395d7b-3aab-4823-ee5b-a13c0976282b"
   },
   "outputs": [],
   "source": [
    "# co_occurrence_matrix and its reductions are computed a priori. I'm exporting them from my github to save time.\n",
    "#!git clone https://github.com/andrealolli13/DeepLearning.git"
   ]
  },
  {
   "cell_type": "code",
   "execution_count": 29,
   "metadata": {
    "colab": {
     "base_uri": "https://localhost:8080/"
    },
    "executionInfo": {
     "elapsed": 10,
     "status": "ok",
     "timestamp": 1688310776357,
     "user": {
      "displayName": "ANDREA LOLLI",
      "userId": "08743711697490110255"
     },
     "user_tz": -120
    },
    "id": "k_sIXOgSDEIV",
    "outputId": "1f44ac3e-6619-4b05-ffed-b3c00e510203"
   },
   "outputs": [
    {
     "name": "stdout",
     "output_type": "stream",
     "text": [
      "(8065, 100) (8065, 200) (8065, 300)\n"
     ]
    }
   ],
   "source": [
    "# Save co-occurrence_reduced matrix\n",
    "#np.save('co_occurrence_100d.npy', co_occurrence_100d)\n",
    "#np.save('co_occurrence_200d.npy', co_occurrence_200d)\n",
    "#np.save('co_occurrence_300d.npy', co_occurrence_300d)\n",
    "#\n",
    "co_occurrence_100d = np.load('co_occurrence_100d.npy')\n",
    "co_occurrence_200d = np.load('co_occurrence_200d.npy')\n",
    "co_occurrence_300d = np.load('co_occurrence_300d.npy')\n",
    "\n",
    "\n",
    "# Check the shape of the reduced matrix\n",
    "print(co_occurrence_100d.shape, co_occurrence_200d.shape, co_occurrence_300d.shape)"
   ]
  },
  {
   "cell_type": "code",
   "execution_count": 30,
   "metadata": {
    "executionInfo": {
     "elapsed": 379,
     "status": "ok",
     "timestamp": 1688310809739,
     "user": {
      "displayName": "ANDREA LOLLI",
      "userId": "08743711697490110255"
     },
     "user_tz": -120
    },
    "id": "xniDAW1YDHxZ"
   },
   "outputs": [],
   "source": [
    "## Word to int\n",
    "word_list = np.load('word_list.npy')\n",
    "str_to_int = {w:i for i, w in enumerate(word_list)}\n",
    "int_to_str = {i:w for i, w in enumerate(word_list)}"
   ]
  },
  {
   "cell_type": "code",
   "execution_count": 31,
   "metadata": {
    "executionInfo": {
     "elapsed": 520,
     "status": "ok",
     "timestamp": 1688310810661,
     "user": {
      "displayName": "ANDREA LOLLI",
      "userId": "08743711697490110255"
     },
     "user_tz": -120
    },
    "id": "e1DcFBbODOME"
   },
   "outputs": [],
   "source": [
    "# Tokenization process\n",
    "ENCODED_REVIEWS = []\n",
    "\n",
    "for r in cut_reviews:\n",
    "    words = r.split()\n",
    "    for i, w in enumerate(words, 0):\n",
    "        number = str_to_int[w]\n",
    "        words[i] = number\n",
    "    enc_rev = words\n",
    "    ENCODED_REVIEWS.append(enc_rev)"
   ]
  },
  {
   "cell_type": "markdown",
   "metadata": {},
   "source": [
    "### Year_Month"
   ]
  },
  {
   "cell_type": "code",
   "execution_count": 32,
   "metadata": {
    "scrolled": true
   },
   "outputs": [
    {
     "name": "stdout",
     "output_type": "stream",
     "text": [
      "Missing values in 'Year_Month': 530\n",
      "Missing values in 'Year_Month' after imputation: 0\n"
     ]
    }
   ],
   "source": [
    "year_month = X['Year_Month']\n",
    "print(f\"Missing values in 'Year_Month': {year_month.isnull().sum()}\")\n",
    "\n",
    "# Fix Missing values\n",
    "si = SimpleImputer(strategy='most_frequent')\n",
    "year_month = si.fit_transform(year_month.to_numpy().reshape(-1, 1))\n",
    "year_month = pd.Series(year_month.flatten())\n",
    "\n",
    "print(f\"Missing values in 'Year_Month' after imputation: {year_month.isnull().sum()}\")"
   ]
  },
  {
   "cell_type": "code",
   "execution_count": 33,
   "metadata": {},
   "outputs": [
    {
     "name": "stdout",
     "output_type": "stream",
     "text": [
      "len(year), len(month): (8532, 8532)\n"
     ]
    }
   ],
   "source": [
    "# Split feature in year, month\n",
    "year = np.array([date.split('-')[0] for date in year_month]).astype('float')\n",
    "month = np.array([date.split('-')[1] for date in year_month]).astype('float')\n",
    "\n",
    "print(f\"len(year), len(month): {len(year), len(month)}\")"
   ]
  },
  {
   "cell_type": "code",
   "execution_count": 34,
   "metadata": {},
   "outputs": [],
   "source": [
    "# Normalization\n",
    "def normalize(array):\n",
    "    \n",
    "    maximum = max(array)\n",
    "    minimum = min(array)\n",
    "    \n",
    "    array = (array - minimum)/(maximum - minimum)\n",
    "    \n",
    "    return array"
   ]
  },
  {
   "cell_type": "code",
   "execution_count": 35,
   "metadata": {},
   "outputs": [
    {
     "name": "stdout",
     "output_type": "stream",
     "text": [
      "len(year_mm), len(month_mm): (8532, 8532)\n"
     ]
    },
    {
     "data": {
      "text/plain": [
       "0.7777777777777778"
      ]
     },
     "metadata": {},
     "output_type": "display_data"
    },
    {
     "data": {
      "text/plain": [
       "0.5454545454545454"
      ]
     },
     "metadata": {},
     "output_type": "display_data"
    }
   ],
   "source": [
    "year_mm = normalize(year)\n",
    "month_mm = normalize(month)\n",
    "\n",
    "print(f\"len(year_mm), len(month_mm): {len(year_mm), len(month_mm)}\")\n",
    "display(year_mm[0], month_mm[0])"
   ]
  },
  {
   "cell_type": "markdown",
   "metadata": {},
   "source": [
    "### Branch"
   ]
  },
  {
   "cell_type": "code",
   "execution_count": 36,
   "metadata": {
    "scrolled": true
   },
   "outputs": [
    {
     "name": "stdout",
     "output_type": "stream",
     "text": [
      "branch_encoded.columns: Index(['Disneyland_California', 'Disneyland_HongKong', 'Disneyland_Paris'], dtype='object')\n"
     ]
    },
    {
     "data": {
      "text/html": [
       "<div>\n",
       "<style scoped>\n",
       "    .dataframe tbody tr th:only-of-type {\n",
       "        vertical-align: middle;\n",
       "    }\n",
       "\n",
       "    .dataframe tbody tr th {\n",
       "        vertical-align: top;\n",
       "    }\n",
       "\n",
       "    .dataframe thead th {\n",
       "        text-align: right;\n",
       "    }\n",
       "</style>\n",
       "<table border=\"1\" class=\"dataframe\">\n",
       "  <thead>\n",
       "    <tr style=\"text-align: right;\">\n",
       "      <th></th>\n",
       "      <th>Disneyland_California</th>\n",
       "      <th>Disneyland_HongKong</th>\n",
       "    </tr>\n",
       "  </thead>\n",
       "  <tbody>\n",
       "    <tr>\n",
       "      <th>31462</th>\n",
       "      <td>0</td>\n",
       "      <td>0</td>\n",
       "    </tr>\n",
       "    <tr>\n",
       "      <th>29019</th>\n",
       "      <td>1</td>\n",
       "      <td>0</td>\n",
       "    </tr>\n",
       "    <tr>\n",
       "      <th>18701</th>\n",
       "      <td>1</td>\n",
       "      <td>0</td>\n",
       "    </tr>\n",
       "    <tr>\n",
       "      <th>2708</th>\n",
       "      <td>0</td>\n",
       "      <td>1</td>\n",
       "    </tr>\n",
       "    <tr>\n",
       "      <th>32737</th>\n",
       "      <td>0</td>\n",
       "      <td>0</td>\n",
       "    </tr>\n",
       "    <tr>\n",
       "      <th>...</th>\n",
       "      <td>...</td>\n",
       "      <td>...</td>\n",
       "    </tr>\n",
       "    <tr>\n",
       "      <th>27421</th>\n",
       "      <td>1</td>\n",
       "      <td>0</td>\n",
       "    </tr>\n",
       "    <tr>\n",
       "      <th>41587</th>\n",
       "      <td>0</td>\n",
       "      <td>0</td>\n",
       "    </tr>\n",
       "    <tr>\n",
       "      <th>31950</th>\n",
       "      <td>0</td>\n",
       "      <td>0</td>\n",
       "    </tr>\n",
       "    <tr>\n",
       "      <th>13487</th>\n",
       "      <td>1</td>\n",
       "      <td>0</td>\n",
       "    </tr>\n",
       "    <tr>\n",
       "      <th>3469</th>\n",
       "      <td>0</td>\n",
       "      <td>1</td>\n",
       "    </tr>\n",
       "  </tbody>\n",
       "</table>\n",
       "<p>8532 rows × 2 columns</p>\n",
       "</div>"
      ],
      "text/plain": [
       "       Disneyland_California  Disneyland_HongKong\n",
       "31462                      0                    0\n",
       "29019                      1                    0\n",
       "18701                      1                    0\n",
       "2708                       0                    1\n",
       "32737                      0                    0\n",
       "...                      ...                  ...\n",
       "27421                      1                    0\n",
       "41587                      0                    0\n",
       "31950                      0                    0\n",
       "13487                      1                    0\n",
       "3469                       0                    1\n",
       "\n",
       "[8532 rows x 2 columns]"
      ]
     },
     "execution_count": 36,
     "metadata": {},
     "output_type": "execute_result"
    }
   ],
   "source": [
    "branch = X['Branch']\n",
    "branch\n",
    "\n",
    "# Perform one-hot encoding\n",
    "branch_encoded = pd.get_dummies(branch)\n",
    "print(f\"branch_encoded.columns: {branch_encoded.columns}\")\n",
    "# drop first\n",
    "branch = branch_encoded[['Disneyland_California', 'Disneyland_HongKong']]\n",
    "branch"
   ]
  },
  {
   "cell_type": "code",
   "execution_count": 37,
   "metadata": {},
   "outputs": [],
   "source": [
    "branch_list = [list(ohe) for ohe in branch.values]"
   ]
  },
  {
   "cell_type": "markdown",
   "metadata": {},
   "source": [
    "### Final Data"
   ]
  },
  {
   "cell_type": "code",
   "execution_count": 38,
   "metadata": {
    "scrolled": true
   },
   "outputs": [
    {
     "name": "stdout",
     "output_type": "stream",
     "text": [
      "type(ENCODED_REVIEWS): <class 'list'>\n",
      "type(year_mm): <class 'numpy.ndarray'>\n",
      "type(month_mm): <class 'numpy.ndarray'>\n",
      "type(branch): <class 'pandas.core.frame.DataFrame'>\n"
     ]
    }
   ],
   "source": [
    "print(f\"type(ENCODED_REVIEWS): {type(ENCODED_REVIEWS)}\")\n",
    "print(f\"type(year_mm): {type(year_mm)}\")\n",
    "print(f\"type(month_mm): {type(month_mm)}\")\n",
    "print(f\"type(branch): {type(branch)}\")\n",
    "\n",
    "# transform \n",
    "## ENCODED_REVIEWS --> numpy.ndarray\n",
    "## branch_list --> numpy.ndarray\n",
    "reviews = np.array(ENCODED_REVIEWS)\n",
    "branch = np.array(branch_list)"
   ]
  },
  {
   "cell_type": "code",
   "execution_count": 39,
   "metadata": {},
   "outputs": [
    {
     "name": "stdout",
     "output_type": "stream",
     "text": [
      "reviews.shape: (8532, 60)\n",
      "year_mm.shape: (8532,)\n",
      "month_mm.shape: (8532,)\n",
      "branch.shape: (8532, 2)\n"
     ]
    }
   ],
   "source": [
    "print(f\"reviews.shape: {reviews.shape}\")\n",
    "print(f\"year_mm.shape: {year_mm.shape}\")\n",
    "print(f\"month_mm.shape: {month_mm.shape}\")\n",
    "print(f\"branch.shape: {branch.shape}\")"
   ]
  },
  {
   "cell_type": "code",
   "execution_count": 40,
   "metadata": {},
   "outputs": [
    {
     "data": {
      "text/plain": [
       "True"
      ]
     },
     "metadata": {},
     "output_type": "display_data"
    }
   ],
   "source": [
    "display(len(reviews) == len(branch) == len(year_mm) == len(month_mm))"
   ]
  },
  {
   "cell_type": "code",
   "execution_count": 41,
   "metadata": {},
   "outputs": [
    {
     "name": "stdout",
     "output_type": "stream",
     "text": [
      "(8532, 64)\n"
     ]
    }
   ],
   "source": [
    "# Combine the arrays\n",
    "combined_array = np.concatenate((reviews, year_mm[:, np.newaxis], month_mm[:, np.newaxis], branch), axis=1)\n",
    "\n",
    "# Print the shape of the combined array\n",
    "print(combined_array.shape)"
   ]
  },
  {
   "cell_type": "code",
   "execution_count": 42,
   "metadata": {},
   "outputs": [
    {
     "data": {
      "text/plain": [
       "array([0.77777778, 0.54545455, 0.        , 0.        ])"
      ]
     },
     "metadata": {},
     "output_type": "display_data"
    },
    {
     "data": {
      "text/plain": [
       "0.7777777777777778"
      ]
     },
     "metadata": {},
     "output_type": "display_data"
    },
    {
     "data": {
      "text/plain": [
       "0.5454545454545454"
      ]
     },
     "metadata": {},
     "output_type": "display_data"
    },
    {
     "data": {
      "text/plain": [
       "array([0, 0], dtype=uint8)"
      ]
     },
     "metadata": {},
     "output_type": "display_data"
    }
   ],
   "source": [
    "display(combined_array[0][60:], year_mm[0], month_mm[0], branch[0])"
   ]
  },
  {
   "cell_type": "markdown",
   "metadata": {},
   "source": [
    "- **What is the input of the model, and how is it represented?**\n",
    "\n",
    "**Model input**: The model takes two main inputs: the reviews and the additional features (i.e., \"Year_Month\" and \"Branch\").\n",
    "\n",
    "**Review Input Representation**: To prepare the reviews for the model, several preprocessing steps are applied, including lowercasing, handling contractions, punctuation removal, and stop word removal. After preprocessing, each word in the reviews is assigned a unique integer value based on the vocabulary extracted from our dataset. This integer mapping allows the reviews to be represented as sequences of integers, where each integer corresponds to a specific word in the vocabulary. This representation enables the model to process and analyze the textual data effectively.\n",
    "\n",
    "**Additional Features Representation**:\n",
    "- **Year_Month**: For the \"Year_Month\" feature, any missing values are filled using imputation techniques such as filling with the most frequent value or using forward/backward filling to maintain data completeness.\n",
    "- **Branch**: The \"Branch\" feature is transformed into a one-hot encoded representation, where each branch is represented as a binary vector. This encoding captures the presence or absence of each branch, allowing the model to learn from this categorical information.\n",
    "\n",
    "To incorporate these additional features into the model, their representations are concatenated with the review representations before being passed through the subsequent layers of the model. This way, the model can simultaneously learn from both the reviews and the additional features, leveraging the combined information to make predictions.\n",
    "\n",
    "Please note that the specific implementation details may vary depending on the framework or library used, but the general concept of representing the inputs and incorporating the additional features into the model remains the same."
   ]
  },
  {
   "cell_type": "code",
   "execution_count": 43,
   "metadata": {
    "executionInfo": {
     "elapsed": 416,
     "status": "ok",
     "timestamp": 1688310812552,
     "user": {
      "displayName": "ANDREA LOLLI",
      "userId": "08743711697490110255"
     },
     "user_tz": -120
    },
    "id": "7cZIW-neDRwq"
   },
   "outputs": [],
   "source": [
    "# Transform label from integer to vector representation.\n",
    "y_shifted = y - 1\n",
    "num_classes = len(y_shifted.unique())\n",
    "label = to_categorical(y_shifted, num_classes=num_classes)\n",
    "\n",
    "label = [list(r) for r in label]\n",
    "data = list(combined_array)"
   ]
  },
  {
   "cell_type": "code",
   "execution_count": 44,
   "metadata": {},
   "outputs": [
    {
     "data": {
      "text/plain": [
       "((8532, 64), (8532, 5))"
      ]
     },
     "execution_count": 44,
     "metadata": {},
     "output_type": "execute_result"
    }
   ],
   "source": [
    "data = np.array(data)\n",
    "label = np.array(label)\n",
    "\n",
    "data.shape, label.shape"
   ]
  },
  {
   "cell_type": "markdown",
   "metadata": {
    "id": "maMGnPzlKWH3"
   },
   "source": [
    "# 2) How would you design the output layer?\n",
    "The output layer should have multiple neurons, equal to the number of classes (e.g., 5 neurons for 5-star ratings). Each neuron will represent the probability or confidence score for each class.\n",
    "A suitable activation function for the output layer in this case is softmax, which normalizes the outputs to represent probabilities across the classes."
   ]
  },
  {
   "cell_type": "markdown",
   "metadata": {
    "id": "S1exhdmfRR3X"
   },
   "source": [
    "# 3) Which activation functions and which Loss function would you use?\n",
    "ReLU or other nonlinear activation functions can be used for hidden layers to introduce non-linearity.\n",
    "Since it is a multiclass classification problem, the categorical cross-entropy loss function is commonly used. It measures the dissimilarity between predicted probabilities and true class labels."
   ]
  },
  {
   "cell_type": "markdown",
   "metadata": {
    "id": "NNKkTQu5QQ0L"
   },
   "source": [
    "# 4) Which (possible)  Regularizers, Initializers, Normalizers, etc., and why?\n",
    "Regularization techniques like L1, L2 regularization can still be applied to prevent overfitting and improve generalization. Also a dropout technique can be applied to teach the model to generalize more on the given data.\n",
    "Weight initialization techniques like Xavier or He initialization can be used to ensure stable training.\n",
    "Batch normalization can be beneficial in normalizing activations and accelerating training.\n",
    "As Optimizer Adam (Adaptive Moment Estimation) is a popular optimization algorithm that adapts the learning rate for each parameter based on the estimates of both the first and second moments of the gradients."
   ]
  },
  {
   "cell_type": "code",
   "execution_count": 45,
   "metadata": {
    "executionInfo": {
     "elapsed": 346,
     "status": "ok",
     "timestamp": 1688310824310,
     "user": {
      "displayName": "ANDREA LOLLI",
      "userId": "08743711697490110255"
     },
     "user_tz": -120
    },
    "id": "ILDQTFpUDffV"
   },
   "outputs": [],
   "source": [
    "def create_model(gru_hid_1, n_hid_1, n_hid_2,\n",
    "                 input_shape=None,\n",
    "                 output_shape=None,\n",
    "                 input_length=None,\n",
    "                 embedding_matrix=None,\n",
    "                 learning_rate=10**-1,\n",
    "                 loss='categorical_crossentropy',\n",
    "                 rnn_act='tanh',\n",
    "                 hid_act='relu',\n",
    "                 out_act='softmax',\n",
    "                 dropout_rate=0.1,\n",
    "                 kernel_initializer='glorot_uniform',\n",
    "                 kernel_regularizer='l1',\n",
    "                 optimizer='adam'):\n",
    "\n",
    "    input_layer = Input(shape=input_shape)\n",
    "\n",
    "    reviews = Lambda(lambda x: x[:, :61])(input_layer)\n",
    "    part_2 = Lambda(lambda x: x[:, 61:])(input_layer)\n",
    "\n",
    "    # Model instantiation\n",
    "    embedding = Embedding(input_dim=embedding_matrix.shape[0],  # Replace with the correct value\n",
    "                          output_dim=embedding_matrix.shape[1],  # Replace with the correct value\n",
    "                          weights=[embedding_matrix],\n",
    "                          input_length=input_length,\n",
    "                          trainable=False)(reviews)\n",
    "    \n",
    "    rnn = GRU(\n",
    "        units=gru_hid_1,\n",
    "        activation=rnn_act,\n",
    "        kernel_initializer=kernel_initializer,\n",
    "        kernel_regularizer=kernel_regularizer,\n",
    "        dropout=dropout_rate,\n",
    "        return_sequences=True\n",
    "    )(embedding)\n",
    "    \n",
    "\n",
    "    concat = Concatenate()([flatten, part_2])  # Concatenate flatten and part_2 inputs\n",
    "\n",
    "    dense_1 = Dense(\n",
    "        units=n_hid_1,\n",
    "        activation=hid_act,\n",
    "        kernel_initializer=kernel_initializer,\n",
    "        kernel_regularizer=kernel_regularizer\n",
    "    )(concat)\n",
    "    \n",
    "    bn_1 = BatchNormalization()(dense_1)\n",
    "    dropout_1 = Dropout(dropout_rate)(bn_1)\n",
    "\n",
    "    dense_2 = Dense(\n",
    "        units=n_hid_2,\n",
    "        activation=hid_act,\n",
    "        kernel_initializer=kernel_initializer,\n",
    "        kernel_regularizer=kernel_regularizer\n",
    "    )(dropout_1)\n",
    "    bn_2 = BatchNormalization()(dense_2)\n",
    "    dropout_2 = Dropout(dropout_rate)(bn_2)\n",
    "\n",
    "    output_layer = Dense(\n",
    "        units=output_shape,\n",
    "        activation=out_act\n",
    "    )(dropout_2)\n",
    "\n",
    "    # Model instantiation\n",
    "    model = Model(inputs=input_layer, outputs=output_layer)\n",
    "\n",
    "    # Model compile\n",
    "    model.compile(\n",
    "        loss=loss,\n",
    "        optimizer=optimizer,\n",
    "        metrics=['accuracy']\n",
    "    )\n",
    "\n",
    "    return model"
   ]
  },
  {
   "cell_type": "code",
   "execution_count": 46,
   "metadata": {
    "executionInfo": {
     "elapsed": 358,
     "status": "ok",
     "timestamp": 1688310825315,
     "user": {
      "displayName": "ANDREA LOLLI",
      "userId": "08743711697490110255"
     },
     "user_tz": -120
    },
    "id": "90fLRsCTECxQ"
   },
   "outputs": [],
   "source": [
    "X_train, X_test, y_train, y_test = train_test_split(\n",
    "    data, label,\n",
    "    test_size=0.2,\n",
    "    shuffle=True,\n",
    "    random_state=42)\n",
    "\n",
    "# Split the data into training and validation sets\n",
    "X_train, X_val, y_train, y_val = train_test_split(X_train, y_train, test_size=0.2, random_state=42)"
   ]
  },
  {
   "cell_type": "code",
   "execution_count": 47,
   "metadata": {
    "executionInfo": {
     "elapsed": 1748,
     "status": "ok",
     "timestamp": 1688310828370,
     "user": {
      "displayName": "ANDREA LOLLI",
      "userId": "08743711697490110255"
     },
     "user_tz": -120
    },
    "id": "3uEG6E9qEDJC"
   },
   "outputs": [],
   "source": [
    "model = create_model(gru_hid_1=16, n_hid_1=32, n_hid_2=32,\n",
    "                 input_shape=(64,),\n",
    "                 output_shape=5,\n",
    "                 input_length=60,\n",
    "                 embedding_matrix=co_occurrence_100d)"
   ]
  },
  {
   "cell_type": "code",
   "execution_count": 48,
   "metadata": {
    "colab": {
     "base_uri": "https://localhost:8080/"
    },
    "executionInfo": {
     "elapsed": 45047,
     "status": "ok",
     "timestamp": 1688310874653,
     "user": {
      "displayName": "ANDREA LOLLI",
      "userId": "08743711697490110255"
     },
     "user_tz": -120
    },
    "id": "MacnK9WSEFH7",
    "outputId": "46a336b4-87cc-4a8a-e564-078f6d6bfd94"
   },
   "outputs": [
    {
     "name": "stdout",
     "output_type": "stream",
     "text": [
      "Epoch 1/5\n",
      "171/171 [==============================] - 18s 84ms/step - loss: 13.6961 - accuracy: 0.3568 - val_loss: 7.9057 - val_accuracy: 0.5377\n",
      "Epoch 2/5\n",
      "171/171 [==============================] - 14s 80ms/step - loss: 6.2258 - accuracy: 0.4773 - val_loss: 5.0007 - val_accuracy: 0.5575\n",
      "Epoch 3/5\n",
      "171/171 [==============================] - 15s 86ms/step - loss: 4.4356 - accuracy: 0.5075 - val_loss: 3.8003 - val_accuracy: 0.5524\n",
      "Epoch 4/5\n",
      "171/171 [==============================] - 15s 86ms/step - loss: 3.4434 - accuracy: 0.5258 - val_loss: 3.0409 - val_accuracy: 0.5429\n",
      "Epoch 5/5\n",
      "171/171 [==============================] - 14s 80ms/step - loss: 2.7815 - accuracy: 0.5293 - val_loss: 2.4353 - val_accuracy: 0.5495\n"
     ]
    }
   ],
   "source": [
    "history = model.fit(X_train, y_train, validation_data=(X_val, y_val), batch_size=32, epochs=5, shuffle=True)"
   ]
  },
  {
   "cell_type": "markdown",
   "metadata": {
    "id": "IpIxOkmVVHhx"
   },
   "source": [
    "# 5) On which hyperparameters would you perform the model selection (if any), or why you would not perform it.\n",
    "- Unit in NN and RNN layers.\n",
    "- Learning Rate.\n",
    "- Dropout Rate.\n",
    "- Activation Function.\n",
    "- Batch sizes.\n",
    "- Kernel Regularizers.\n",
    "- Kernel Initializers.\n",
    "- Optimizers."
   ]
  },
  {
   "cell_type": "code",
   "execution_count": 57,
   "metadata": {
    "executionInfo": {
     "elapsed": 334,
     "status": "ok",
     "timestamp": 1688310888882,
     "user": {
      "displayName": "ANDREA LOLLI",
      "userId": "08743711697490110255"
     },
     "user_tz": -120
    },
    "id": "tz9nyCUtuX8-"
   },
   "outputs": [],
   "source": [
    "model = KerasClassifier(\n",
    "    model=create_model,\n",
    "    gru_hid_1=16, n_hid_1=32, n_hid_2=32,\n",
    "    input_shape=(64,),\n",
    "    output_shape=5,\n",
    "    input_length=60,\n",
    "    embedding_matrix=co_occurrence_300d,\n",
    "    epochs=10\n",
    ")"
   ]
  },
  {
   "cell_type": "code",
   "execution_count": 58,
   "metadata": {
    "executionInfo": {
     "elapsed": 3,
     "status": "ok",
     "timestamp": 1688310889235,
     "user": {
      "displayName": "ANDREA LOLLI",
      "userId": "08743711697490110255"
     },
     "user_tz": -120
    },
    "id": "8G-SNNIxEGar"
   },
   "outputs": [],
   "source": [
    "# layer units\n",
    "gru_hid_1 = [32, 64]\n",
    "n_hid_1 = [64, 128]\n",
    "n_hid_2 = [32, 64]\n",
    "\n",
    "param_grid = dict(model__gru_hid_1 = gru_hid_1,\n",
    "                  model__n_hid_1 = n_hid_1,\n",
    "                  model__n_hid_2 = n_hid_2)"
   ]
  },
  {
   "cell_type": "code",
   "execution_count": 59,
   "metadata": {
    "colab": {
     "base_uri": "https://localhost:8080/"
    },
    "executionInfo": {
     "elapsed": 117491,
     "status": "ok",
     "timestamp": 1688311007093,
     "user": {
      "displayName": "ANDREA LOLLI",
      "userId": "08743711697490110255"
     },
     "user_tz": -120
    },
    "id": "7twimWzb46ll",
    "outputId": "ee05ea38-77e3-4fc1-8eef-dfec46eb7a6d"
   },
   "outputs": [
    {
     "name": "stdout",
     "output_type": "stream",
     "text": [
      "Epoch 1/10\n",
      "Epoch 1/10\n",
      "Epoch 1/10\n",
      "Epoch 1/10\n",
      "Epoch 1/10\n",
      "Epoch 1/10\n",
      "Epoch 1/10\n",
      "Epoch 1/10\n",
      "2/2 [==============================] - 5s 50ms/step - loss: 58.9219 - accuracy: 0.2727\n",
      "Epoch 2/10\n",
      "2/2 [==============================] - 5s 61ms/step - loss: 56.7014 - accuracy: 0.1515\n",
      "Epoch 2/10\n",
      "2/2 [==============================] - 0s 78ms/step - loss: 56.6286 - accuracy: 0.5152\n",
      "Epoch 3/10\n",
      "2/2 [==============================] - 0s 59ms/step - loss: 54.6573 - accuracy: 0.4242\n",
      "Epoch 3/10\n",
      "2/2 [==============================] - 5s 85ms/step - loss: 90.8875 - accuracy: 0.2121\n",
      "Epoch 2/10\n",
      "2/2 [==============================] - 6s 87ms/step - loss: 56.5452 - accuracy: 0.1765\n",
      "Epoch 2/10\n",
      "2/2 [==============================] - 0s 68ms/step - loss: 54.6226 - accuracy: 0.4545\n",
      "Epoch 4/10\n",
      "2/2 [==============================] - 0s 79ms/step - loss: 52.6035 - accuracy: 0.6970\n",
      "Epoch 4/10\n",
      "2/2 [==============================] - 6s 64ms/step - loss: 56.7125 - accuracy: 0.1818\n",
      "Epoch 2/10\n",
      "2/2 [==============================] - 5s 86ms/step - loss: 58.9337 - accuracy: 0.1176\n",
      "Epoch 2/10\n",
      "2/2 [==============================] - 0s 65ms/step - loss: 54.6391 - accuracy: 0.4118\n",
      "Epoch 3/10\n",
      "2/2 [==============================] - 0s 95ms/step - loss: 87.0956 - accuracy: 0.3939\n",
      "Epoch 3/10\n",
      "2/2 [==============================] - 6s 59ms/step - loss: 91.2200 - accuracy: 0.1212\n",
      "Epoch 2/10\n",
      "2/2 [==============================] - 0s 86ms/step - loss: 54.6771 - accuracy: 0.1818\n",
      "Epoch 3/10\n",
      "2/2 [==============================] - 0s 98ms/step - loss: 51.0201 - accuracy: 0.5455\n",
      "Epoch 5/10\n",
      "2/2 [==============================] - 0s 88ms/step - loss: 52.7102 - accuracy: 0.6970\n",
      "Epoch 5/10\n",
      "2/2 [==============================] - 0s 74ms/step - loss: 53.2273 - accuracy: 0.5294\n",
      "Epoch 4/10\n",
      "2/2 [==============================] - 0s 88ms/step - loss: 56.6660 - accuracy: 0.3824\n",
      "Epoch 3/10\n",
      "2/2 [==============================] - 0s 81ms/step - loss: 83.3329 - accuracy: 0.4848\n",
      "Epoch 4/10\n",
      "2/2 [==============================] - 0s 94ms/step - loss: 49.1333 - accuracy: 0.7273\n",
      "Epoch 6/10\n",
      "2/2 [==============================] - 0s 54ms/step - loss: 50.9974 - accuracy: 0.6970\n",
      "1/2 [==============>...............] - ETA: 0s - loss: 51.8773 - accuracy: 0.6875Epoch 6/10\n",
      "2/2 [==============================] - 0s 141ms/step - loss: 87.3600 - accuracy: 0.5152\n",
      "Epoch 3/10\n",
      "2/2 [==============================] - 0s 155ms/step - loss: 52.7136 - accuracy: 0.3030\n",
      "1/2 [==============>...............] - ETA: 0s - loss: 55.3578 - accuracy: 0.5938Epoch 4/10\n",
      "2/2 [==============================] - 6s 100ms/step - loss: 58.3139 - accuracy: 0.2727\n",
      "Epoch 2/10\n",
      "2/2 [==============================] - 0s 123ms/step - loss: 51.9014 - accuracy: 0.6765\n",
      "2/2 [==============================] - 0s 68ms/step - loss: 55.3234 - accuracy: 0.5882\n",
      "Epoch 4/10\n",
      "Epoch 5/10\n",
      "2/2 [==============================] - 0s 86ms/step - loss: 49.0864 - accuracy: 0.8788\n",
      "Epoch 7/10\n",
      "2/2 [==============================] - 0s 90ms/step - loss: 84.0640 - accuracy: 0.5758\n",
      "Epoch 4/10\n",
      "2/2 [==============================] - 0s 133ms/step - loss: 47.3733 - accuracy: 0.7879\n",
      "Epoch 7/10\n",
      "2/2 [==============================] - 0s 106ms/step - loss: 51.1619 - accuracy: 0.5152\n",
      "Epoch 5/10\n",
      "2/2 [==============================] - 0s 103ms/step - loss: 79.5280 - accuracy: 0.7273\n",
      "Epoch 5/10\n",
      "2/2 [==============================] - 0s 86ms/step - loss: 56.5305 - accuracy: 0.2727\n",
      "Epoch 3/10\n",
      "2/2 [==============================] - 0s 108ms/step - loss: 50.6766 - accuracy: 0.7647\n",
      "Epoch 6/10\n",
      "2/2 [==============================] - 0s 140ms/step - loss: 54.2017 - accuracy: 0.5882\n",
      "Epoch 5/10\n",
      "2/2 [==============================] - 0s 103ms/step - loss: 80.5312 - accuracy: 0.6364\n",
      "1/2 [==============>...............] - ETA: 0s - loss: 54.5732 - accuracy: 0.5625Epoch 5/10\n",
      "2/2 [==============================] - 0s 113ms/step - loss: 47.3610 - accuracy: 0.9394\n",
      "2/2 [==============================] - ETA: 0s - loss: 75.9645 - accuracy: 0.5758Epoch 8/10\n",
      "2/2 [==============================] - 0s 85ms/step - loss: 75.9645 - accuracy: 0.5758\n",
      "Epoch 6/10\n",
      "2/2 [==============================] - 0s 117ms/step - loss: 49.3720 - accuracy: 0.5152\n",
      "Epoch 6/10\n",
      "2/2 [==============================] - 0s 68ms/step - loss: 54.5640 - accuracy: 0.5758\n",
      "Epoch 4/10\n",
      "2/2 [==============================] - 0s 98ms/step - loss: 45.6157 - accuracy: 0.7879\n",
      "Epoch 8/10\n",
      "2/2 [==============================] - 0s 117ms/step - loss: 49.4958 - accuracy: 0.7941\n",
      "Epoch 7/10\n",
      "2/2 [==============================] - 0s 116ms/step - loss: 52.8899 - accuracy: 0.6765\n",
      "Epoch 6/10\n",
      "2/2 [==============================] - 0s 85ms/step - loss: 77.0861 - accuracy: 0.8485\n",
      "Epoch 6/10\n",
      "2/2 [==============================] - 0s 80ms/step - loss: 43.7952 - accuracy: 0.9091\n",
      "Epoch 9/10\n",
      "2/2 [==============================] - 0s 127ms/step - loss: 45.5777 - accuracy: 0.9091\n",
      "Epoch 9/10\n",
      "2/2 [==============================] - 0s 98ms/step - loss: 47.6978 - accuracy: 0.5455\n",
      "Epoch 7/10\n",
      "2/2 [==============================] - 0s 114ms/step - loss: 72.1762 - accuracy: 0.7576\n",
      "Epoch 7/10\n",
      "2/2 [==============================] - 0s 65ms/step - loss: 48.6437 - accuracy: 0.7059\n",
      "Epoch 8/10\n",
      "2/2 [==============================] - 0s 83ms/step - loss: 51.6101 - accuracy: 0.6765\n",
      "Epoch 7/10\n",
      "2/2 [==============================] - 0s 153ms/step - loss: 52.9145 - accuracy: 0.6364\n",
      "Epoch 5/10\n",
      "2/2 [==============================] - 0s 64ms/step - loss: 43.7725 - accuracy: 0.9394\n",
      "Epoch 10/10\n",
      "2/2 [==============================] - 0s 79ms/step - loss: 42.0283 - accuracy: 0.9394\n",
      "Epoch 10/10\n",
      "2/2 [==============================] - 0s 89ms/step - loss: 73.7074 - accuracy: 0.8485\n",
      "Epoch 7/10\n",
      "2/2 [==============================] - 0s 94ms/step - loss: 45.8220 - accuracy: 0.7273\n",
      "Epoch 8/10\n",
      "2/2 [==============================] - 0s 77ms/step - loss: 68.5681 - accuracy: 0.9091\n",
      "Epoch 8/10\n",
      "2/2 [==============================] - 0s 94ms/step - loss: 50.6001 - accuracy: 0.8235\n",
      "1/2 [==============>...............] - ETA: 0s - loss: 44.1932 - accuracy: 0.6250Epoch 8/10\n",
      "2/2 [==============================] - 0s 86ms/step - loss: 51.1039 - accuracy: 0.7273\n",
      "Epoch 6/10\n",
      "2/2 [==============================] - 0s 65ms/step - loss: 42.0022 - accuracy: 0.8788\n",
      "2/2 [==============================] - 0s 91ms/step - loss: 47.6202 - accuracy: 0.6765\n",
      "Epoch 9/10\n",
      "2/2 [==============================] - 0s 76ms/step - loss: 44.1901 - accuracy: 0.6364\n",
      "Epoch 9/10\n",
      "2/2 [==============================] - 0s 93ms/step - loss: 40.1936 - accuracy: 1.0000\n",
      "2/2 [==============================] - 0s 101ms/step - loss: 70.1064 - accuracy: 0.9697\n",
      "Epoch 8/10\n",
      "2/2 [==============================] - 0s 100ms/step - loss: 64.9957 - accuracy: 0.9697\n",
      "Epoch 9/10\n",
      "2/2 [==============================] - 0s 78ms/step - loss: 49.3345 - accuracy: 0.8182\n",
      "Epoch 7/10\n",
      "2/2 [==============================] - 0s 108ms/step - loss: 49.5319 - accuracy: 0.7353\n",
      "Epoch 9/10\n",
      "2/2 [==============================] - 0s 87ms/step - loss: 42.3544 - accuracy: 0.8485\n",
      "Epoch 10/10\n",
      "2/2 [==============================] - 0s 80ms/step - loss: 66.7567 - accuracy: 0.9091\n",
      "Epoch 9/10\n",
      "2/2 [==============================] - 0s 115ms/step - loss: 46.5531 - accuracy: 0.7647\n",
      "Epoch 10/10\n",
      "2/2 [==============================] - 0s 80ms/step - loss: 61.5774 - accuracy: 0.8182\n",
      "Epoch 10/10\n",
      "2/2 [==============================] - 0s 93ms/step - loss: 47.6328 - accuracy: 0.8485\n",
      "Epoch 8/10\n",
      "2/2 [==============================] - 0s 96ms/step - loss: 48.3703 - accuracy: 0.8235\n",
      "Epoch 10/10\n",
      "2/2 [==============================] - 0s 71ms/step - loss: 58.1740 - accuracy: 0.9091\n",
      "2/2 [==============================] - 0s 86ms/step - loss: 40.6857 - accuracy: 0.8182\n",
      "2/2 [==============================] - 0s 93ms/step - loss: 63.3965 - accuracy: 0.9394\n",
      "Epoch 10/10\n",
      "2/2 [==============================] - 0s 125ms/step - loss: 45.5979 - accuracy: 0.7647\n",
      "2/2 [==============================] - 0s 85ms/step - loss: 45.8764 - accuracy: 0.8485\n",
      "Epoch 9/10\n",
      "2/2 [==============================] - 0s 59ms/step - loss: 47.3943 - accuracy: 0.7647\n",
      "2/2 [==============================] - 0s 69ms/step - loss: 60.0280 - accuracy: 0.9394\n",
      "2/2 [==============================] - 0s 80ms/step - loss: 44.2559 - accuracy: 0.8485\n",
      "Epoch 10/10\n",
      "2/2 [==============================] - 0s 84ms/step - loss: 42.4985 - accuracy: 0.9394\n"
     ]
    },
    {
     "name": "stdout",
     "output_type": "stream",
     "text": [
      "1/1 [==============================] - 1s 989ms/step\n",
      "1/1 [==============================] - 1s 961ms/step\n",
      "1/1 [==============================] - 1s 978ms/step\n",
      "1/1 [==============================] - 1s 981ms/step\n",
      "1/1 [==============================] - 1s 938ms/step\n",
      "1/1 [==============================] - 1s 956ms/step\n",
      "Epoch 1/10\n",
      "1/1 [==============================] - 1s 941ms/step\n",
      "Epoch 1/10\n",
      "Epoch 1/10\n",
      "Epoch 1/10\n",
      "Epoch 1/10\n",
      "Epoch 1/10\n",
      "Epoch 1/10\n",
      "1/1 [==============================] - 1s 877ms/step\n",
      "Epoch 1/10\n",
      "2/2 [==============================] - 5s 92ms/step - loss: 91.4666 - accuracy: 0.1176\n",
      "Epoch 2/10\n",
      "2/2 [==============================] - 0s 69ms/step - loss: 87.8078 - accuracy: 0.6765\n",
      "Epoch 3/10\n",
      "2/2 [==============================] - 5s 102ms/step - loss: 84.8753 - accuracy: 0.1818\n",
      "Epoch 2/10\n",
      "2/2 [==============================] - 0s 91ms/step - loss: 84.8909 - accuracy: 0.5882\n",
      "Epoch 4/10\n",
      "2/2 [==============================] - 5s 95ms/step - loss: 94.8606 - accuracy: 0.1515\n",
      "Epoch 2/10\n",
      "2/2 [==============================] - 5s 103ms/step - loss: 84.8963 - accuracy: 0.2727\n",
      "Epoch 2/10\n",
      "2/2 [==============================] - 5s 80ms/step - loss: 94.7177 - accuracy: 0.1765\n",
      "2/2 [==============================] - 0s 70ms/step - loss: 81.3348 - accuracy: 0.5152\n",
      "Epoch 3/10\n",
      "Epoch 2/10\n",
      "2/2 [==============================] - 5s 77ms/step - loss: 93.8983 - accuracy: 0.3030\n",
      "Epoch 2/10\n",
      "2/2 [==============================] - 0s 114ms/step - loss: 82.1101 - accuracy: 0.7647\n",
      "Epoch 5/10\n",
      "2/2 [==============================] - 0s 105ms/step - loss: 90.9079 - accuracy: 0.4242\n",
      "Epoch 3/10\n",
      "2/2 [==============================] - 0s 83ms/step - loss: 91.0998 - accuracy: 0.4118\n",
      "Epoch 3/10\n",
      "2/2 [==============================] - 0s 100ms/step - loss: 81.7785 - accuracy: 0.4848\n",
      "Epoch 3/10\n",
      "2/2 [==============================] - 0s 65ms/step - loss: 90.3622 - accuracy: 0.5455\n",
      "Epoch 3/10\n",
      "2/2 [==============================] - 0s 115ms/step - loss: 77.7504 - accuracy: 0.5758\n",
      "Epoch 4/10\n",
      "2/2 [==============================] - 0s 108ms/step - loss: 79.7009 - accuracy: 0.7353\n",
      "Epoch 6/10\n",
      "2/2 [==============================] - 0s 98ms/step - loss: 87.6853 - accuracy: 0.4848\n",
      "Epoch 4/10\n",
      "2/2 [==============================] - 0s 123ms/step - loss: 88.0963 - accuracy: 0.7353\n",
      "Epoch 4/10\n",
      "2/2 [==============================] - 0s 85ms/step - loss: 86.5846 - accuracy: 0.7576\n",
      "Epoch 4/10\n",
      "2/2 [==============================] - 0s 147ms/step - loss: 78.2156 - accuracy: 0.6364\n",
      "Epoch 4/10\n",
      "2/2 [==============================] - 6s 93ms/step - loss: 84.8914 - accuracy: 0.1176\n",
      "Epoch 2/10\n",
      "2/2 [==============================] - 0s 120ms/step - loss: 84.2684 - accuracy: 0.6364\n",
      "Epoch 5/10\n",
      "2/2 [==============================] - 0s 100ms/step - loss: 74.0847 - accuracy: 0.7879\n",
      "Epoch 5/10\n",
      "2/2 [==============================] - 0s 120ms/step - loss: 77.4402 - accuracy: 0.6471\n",
      "Epoch 7/10\n",
      "2/2 [==============================] - 0s 93ms/step - loss: 85.2334 - accuracy: 0.7353\n",
      "Epoch 5/10\n",
      "2/2 [==============================] - 0s 95ms/step - loss: 82.7671 - accuracy: 0.7879\n",
      "Epoch 5/10\n",
      "2/2 [==============================] - 0s 66ms/step - loss: 81.6974 - accuracy: 0.6471\n",
      "Epoch 3/10\n",
      "2/2 [==============================] - 0s 85ms/step - loss: 80.8227 - accuracy: 0.7879\n",
      "2/2 [==============================] - 0s 134ms/step - loss: 74.7070 - accuracy: 0.6364\n",
      "Epoch 5/10\n",
      "Epoch 6/10\n",
      "2/2 [==============================] - 0s 114ms/step - loss: 75.0572 - accuracy: 0.8529\n",
      "2/2 [==============================] - 0s 79ms/step - loss: 70.5016 - accuracy: 0.7273\n",
      "Epoch 8/10\n",
      "Epoch 6/10\n",
      "2/2 [==============================] - 0s 64ms/step - loss: 82.5239 - accuracy: 0.6765\n",
      "Epoch 6/10\n",
      "2/2 [==============================] - 0s 85ms/step - loss: 78.9799 - accuracy: 0.8485\n",
      "Epoch 6/10\n",
      "2/2 [==============================] - 0s 67ms/step - loss: 77.4079 - accuracy: 0.8182\n",
      "Epoch 7/10\n",
      "2/2 [==============================] - 0s 119ms/step - loss: 78.9830 - accuracy: 0.7941\n",
      "Epoch 4/10\n",
      "2/2 [==============================] - 0s 106ms/step - loss: 72.8849 - accuracy: 0.9412\n",
      "2/2 [==============================] - 0s 83ms/step - loss: 79.8031 - accuracy: 0.7941\n",
      "Epoch 9/10\n",
      "Epoch 7/10\n",
      "2/2 [==============================] - 0s 97ms/step - loss: 66.7012 - accuracy: 0.8485\n",
      "Epoch 7/10\n",
      "2/2 [==============================] - 0s 105ms/step - loss: 71.0425 - accuracy: 0.8788\n",
      "Epoch 6/10\n",
      "2/2 [==============================] - 0s 110ms/step - loss: 75.3219 - accuracy: 0.9091\n",
      "1/2 [==============>...............] - ETA: 0s - loss: 74.0738 - accuracy: 0.9375Epoch 7/10\n",
      "2/2 [==============================] - 0s 75ms/step - loss: 74.0565 - accuracy: 0.9394\n",
      "Epoch 8/10\n",
      "2/2 [==============================] - 0s 99ms/step - loss: 76.3422 - accuracy: 0.8529\n",
      "2/2 [==============================] - 0s 60ms/step - loss: 70.9168 - accuracy: 0.9706\n",
      "1/2 [==============>...............] - ETA: 0s - loss: 67.5185 - accuracy: 0.8438Epoch 10/10\n",
      "Epoch 5/10\n",
      "2/2 [==============================] - 0s 75ms/step - loss: 63.0127 - accuracy: 0.8788\n",
      "Epoch 8/10\n",
      "2/2 [==============================] - 0s 84ms/step - loss: 67.4994 - accuracy: 0.8182\n",
      "2/2 [==============================] - 0s 111ms/step - loss: 77.2805 - accuracy: 0.8529\n",
      "Epoch 7/10\n",
      "Epoch 8/10\n",
      "2/2 [==============================] - 0s 83ms/step - loss: 71.5347 - accuracy: 0.9091\n",
      "Epoch 8/10\n",
      "2/2 [==============================] - 0s 93ms/step - loss: 70.7234 - accuracy: 0.9091\n",
      "1/2 [==============>...............] - ETA: 0s - loss: 74.9984 - accuracy: 0.9062Epoch 9/10\n",
      "2/2 [==============================] - 0s 89ms/step - loss: 73.7886 - accuracy: 0.9118\n",
      "Epoch 6/10\n",
      "2/2 [==============================] - 0s 83ms/step - loss: 68.8646 - accuracy: 0.8824\n",
      "2/2 [==============================] - 0s 67ms/step - loss: 63.9477 - accuracy: 0.9091\n",
      "Epoch 8/10\n",
      "2/2 [==============================] - 0s 85ms/step - loss: 59.3399 - accuracy: 0.9091\n",
      "Epoch 9/10\n",
      "2/2 [==============================] - 0s 96ms/step - loss: 74.9788 - accuracy: 0.8824\n",
      "Epoch 9/10\n",
      "2/2 [==============================] - 0s 130ms/step - loss: 67.8721 - accuracy: 0.9091\n",
      "Epoch 9/10\n",
      "2/2 [==============================] - 0s 72ms/step - loss: 60.5389 - accuracy: 0.9091\n",
      "Epoch 9/10\n",
      "2/2 [==============================] - 0s 141ms/step - loss: 67.2398 - accuracy: 0.9394\n",
      "Epoch 10/10\n",
      "2/2 [==============================] - 0s 68ms/step - loss: 55.8787 - accuracy: 0.9394\n",
      "Epoch 10/10\n",
      "2/2 [==============================] - 0s 113ms/step - loss: 71.2694 - accuracy: 0.9706\n",
      "Epoch 7/10\n",
      "2/2 [==============================] - 0s 113ms/step - loss: 72.9787 - accuracy: 0.8235\n",
      "Epoch 10/10\n",
      "2/2 [==============================] - 0s 106ms/step - loss: 64.3081 - accuracy: 0.9394\n",
      "Epoch 10/10\n",
      "2/2 [==============================] - 0s 88ms/step - loss: 57.0327 - accuracy: 0.9091\n",
      "1/2 [==============>...............] - ETA: 0s - loss: 71.1119 - accuracy: 0.9375Epoch 10/10\n",
      "2/2 [==============================] - 0s 106ms/step - loss: 63.9864 - accuracy: 0.9091\n",
      "2/2 [==============================] - 0s 89ms/step - loss: 71.0578 - accuracy: 0.9412\n",
      "2/2 [==============================] - 0s 88ms/step - loss: 69.1169 - accuracy: 0.8824\n",
      "Epoch 8/10\n",
      "2/2 [==============================] - 0s 93ms/step - loss: 60.7551 - accuracy: 0.9697\n",
      "2/2 [==============================] - 0s 104ms/step - loss: 52.4140 - accuracy: 0.9394\n",
      "2/2 [==============================] - 0s 60ms/step - loss: 53.6331 - accuracy: 0.9697\n",
      "2/2 [==============================] - 0s 52ms/step - loss: 66.8130 - accuracy: 0.9118\n",
      "Epoch 9/10\n",
      "2/2 [==============================] - 0s 91ms/step - loss: 64.6734 - accuracy: 0.9412\n",
      "Epoch 10/10\n",
      "2/2 [==============================] - 6s 61ms/step - loss: 87.3757 - accuracy: 0.2727\n",
      "Epoch 2/10\n",
      "2/2 [==============================] - 0s 62ms/step - loss: 62.5607 - accuracy: 0.9412\n",
      "2/2 [==============================] - 0s 88ms/step - loss: 83.4896 - accuracy: 0.5758\n",
      "Epoch 3/10\n",
      "1/1 [==============================] - 1s 1s/steploss: 80.0266 - accuracy: 0.7500\n",
      "2/2 [==============================] - 0s 79ms/step - loss: 80.0014 - accuracy: 0.7576\n",
      "Epoch 4/10\n",
      "2/2 [==============================] - 0s 62ms/step - loss: 76.3749 - accuracy: 0.8788\n",
      "Epoch 5/10\n",
      "1/1 [==============================] - 1s 911ms/steps: 72.8049 - accuracy: 0.8750\n",
      "1/1 [==============================] - 1s 914ms/step\n"
     ]
    },
    {
     "name": "stdout",
     "output_type": "stream",
     "text": [
      "2/2 [==============================] - 0s 71ms/step - loss: 72.7870 - accuracy: 0.8485\n",
      "Epoch 6/10\n",
      "1/1 [==============================] - 1s 986ms/step\n",
      "1/1 [==============================] - 1s 982ms/step\n",
      "2/2 [==============================] - 0s 59ms/step - loss: 69.1364 - accuracy: 0.9697\n",
      "Epoch 7/10\n",
      "2/2 [==============================] - 0s 53ms/step - loss: 65.4896 - accuracy: 0.9394\n",
      "Epoch 8/10\n",
      "2/2 [==============================] - 0s 59ms/step - loss: 61.8832 - accuracy: 1.0000\n",
      "Epoch 9/10\n",
      "1/1 [==============================] - 1s 1s/step\n",
      "2/2 [==============================] - 0s 66ms/step - loss: 58.4362 - accuracy: 0.9697\n",
      "Epoch 10/10\n",
      "2/2 [==============================] - 0s 52ms/step - loss: 54.9837 - accuracy: 1.0000\n",
      "Epoch 1/10\n",
      "Epoch 1/10\n",
      "Epoch 1/10\n",
      "Epoch 1/10\n",
      "Epoch 1/10\n",
      "1/1 [==============================] - 1s 1s/step\n",
      "Epoch 1/10\n",
      "1/1 [==============================] - 1s 942ms/step\n",
      "Epoch 1/10\n",
      "Epoch 1/10\n",
      "2/2 [==============================] - 6s 100ms/step - loss: 134.2361 - accuracy: 0.1176\n",
      "Epoch 2/10\n",
      "2/2 [==============================] - 6s 68ms/step - loss: 87.0702 - accuracy: 0.2121\n",
      "Epoch 2/10\n",
      "2/2 [==============================] - 6s 117ms/step - loss: 87.1169 - accuracy: 0.2059\n",
      "Epoch 2/10\n",
      "2/2 [==============================] - 0s 91ms/step - loss: 127.5884 - accuracy: 0.5588\n",
      "Epoch 3/10\n",
      "2/2 [==============================] - 0s 84ms/step - loss: 83.7467 - accuracy: 0.3636\n",
      "Epoch 3/10\n",
      "2/2 [==============================] - 0s 73ms/step - loss: 83.8139 - accuracy: 0.6176\n",
      "Epoch 3/10\n",
      "2/2 [==============================] - 0s 104ms/step - loss: 120.7402 - accuracy: 0.5882\n",
      "Epoch 4/10\n",
      "2/2 [==============================] - 6s 148ms/step - loss: 134.2025 - accuracy: 0.0606\n",
      "Epoch 2/10\n",
      "2/2 [==============================] - 0s 90ms/step - loss: 81.0556 - accuracy: 0.7059\n",
      "Epoch 4/10\n",
      "2/2 [==============================] - 0s 115ms/step - loss: 80.0413 - accuracy: 0.6970\n",
      "Epoch 4/10\n",
      "2/2 [==============================] - 0s 86ms/step - loss: 79.0874 - accuracy: 0.6471\n",
      "Epoch 5/10\n",
      "2/2 [==============================] - 0s 79ms/step - loss: 127.0563 - accuracy: 0.5758\n",
      "Epoch 3/10\n",
      "2/2 [==============================] - 0s 107ms/step - loss: 76.7062 - accuracy: 0.6364\n",
      "Epoch 5/10\n",
      "2/2 [==============================] - 0s 139ms/step - loss: 114.0418 - accuracy: 0.7353\n",
      "Epoch 5/10\n",
      "2/2 [==============================] - 0s 84ms/step - loss: 119.5321 - accuracy: 0.7273\n",
      "Epoch 4/10\n",
      "2/2 [==============================] - 0s 126ms/step - loss: 76.5873 - accuracy: 0.8235\n",
      "Epoch 6/10\n",
      "2/2 [==============================] - 0s 126ms/step - loss: 107.6205 - accuracy: 0.8235\n",
      "2/2 [==============================] - 0s 159ms/step - loss: 73.0972 - accuracy: 0.8182\n",
      "Epoch 6/10\n",
      "Epoch 6/10\n",
      "2/2 [==============================] - 7s 151ms/step - loss: 134.3428 - accuracy: 0.2727\n",
      "Epoch 2/10\n",
      "2/2 [==============================] - 0s 84ms/step - loss: 111.9492 - accuracy: 0.8788\n",
      "Epoch 5/10\n",
      "2/2 [==============================] - 0s 104ms/step - loss: 74.4405 - accuracy: 0.7647\n",
      "Epoch 7/10\n",
      "2/2 [==============================] - 0s 65ms/step - loss: 69.5657 - accuracy: 0.9394\n",
      "Epoch 7/10\n",
      "2/2 [==============================] - 0s 120ms/step - loss: 101.7771 - accuracy: 0.9118\n",
      "Epoch 7/10\n",
      "2/2 [==============================] - 0s 121ms/step - loss: 127.5946 - accuracy: 0.5758\n",
      "Epoch 3/10\n",
      "2/2 [==============================] - 0s 97ms/step - loss: 104.4211 - accuracy: 0.8788\n",
      "Epoch 6/10\n",
      "2/2 [==============================] - 0s 178ms/step - loss: 72.3841 - accuracy: 0.9412\n",
      "Epoch 8/10\n",
      "2/2 [==============================] - 0s 121ms/step - loss: 66.1648 - accuracy: 0.8182\n",
      "Epoch 8/10\n",
      "2/2 [==============================] - 0s 166ms/step - loss: 120.3758 - accuracy: 0.7576\n",
      "Epoch 4/10\n",
      "2/2 [==============================] - 0s 135ms/step - loss: 96.4923 - accuracy: 0.8529\n",
      "Epoch 8/10\n",
      "2/2 [==============================] - 7s 101ms/step - loss: 137.6352 - accuracy: 0.2727\n",
      "Epoch 2/10\n",
      "2/2 [==============================] - 0s 114ms/step - loss: 97.0705 - accuracy: 0.8485\n",
      "Epoch 7/10\n",
      "2/2 [==============================] - 0s 113ms/step - loss: 70.4737 - accuracy: 0.8529\n",
      "Epoch 9/10\n",
      "2/2 [==============================] - 0s 134ms/step - loss: 62.5558 - accuracy: 0.9697\n",
      "Epoch 9/10\n",
      "2/2 [==============================] - 0s 82ms/step - loss: 131.0746 - accuracy: 0.5758\n",
      "Epoch 3/10\n",
      "2/2 [==============================] - 0s 136ms/step - loss: 113.1894 - accuracy: 0.7576\n",
      "Epoch 5/10\n",
      "2/2 [==============================] - 0s 81ms/step - loss: 68.7417 - accuracy: 0.7941\n",
      "Epoch 10/10\n",
      "2/2 [==============================] - 0s 112ms/step - loss: 91.5044 - accuracy: 0.8529\n",
      "Epoch 9/10\n",
      "2/2 [==============================] - 0s 152ms/step - loss: 89.9605 - accuracy: 0.8788\n",
      "Epoch 8/10\n",
      "2/2 [==============================] - 0s 140ms/step - loss: 123.9464 - accuracy: 0.8788\n",
      "1/2 [==============>...............] - ETA: 0s - loss: 86.8415 - accuracy: 0.9375Epoch 4/10\n",
      "2/2 [==============================] - 0s 165ms/step - loss: 59.1767 - accuracy: 0.9394\n",
      "Epoch 10/10\n",
      "2/2 [==============================] - 0s 106ms/step - loss: 66.7658 - accuracy: 0.9412\n",
      "2/2 [==============================] - 0s 93ms/step - loss: 105.8156 - accuracy: 0.8788\n",
      "Epoch 6/10\n",
      "2/2 [==============================] - 0s 145ms/step - loss: 86.7904 - accuracy: 0.9118\n",
      "Epoch 10/10\n",
      "2/2 [==============================] - 0s 82ms/step - loss: 83.1636 - accuracy: 0.8788\n",
      "Epoch 9/10\n",
      "2/2 [==============================] - 0s 132ms/step - loss: 55.7807 - accuracy: 1.0000\n",
      "2/2 [==============================] - 0s 131ms/step - loss: 116.8920 - accuracy: 0.7879\n",
      "Epoch 5/10\n",
      "2/2 [==============================] - 0s 83ms/step - loss: 98.6467 - accuracy: 0.8485\n",
      "Epoch 7/10\n",
      "2/2 [==============================] - 0s 130ms/step - loss: 82.5184 - accuracy: 0.8824\n",
      "2/2 [==============================] - 0s 145ms/step - loss: 76.5954 - accuracy: 0.8788\n",
      "Epoch 10/10\n",
      "2/2 [==============================] - 0s 102ms/step - loss: 91.6256 - accuracy: 0.9394\n",
      "Epoch 8/10\n",
      "2/2 [==============================] - 0s 162ms/step - loss: 109.5821 - accuracy: 0.9091\n",
      "Epoch 6/10\n",
      "2/2 [==============================] - 0s 117ms/step - loss: 70.3843 - accuracy: 0.9394\n",
      "2/2 [==============================] - 0s 98ms/step - loss: 102.5138 - accuracy: 0.9091\n",
      "2/2 [==============================] - ETA: 0s - loss: 84.8762 - accuracy: 0.9697Epoch 7/10\n",
      "2/2 [==============================] - 0s 149ms/step - loss: 84.8762 - accuracy: 0.9697\n",
      "Epoch 9/10\n",
      "2/2 [==============================] - 7s 102ms/step - loss: 136.9560 - accuracy: 0.2647\n",
      "Epoch 2/10\n",
      "2/2 [==============================] - 0s 91ms/step - loss: 78.3663 - accuracy: 1.0000\n",
      "Epoch 10/10\n",
      "2/2 [==============================] - 0s 118ms/step - loss: 95.4686 - accuracy: 0.9394\n",
      "Epoch 8/10\n",
      "2/2 [==============================] - 0s 72ms/step - loss: 130.5325 - accuracy: 0.5588\n",
      "Epoch 3/10\n",
      "2/2 [==============================] - 8s 58ms/step - loss: 137.3514 - accuracy: 0.1818\n",
      "Epoch 2/10\n",
      "2/2 [==============================] - 0s 91ms/step - loss: 72.2430 - accuracy: 0.9394\n",
      "2/2 [==============================] - 0s 78ms/step - loss: 88.6771 - accuracy: 0.9697\n",
      "Epoch 9/10\n",
      "1/1 [==============================] - 1s 1s/steploss: 130.6741 - accuracy: 0.5938\n",
      "2/2 [==============================] - 0s 93ms/step - loss: 130.5872 - accuracy: 0.6061\n",
      "2/2 [==============================] - 0s 142ms/step - loss: 124.0159 - accuracy: 0.7059\n",
      "Epoch 4/10\n",
      "Epoch 3/10\n",
      "2/2 [==============================] - 0s 89ms/step - loss: 82.1441 - accuracy: 1.0000\n",
      "Epoch 10/10\n",
      "1/1 [==============================] - 1s 1s/step\n",
      "1/1 [==============================] - 2s 2s/step\n",
      "2/2 [==============================] - 0s 65ms/step - loss: 123.2801 - accuracy: 0.6364\n",
      "2/2 [==============================] - 0s 58ms/step - loss: 118.0246 - accuracy: 0.7059\n",
      "Epoch 4/10\n",
      "Epoch 5/10\n",
      "2/2 [==============================] - 0s 64ms/step - loss: 75.9262 - accuracy: 0.9697\n",
      "2/2 [==============================] - 0s 53ms/step - loss: 112.4166 - accuracy: 0.9706\n",
      "Epoch 6/10\n",
      "2/2 [==============================] - 0s 72ms/step - loss: 115.8961 - accuracy: 0.7576\n",
      "Epoch 5/10\n",
      "2/2 [==============================] - 0s 57ms/step - loss: 107.3661 - accuracy: 0.8824\n",
      "Epoch 7/10\n",
      "2/2 [==============================] - 0s 70ms/step - loss: 108.4580 - accuracy: 0.9394\n",
      "Epoch 6/10\n",
      "1/1 [==============================] - 1s 1s/step\n"
     ]
    },
    {
     "name": "stdout",
     "output_type": "stream",
     "text": [
      "2/2 [==============================] - 0s 60ms/step - loss: 102.5157 - accuracy: 0.9412\n",
      "Epoch 8/10\n",
      "2/2 [==============================] - 0s 61ms/step - loss: 101.2460 - accuracy: 0.9697\n",
      "Epoch 7/10\n",
      "2/2 [==============================] - 0s 53ms/step - loss: 98.1231 - accuracy: 0.8529\n",
      "Epoch 9/10\n",
      "2/2 [==============================] - 0s 55ms/step - loss: 94.2435 - accuracy: 0.9697\n",
      "Epoch 8/10\n",
      "2/2 [==============================] - 0s 51ms/step - loss: 94.0303 - accuracy: 0.8824\n",
      "Epoch 10/10\n",
      "2/2 [==============================] - 0s 51ms/step - loss: 87.3606 - accuracy: 0.9697\n",
      "Epoch 9/10\n",
      "1/1 [==============================] - 1s 1s/step\n",
      "2/2 [==============================] - 0s 47ms/step - loss: 90.1721 - accuracy: 0.9412\n",
      "2/2 [==============================] - 0s 41ms/step - loss: 80.8029 - accuracy: 0.9697\n",
      "Epoch 10/10\n",
      "2/2 [==============================] - 0s 44ms/step - loss: 74.4793 - accuracy: 1.0000\n",
      "1/1 [==============================] - 1s 927ms/step\n",
      "1/1 [==============================] - 1s 614ms/step\n",
      "1/1 [==============================] - 1s 602ms/step\n",
      "Epoch 1/10\n",
      "2/2 [==============================] - 4s 103ms/step - loss: 84.8210 - accuracy: 0.1600\n",
      "Epoch 2/10\n",
      "2/2 [==============================] - 0s 108ms/step - loss: 82.1384 - accuracy: 0.4600\n",
      "Epoch 3/10\n",
      "2/2 [==============================] - 0s 148ms/step - loss: 79.7099 - accuracy: 0.5000\n",
      "Epoch 4/10\n",
      "2/2 [==============================] - 0s 125ms/step - loss: 77.2661 - accuracy: 0.7000\n",
      "Epoch 5/10\n",
      "2/2 [==============================] - 0s 95ms/step - loss: 74.6475 - accuracy: 0.7000\n",
      "Epoch 6/10\n",
      "2/2 [==============================] - 0s 121ms/step - loss: 72.0043 - accuracy: 0.7600\n",
      "Epoch 7/10\n",
      "2/2 [==============================] - 0s 88ms/step - loss: 69.4098 - accuracy: 0.8000\n",
      "Epoch 8/10\n",
      "2/2 [==============================] - 0s 93ms/step - loss: 66.4587 - accuracy: 0.8800\n",
      "Epoch 9/10\n",
      "2/2 [==============================] - 0s 91ms/step - loss: 63.7223 - accuracy: 0.9400\n",
      "Epoch 10/10\n",
      "2/2 [==============================] - 0s 92ms/step - loss: 60.9502 - accuracy: 0.9200\n",
      "Best: 0.501225 using {'model__gru_hid_1': 64, 'model__n_hid_1': 64, 'model__n_hid_2': 32}\n",
      "0.40196078431372556 \t with: {'model__gru_hid_1': 32, 'model__n_hid_1': 64, 'model__n_hid_2': 32}\n",
      "0.4044117647058824 \t with: {'model__gru_hid_1': 32, 'model__n_hid_1': 64, 'model__n_hid_2': 64}\n",
      "0.35784313725490197 \t with: {'model__gru_hid_1': 32, 'model__n_hid_1': 128, 'model__n_hid_2': 32}\n",
      "0.3406862745098039 \t with: {'model__gru_hid_1': 32, 'model__n_hid_1': 128, 'model__n_hid_2': 64}\n",
      "0.5012254901960784 \t with: {'model__gru_hid_1': 64, 'model__n_hid_1': 64, 'model__n_hid_2': 32}\n",
      "0.400735294117647 \t with: {'model__gru_hid_1': 64, 'model__n_hid_1': 64, 'model__n_hid_2': 64}\n",
      "0.38235294117647056 \t with: {'model__gru_hid_1': 64, 'model__n_hid_1': 128, 'model__n_hid_2': 32}\n",
      "0.48284313725490197 \t with: {'model__gru_hid_1': 64, 'model__n_hid_1': 128, 'model__n_hid_2': 64}\n"
     ]
    }
   ],
   "source": [
    "GS = GridSearchCV(\n",
    "    estimator = model,\n",
    "    param_grid = param_grid,\n",
    "    scoring = 'accuracy',\n",
    "    n_jobs=-1,\n",
    "    cv = 3,\n",
    "    verbose=False\n",
    ")\n",
    "\n",
    "grid_result = GS.fit(X_train[:50], y_train[:50])\n",
    "\n",
    "# best result\n",
    "print(\"Best: %f using %s\" % (grid_result.best_score_,\n",
    "                             grid_result.best_params_))\n",
    "means = grid_result.cv_results_['mean_test_score']\n",
    "params = grid_result.cv_results_['params']\n",
    "# printing results for all combinations\n",
    "for mean, param in zip(means, params):\n",
    "    print(f\"{mean} \\t with: {param}\")"
   ]
  },
  {
   "cell_type": "code",
   "execution_count": 60,
   "metadata": {
    "executionInfo": {
     "elapsed": 14,
     "status": "ok",
     "timestamp": 1688311007094,
     "user": {
      "displayName": "ANDREA LOLLI",
      "userId": "08743711697490110255"
     },
     "user_tz": -120
    },
    "id": "Q_ed3VLUqbjZ"
   },
   "outputs": [],
   "source": [
    "model = KerasClassifier(\n",
    "    model=create_model,\n",
    "    gru_hid_1=64, n_hid_1=64, n_hid_2=32,\n",
    "    input_shape=(64,),\n",
    "    output_shape=5,\n",
    "    input_length=60,\n",
    "    embedding_matrix=co_occurrence_300d,\n",
    "    epochs=10\n",
    ")"
   ]
  },
  {
   "cell_type": "code",
   "execution_count": 61,
   "metadata": {
    "executionInfo": {
     "elapsed": 11,
     "status": "ok",
     "timestamp": 1688311007095,
     "user": {
      "displayName": "ANDREA LOLLI",
      "userId": "08743711697490110255"
     },
     "user_tz": -120
    },
    "id": "iqZo-9GY5wDt"
   },
   "outputs": [],
   "source": [
    "# learning rates\n",
    "lr = [10**-3, 10**-2, 10**-1]\n",
    "\n",
    "param_grid = dict(model__learning_rate= lr)"
   ]
  },
  {
   "cell_type": "code",
   "execution_count": 62,
   "metadata": {
    "colab": {
     "base_uri": "https://localhost:8080/"
    },
    "executionInfo": {
     "elapsed": 68159,
     "status": "ok",
     "timestamp": 1688311075246,
     "user": {
      "displayName": "ANDREA LOLLI",
      "userId": "08743711697490110255"
     },
     "user_tz": -120
    },
    "id": "A2pIc2R-qlgG",
    "outputId": "08589ace-93f3-4a14-811c-730cbac86e64"
   },
   "outputs": [
    {
     "name": "stdout",
     "output_type": "stream",
     "text": [
      "Epoch 1/10\n",
      "Epoch 1/10\n",
      "Epoch 1/10\n",
      "Epoch 1/10\n",
      "Epoch 1/10\n",
      "Epoch 1/10\n",
      "Epoch 1/10\n",
      "Epoch 1/10\n",
      "3/3 [==============================] - 5s 86ms/step - loss: 84.9149 - accuracy: 0.1515\n",
      "Epoch 2/10\n",
      "3/3 [==============================] - 5s 87ms/step - loss: 84.6860 - accuracy: 0.2537\n",
      "Epoch 2/10\n",
      "3/3 [==============================] - 5s 109ms/step - loss: 84.4833 - accuracy: 0.2239\n",
      "Epoch 2/10\n",
      "3/3 [==============================] - 6s 106ms/step - loss: 84.5554 - accuracy: 0.2537\n",
      "Epoch 2/10\n",
      "3/3 [==============================] - 0s 114ms/step - loss: 80.9297 - accuracy: 0.3485\n",
      "Epoch 3/10\n",
      "3/3 [==============================] - 0s 95ms/step - loss: 81.0373 - accuracy: 0.3881\n",
      "Epoch 3/10\n",
      "3/3 [==============================] - 6s 108ms/step - loss: 84.7445 - accuracy: 0.1970\n",
      "Epoch 2/10\n",
      "3/3 [==============================] - 6s 118ms/step - loss: 84.4571 - accuracy: 0.3030\n",
      "Epoch 2/10\n",
      "3/3 [==============================] - 6s 137ms/step - loss: 84.0628 - accuracy: 0.2537\n",
      "Epoch 2/10\n",
      "3/3 [==============================] - 0s 143ms/step - loss: 80.7295 - accuracy: 0.4030\n",
      "Epoch 3/10\n",
      "3/3 [==============================] - 6s 121ms/step - loss: 84.4930 - accuracy: 0.2239\n",
      "Epoch 2/10\n",
      "3/3 [==============================] - 0s 126ms/step - loss: 78.1964 - accuracy: 0.4776\n",
      "Epoch 4/10\n",
      "3/3 [==============================] - 0s 158ms/step - loss: 81.0490 - accuracy: 0.2985\n",
      "Epoch 3/10\n",
      "3/3 [==============================] - 0s 138ms/step - loss: 77.2044 - accuracy: 0.4848\n",
      "Epoch 4/10\n",
      "3/3 [==============================] - 0s 151ms/step - loss: 80.8018 - accuracy: 0.2879\n",
      "Epoch 3/10\n",
      "3/3 [==============================] - 0s 125ms/step - loss: 80.2279 - accuracy: 0.3485\n",
      "Epoch 3/10\n",
      "3/3 [==============================] - 0s 136ms/step - loss: 77.2008 - accuracy: 0.5373\n",
      "Epoch 4/10\n",
      "3/3 [==============================] - 0s 154ms/step - loss: 79.9460 - accuracy: 0.4030\n",
      "Epoch 3/10\n",
      "3/3 [==============================] - 0s 120ms/step - loss: 80.8465 - accuracy: 0.3582\n",
      "Epoch 3/10\n",
      "3/3 [==============================] - 0s 142ms/step - loss: 75.2747 - accuracy: 0.5821\n",
      "Epoch 5/10\n",
      "3/3 [==============================] - 0s 138ms/step - loss: 73.7469 - accuracy: 0.6212\n",
      "Epoch 5/10\n",
      "3/3 [==============================] - 0s 125ms/step - loss: 78.3539 - accuracy: 0.4328\n",
      "Epoch 4/10\n",
      "3/3 [==============================] - 0s 110ms/step - loss: 73.8182 - accuracy: 0.6866\n",
      "Epoch 5/10\n",
      "3/3 [==============================] - 0s 128ms/step - loss: 76.7146 - accuracy: 0.4545\n",
      "Epoch 4/10\n",
      "3/3 [==============================] - 0s 181ms/step - loss: 77.3545 - accuracy: 0.4394\n",
      "Epoch 4/10\n",
      "3/3 [==============================] - 0s 136ms/step - loss: 76.4525 - accuracy: 0.3881\n",
      "Epoch 4/10\n",
      "3/3 [==============================] - 0s 121ms/step - loss: 77.2786 - accuracy: 0.4925\n",
      "Epoch 4/10\n",
      "3/3 [==============================] - 0s 137ms/step - loss: 72.4998 - accuracy: 0.6866\n",
      "Epoch 6/10\n",
      "3/3 [==============================] - 0s 122ms/step - loss: 70.5660 - accuracy: 0.7273\n",
      "1/3 [=========>....................] - ETA: 0s - loss: 74.5854 - accuracy: 0.4688Epoch 6/10\n",
      "3/3 [==============================] - 0s 149ms/step - loss: 75.8868 - accuracy: 0.3881\n",
      "Epoch 5/10\n",
      "3/3 [==============================] - 0s 110ms/step - loss: 70.8735 - accuracy: 0.6418\n",
      "2/3 [===================>..........] - ETA: 0s - loss: 73.2324 - accuracy: 0.5469Epoch 6/10\n",
      "3/3 [==============================] - 0s 122ms/step - loss: 73.4139 - accuracy: 0.5152\n",
      "Epoch 5/10\n",
      "3/3 [==============================] - 0s 92ms/step - loss: 73.1790 - accuracy: 0.5373\n",
      "Epoch 5/10\n",
      "3/3 [==============================] - 0s 133ms/step - loss: 73.6776 - accuracy: 0.6212\n",
      "Epoch 5/10\n",
      "3/3 [==============================] - 0s 148ms/step - loss: 73.8531 - accuracy: 0.5522\n",
      "Epoch 5/10\n",
      "3/3 [==============================] - 1s 150ms/step - loss: 70.0005 - accuracy: 0.6418\n",
      "3/3 [==============================] - 0s 128ms/step - loss: 73.4771 - accuracy: 0.5075\n",
      "Epoch 7/10\n",
      "Epoch 6/10\n",
      "3/3 [==============================] - 0s 143ms/step - loss: 67.7544 - accuracy: 0.6515\n",
      "Epoch 7/10\n",
      "3/3 [==============================] - 0s 110ms/step - loss: 69.8859 - accuracy: 0.6970\n",
      "Epoch 6/10\n",
      "3/3 [==============================] - 0s 130ms/step - loss: 68.0289 - accuracy: 0.6866\n",
      "Epoch 7/10\n",
      "3/3 [==============================] - 0s 151ms/step - loss: 70.0289 - accuracy: 0.5075\n",
      "Epoch 6/10\n",
      "3/3 [==============================] - 0s 140ms/step - loss: 70.4071 - accuracy: 0.6364\n",
      "3/3 [==============================] - ETA: 0s - loss: 70.6215 - accuracy: 0.7463Epoch 6/10\n",
      "3/3 [==============================] - 0s 104ms/step - loss: 70.6215 - accuracy: 0.7463\n",
      "Epoch 6/10\n",
      "3/3 [==============================] - 0s 116ms/step - loss: 64.9974 - accuracy: 0.6667\n",
      "Epoch 8/10\n",
      "3/3 [==============================] - 0s 134ms/step - loss: 67.4360 - accuracy: 0.7313\n",
      "Epoch 8/10\n",
      "3/3 [==============================] - 0s 155ms/step - loss: 71.1866 - accuracy: 0.6418\n",
      "Epoch 7/10\n",
      "3/3 [==============================] - 0s 154ms/step - loss: 66.7239 - accuracy: 0.7576\n",
      "Epoch 7/10\n",
      "3/3 [==============================] - 0s 105ms/step - loss: 65.1931 - accuracy: 0.7910\n",
      "Epoch 8/10\n",
      "3/3 [==============================] - 0s 133ms/step - loss: 66.9622 - accuracy: 0.5373\n",
      "Epoch 7/10\n",
      "3/3 [==============================] - 0s 128ms/step - loss: 67.5971 - accuracy: 0.7015\n",
      "1/3 [=========>....................] - ETA: 0s - loss: 64.5128 - accuracy: 0.5938Epoch 7/10\n",
      "3/3 [==============================] - 0s 153ms/step - loss: 67.0079 - accuracy: 0.6970\n",
      "Epoch 7/10\n",
      "3/3 [==============================] - 0s 104ms/step - loss: 62.3384 - accuracy: 0.6667\n",
      "Epoch 9/10\n",
      "3/3 [==============================] - 0s 126ms/step - loss: 65.1260 - accuracy: 0.7313\n",
      "Epoch 9/10\n",
      "3/3 [==============================] - 0s 116ms/step - loss: 69.3399 - accuracy: 0.6119\n",
      "Epoch 8/10\n",
      "3/3 [==============================] - 0s 122ms/step - loss: 63.8434 - accuracy: 0.6364\n",
      "2/3 [===================>..........] - ETA: 0s - loss: 63.9486 - accuracy: 0.6875Epoch 8/10\n",
      "3/3 [==============================] - 0s 106ms/step - loss: 62.6385 - accuracy: 0.7761\n",
      "Epoch 9/10\n",
      "3/3 [==============================] - 0s 121ms/step - loss: 63.9377 - accuracy: 0.6716\n",
      "Epoch 8/10\n",
      "3/3 [==============================] - 0s 152ms/step - loss: 63.6062 - accuracy: 0.7121\n",
      "Epoch 8/10\n",
      "3/3 [==============================] - 1s 147ms/step - loss: 64.6559 - accuracy: 0.6866\n",
      "Epoch 8/10\n",
      "3/3 [==============================] - 0s 119ms/step - loss: 59.7470 - accuracy: 0.6667\n",
      "3/3 [==============================] - 0s 127ms/step - loss: 62.9926 - accuracy: 0.7313\n",
      "Epoch 10/10\n",
      "Epoch 10/10\n",
      "3/3 [==============================] - 0s 127ms/step - loss: 67.2097 - accuracy: 0.7612\n",
      "Epoch 9/10\n",
      "3/3 [==============================] - 0s 116ms/step - loss: 60.0769 - accuracy: 0.7910\n",
      "Epoch 10/10\n",
      "3/3 [==============================] - 0s 100ms/step - loss: 60.9659 - accuracy: 0.6716\n",
      "Epoch 9/10\n",
      "3/3 [==============================] - 0s 155ms/step - loss: 60.8772 - accuracy: 0.7273\n",
      "Epoch 9/10\n",
      "3/3 [==============================] - 0s 115ms/step - loss: 60.4921 - accuracy: 0.8030\n",
      "Epoch 9/10\n",
      "3/3 [==============================] - 0s 118ms/step - loss: 61.8091 - accuracy: 0.7463\n",
      "Epoch 9/10\n",
      "3/3 [==============================] - 0s 116ms/step - loss: 65.4134 - accuracy: 0.7164\n",
      "Epoch 10/10\n",
      "3/3 [==============================] - 0s 109ms/step - loss: 60.8440 - accuracy: 0.7612\n",
      "3/3 [==============================] - 0s 147ms/step - loss: 57.3525 - accuracy: 0.6667\n",
      "3/3 [==============================] - 0s 120ms/step - loss: 58.1879 - accuracy: 0.7015\n",
      "Epoch 10/10\n",
      "3/3 [==============================] - 0s 114ms/step - loss: 58.1755 - accuracy: 0.8030\n",
      "Epoch 10/10\n",
      "3/3 [==============================] - 0s 128ms/step - loss: 57.6869 - accuracy: 0.7879\n",
      "1/3 [=========>....................] - ETA: 0s - loss: 55.9375 - accuracy: 0.9062Epoch 10/10\n",
      "3/3 [==============================] - 0s 130ms/step - loss: 59.0765 - accuracy: 0.7612\n",
      "Epoch 10/10\n",
      "3/3 [==============================] - 1s 187ms/step - loss: 57.6418 - accuracy: 0.8507\n",
      "3/3 [==============================] - 0s 160ms/step - loss: 63.5905 - accuracy: 0.7015\n",
      "3/3 [==============================] - 0s 142ms/step - loss: 55.5961 - accuracy: 0.8636\n",
      "3/3 [==============================] - 0s 164ms/step - loss: 55.7480 - accuracy: 0.7164\n"
     ]
    },
    {
     "name": "stdout",
     "output_type": "stream",
     "text": [
      "3/3 [==============================] - 0s 99ms/step - loss: 56.4894 - accuracy: 0.8209\n",
      "3/3 [==============================] - 0s 100ms/step - loss: 55.0649 - accuracy: 0.7879\n",
      "2/2 [==============================] - 1s 20ms/step\n",
      "2/2 [==============================] - 1s 22ms/step\n",
      "2/2 [==============================] - 1s 25ms/step\n",
      "2/2 [==============================] - 1s 17ms/step\n",
      "2/2 [==============================] - 1s 21ms/step\n",
      "2/2 [==============================] - 1s 11ms/step\n",
      "2/2 [==============================] - 1s 8ms/step\n",
      "2/2 [==============================] - 1s 8ms/step\n",
      "Epoch 1/10\n",
      "3/3 [==============================] - 3s 39ms/step - loss: 84.7466 - accuracy: 0.1642\n",
      "Epoch 2/10\n",
      "3/3 [==============================] - 0s 36ms/step - loss: 80.8102 - accuracy: 0.4627\n",
      "Epoch 3/10\n",
      "3/3 [==============================] - 0s 37ms/step - loss: 77.8697 - accuracy: 0.5522\n",
      "Epoch 4/10\n",
      "3/3 [==============================] - 0s 35ms/step - loss: 74.8234 - accuracy: 0.6716\n",
      "Epoch 5/10\n",
      "3/3 [==============================] - 0s 38ms/step - loss: 72.2276 - accuracy: 0.6866\n",
      "Epoch 6/10\n",
      "3/3 [==============================] - 0s 37ms/step - loss: 69.6377 - accuracy: 0.7463\n",
      "Epoch 7/10\n",
      "3/3 [==============================] - 0s 37ms/step - loss: 67.2065 - accuracy: 0.7910\n",
      "Epoch 8/10\n",
      "3/3 [==============================] - 0s 34ms/step - loss: 65.0038 - accuracy: 0.8358\n",
      "Epoch 9/10\n",
      "3/3 [==============================] - 0s 41ms/step - loss: 62.9203 - accuracy: 0.8358\n",
      "Epoch 10/10\n",
      "3/3 [==============================] - 0s 43ms/step - loss: 60.7713 - accuracy: 0.8358\n",
      "2/2 [==============================] - 1s 7ms/step\n",
      "Epoch 1/10\n",
      "4/4 [==============================] - 4s 106ms/step - loss: 83.8723 - accuracy: 0.2000\n",
      "Epoch 2/10\n",
      "4/4 [==============================] - 1s 122ms/step - loss: 79.0376 - accuracy: 0.3700\n",
      "Epoch 3/10\n",
      "4/4 [==============================] - 1s 130ms/step - loss: 74.4308 - accuracy: 0.3900\n",
      "Epoch 4/10\n",
      "4/4 [==============================] - 0s 113ms/step - loss: 70.1653 - accuracy: 0.5100\n",
      "Epoch 5/10\n",
      "4/4 [==============================] - 1s 122ms/step - loss: 66.1299 - accuracy: 0.5400\n",
      "Epoch 6/10\n",
      "4/4 [==============================] - 1s 141ms/step - loss: 62.2114 - accuracy: 0.5800\n",
      "Epoch 7/10\n",
      "4/4 [==============================] - 1s 140ms/step - loss: 58.5322 - accuracy: 0.6000\n",
      "Epoch 8/10\n",
      "4/4 [==============================] - 1s 149ms/step - loss: 55.0433 - accuracy: 0.6400\n",
      "Epoch 9/10\n",
      "4/4 [==============================] - 1s 118ms/step - loss: 51.5187 - accuracy: 0.7000\n",
      "Epoch 10/10\n",
      "4/4 [==============================] - 0s 105ms/step - loss: 48.3869 - accuracy: 0.6800\n",
      "Best: 0.352644 using {'model__learning_rate': 0.1}\n",
      "0.24004753416518124 \t with: {'model__learning_rate': 0.001}\n",
      "0.28163992869875226 \t with: {'model__learning_rate': 0.01}\n",
      "0.35264408793820556 \t with: {'model__learning_rate': 0.1}\n"
     ]
    }
   ],
   "source": [
    "GS = GridSearchCV(\n",
    "    estimator = model,\n",
    "    param_grid = param_grid,\n",
    "    scoring = 'accuracy',\n",
    "    n_jobs=-1,\n",
    "    cv = 3,\n",
    "    verbose=False\n",
    ")\n",
    "\n",
    "grid_result = GS.fit(X_train[:100], y_train[:100])\n",
    "\n",
    "# best result\n",
    "print(\"Best: %f using %s\" % (grid_result.best_score_,\n",
    "                             grid_result.best_params_))\n",
    "means = grid_result.cv_results_['mean_test_score']\n",
    "params = grid_result.cv_results_['params']\n",
    "# printing results for all combinations\n",
    "for mean, param in zip(means, params):\n",
    "    print(f\"{mean} \\t with: {param}\")"
   ]
  },
  {
   "cell_type": "code",
   "execution_count": 63,
   "metadata": {
    "executionInfo": {
     "elapsed": 10,
     "status": "ok",
     "timestamp": 1688311075247,
     "user": {
      "displayName": "ANDREA LOLLI",
      "userId": "08743711697490110255"
     },
     "user_tz": -120
    },
    "id": "UNv5_Rg_qq2N"
   },
   "outputs": [],
   "source": [
    "# dropout rates\n",
    "dropout_rates = [0.0, 0.1 ,0.2, 0.4, 0.6]\n",
    "\n",
    "param_grid = dict(model__dropout_rate=dropout_rates)"
   ]
  },
  {
   "cell_type": "code",
   "execution_count": 64,
   "metadata": {
    "colab": {
     "base_uri": "https://localhost:8080/"
    },
    "executionInfo": {
     "elapsed": 81927,
     "status": "ok",
     "timestamp": 1688311157166,
     "user": {
      "displayName": "ANDREA LOLLI",
      "userId": "08743711697490110255"
     },
     "user_tz": -120
    },
    "id": "AJqtQieusHIR",
    "outputId": "4bb74e29-8f57-4403-910a-ac36807eb7b6"
   },
   "outputs": [
    {
     "name": "stdout",
     "output_type": "stream",
     "text": [
      "Fitting 3 folds for each of 5 candidates, totalling 15 fits\n",
      "Epoch 1/10\n",
      "Epoch 1/10\n",
      "Epoch 1/10\n",
      "Epoch 1/10\n",
      "Epoch 1/10\n",
      "Epoch 1/10\n",
      "Epoch 1/10\n",
      "Epoch 1/10\n",
      "3/3 [==============================] - 5s 110ms/step - loss: 84.3109 - accuracy: 0.2388\n",
      "Epoch 2/10\n",
      "3/3 [==============================] - 5s 111ms/step - loss: 84.6544 - accuracy: 0.1818\n",
      "Epoch 2/10\n",
      "3/3 [==============================] - 5s 85ms/step - loss: 84.4520 - accuracy: 0.1940\n",
      "Epoch 2/10\n",
      "3/3 [==============================] - 5s 98ms/step - loss: 84.2132 - accuracy: 0.1791\n",
      "Epoch 2/10\n",
      "3/3 [==============================] - 0s 104ms/step - loss: 80.6880 - accuracy: 0.3134\n",
      "Epoch 3/10\n",
      "3/3 [==============================] - 0s 124ms/step - loss: 79.8910 - accuracy: 0.5455\n",
      "Epoch 3/10\n",
      "3/3 [==============================] - 0s 83ms/step - loss: 79.1698 - accuracy: 0.5821\n",
      "Epoch 3/10\n",
      "3/3 [==============================] - 6s 128ms/step - loss: 84.2836 - accuracy: 0.2424\n",
      "Epoch 2/10\n",
      "3/3 [==============================] - 0s 149ms/step - loss: 79.7692 - accuracy: 0.5522\n",
      "Epoch 3/10\n",
      "3/3 [==============================] - 6s 112ms/step - loss: 84.5860 - accuracy: 0.1791\n",
      "Epoch 2/10\n",
      "3/3 [==============================] - 6s 118ms/step - loss: 84.5058 - accuracy: 0.2090\n",
      "Epoch 2/10\n",
      "3/3 [==============================] - 0s 101ms/step - loss: 77.7447 - accuracy: 0.2985\n",
      "Epoch 4/10\n",
      "3/3 [==============================] - 0s 112ms/step - loss: 75.4184 - accuracy: 0.7273\n",
      "Epoch 4/10\n",
      "3/3 [==============================] - 6s 125ms/step - loss: 84.7652 - accuracy: 0.2121\n",
      "Epoch 2/10\n",
      "3/3 [==============================] - 0s 104ms/step - loss: 80.3293 - accuracy: 0.4091\n",
      "Epoch 3/10\n",
      "3/3 [==============================] - 0s 147ms/step - loss: 75.9066 - accuracy: 0.7015\n",
      "Epoch 4/10\n",
      "3/3 [==============================] - 0s 133ms/step - loss: 74.6950 - accuracy: 0.7910\n",
      "Epoch 4/10\n",
      "3/3 [==============================] - 0s 120ms/step - loss: 80.5763 - accuracy: 0.4925\n",
      "Epoch 3/10\n",
      "3/3 [==============================] - 0s 133ms/step - loss: 74.7838 - accuracy: 0.2985\n",
      "Epoch 5/10\n",
      "3/3 [==============================] - 0s 135ms/step - loss: 80.4383 - accuracy: 0.4478\n",
      "Epoch 3/10\n",
      "3/3 [==============================] - 0s 114ms/step - loss: 70.9361 - accuracy: 0.8182\n",
      "3/3 [==============================] - ETA: 0s - loss: 81.5163 - accuracy: 0.3333Epoch 5/10\n",
      "3/3 [==============================] - 0s 115ms/step - loss: 81.5163 - accuracy: 0.3333\n",
      "1/3 [=========>....................] - ETA: 0s - loss: 72.3703 - accuracy: 0.5312Epoch 3/10\n",
      "3/3 [==============================] - 0s 102ms/step - loss: 72.0490 - accuracy: 0.7910\n",
      "3/3 [==============================] - 0s 124ms/step - loss: 77.1337 - accuracy: 0.4848\n",
      "Epoch 5/10\n",
      "1/3 [=========>....................] - ETA: 0s - loss: 67.5095 - accuracy: 0.8438Epoch 4/10\n",
      "3/3 [==============================] - 0s 122ms/step - loss: 71.9315 - accuracy: 0.4478\n",
      "Epoch 6/10\n",
      "3/3 [==============================] - 0s 111ms/step - loss: 77.1299 - accuracy: 0.4925\n",
      "3/3 [==============================] - ETA: 0s - loss: 70.4773 - accuracy: 0.8657Epoch 4/10\n",
      "3/3 [==============================] - 0s 162ms/step - loss: 70.4773 - accuracy: 0.8657\n",
      "Epoch 5/10\n",
      "3/3 [==============================] - 0s 115ms/step - loss: 77.0018 - accuracy: 0.5224\n",
      "Epoch 4/10\n",
      "3/3 [==============================] - 0s 134ms/step - loss: 78.2950 - accuracy: 0.4848\n",
      "Epoch 4/10\n",
      "3/3 [==============================] - 0s 146ms/step - loss: 66.7657 - accuracy: 0.8485\n",
      "1/3 [=========>....................] - ETA: 0s - loss: 74.0062 - accuracy: 0.6875Epoch 6/10\n",
      "3/3 [==============================] - 0s 140ms/step - loss: 74.1134 - accuracy: 0.6364\n",
      "Epoch 5/10\n",
      "3/3 [==============================] - 0s 112ms/step - loss: 69.3587 - accuracy: 0.4627\n",
      "Epoch 7/10\n",
      "3/3 [==============================] - 0s 103ms/step - loss: 73.8085 - accuracy: 0.5672\n",
      "3/3 [==============================] - 0s 176ms/step - loss: 68.2998 - accuracy: 0.8358\n",
      "Epoch 5/10\n",
      "Epoch 6/10\n",
      "3/3 [==============================] - 0s 154ms/step - loss: 66.2544 - accuracy: 0.8657\n",
      "3/3 [==============================] - 0s 114ms/step - loss: 73.2975 - accuracy: 0.6866\n",
      "Epoch 6/10\n",
      "Epoch 5/10\n",
      "3/3 [==============================] - 0s 112ms/step - loss: 63.1515 - accuracy: 0.9394\n",
      "Epoch 7/10\n",
      "3/3 [==============================] - 1s 167ms/step - loss: 75.1243 - accuracy: 0.5000\n",
      "Epoch 5/10\n",
      "3/3 [==============================] - 0s 121ms/step - loss: 67.0111 - accuracy: 0.5373\n",
      "Epoch 8/10\n",
      "3/3 [==============================] - 0s 119ms/step - loss: 64.5099 - accuracy: 0.9104\n",
      "Epoch 7/10\n",
      "3/3 [==============================] - 0s 120ms/step - loss: 70.8985 - accuracy: 0.6418\n",
      "Epoch 6/10\n",
      "3/3 [==============================] - 0s 107ms/step - loss: 71.0604 - accuracy: 0.6818\n",
      "Epoch 6/10\n",
      "3/3 [==============================] - 0s 133ms/step - loss: 69.8523 - accuracy: 0.7164\n",
      "Epoch 6/10\n",
      "3/3 [==============================] - 0s 118ms/step - loss: 62.3031 - accuracy: 0.9254\n",
      "Epoch 7/10\n",
      "3/3 [==============================] - 0s 104ms/step - loss: 59.9781 - accuracy: 0.9242\n",
      "Epoch 8/10\n",
      "3/3 [==============================] - 0s 100ms/step - loss: 61.0234 - accuracy: 0.8955\n",
      "Epoch 8/10\n",
      "3/3 [==============================] - 0s 126ms/step - loss: 64.7954 - accuracy: 0.5672\n",
      "Epoch 9/10\n",
      "3/3 [==============================] - 0s 88ms/step - loss: 66.3152 - accuracy: 0.7761\n",
      "3/3 [==============================] - 0s 137ms/step - loss: 72.1630 - accuracy: 0.4848\n",
      "Epoch 7/10\n",
      "Epoch 6/10\n",
      "3/3 [==============================] - 0s 100ms/step - loss: 68.3487 - accuracy: 0.6269\n",
      "Epoch 7/10\n",
      "3/3 [==============================] - 0s 141ms/step - loss: 68.3151 - accuracy: 0.7121\n",
      "Epoch 7/10\n",
      "3/3 [==============================] - 0s 154ms/step - loss: 58.5916 - accuracy: 0.9403\n",
      "Epoch 8/10\n",
      "3/3 [==============================] - 0s 119ms/step - loss: 57.0400 - accuracy: 0.9394\n",
      "Epoch 9/10\n",
      "3/3 [==============================] - 0s 144ms/step - loss: 57.8543 - accuracy: 0.9254\n",
      "Epoch 9/10\n",
      "3/3 [==============================] - 0s 129ms/step - loss: 62.8770 - accuracy: 0.4478\n",
      "Epoch 10/10\n",
      "3/3 [==============================] - 0s 114ms/step - loss: 65.8222 - accuracy: 0.7463\n",
      "Epoch 8/10\n",
      "3/3 [==============================] - 0s 145ms/step - loss: 69.3066 - accuracy: 0.5455\n",
      "Epoch 7/10\n",
      "3/3 [==============================] - 0s 112ms/step - loss: 55.0758 - accuracy: 0.9552\n",
      "Epoch 9/10\n",
      "3/3 [==============================] - 0s 138ms/step - loss: 63.0440 - accuracy: 0.7313\n",
      "Epoch 8/10\n",
      "3/3 [==============================] - 0s 155ms/step - loss: 65.9373 - accuracy: 0.7576\n",
      "Epoch 8/10\n",
      "3/3 [==============================] - 0s 134ms/step - loss: 54.3540 - accuracy: 0.9394\n",
      "Epoch 10/10\n",
      "3/3 [==============================] - 0s 87ms/step - loss: 66.5392 - accuracy: 0.5909\n",
      "Epoch 8/10\n",
      "3/3 [==============================] - 0s 126ms/step - loss: 54.8234 - accuracy: 0.9254\n",
      "Epoch 10/10\n",
      "3/3 [==============================] - 0s 100ms/step - loss: 51.8214 - accuracy: 0.9403\n",
      "Epoch 10/10\n",
      "3/3 [==============================] - 0s 105ms/step - loss: 63.6395 - accuracy: 0.7879\n",
      "Epoch 9/10\n",
      "3/3 [==============================] - 0s 169ms/step - loss: 60.8624 - accuracy: 0.5373\n",
      "3/3 [==============================] - 0s 124ms/step - loss: 59.8115 - accuracy: 0.8060\n",
      "Epoch 9/10\n",
      "3/3 [==============================] - 0s 148ms/step - loss: 63.4385 - accuracy: 0.7164\n",
      "Epoch 9/10\n",
      "3/3 [==============================] - 0s 114ms/step - loss: 52.0565 - accuracy: 0.9394\n",
      "3/3 [==============================] - 0s 113ms/step - loss: 49.0900 - accuracy: 0.9552\n",
      "3/3 [==============================] - 0s 109ms/step - loss: 61.4667 - accuracy: 0.7879\n",
      "Epoch 10/10\n",
      "3/3 [==============================] - 0s 135ms/step - loss: 51.8915 - accuracy: 0.9403\n",
      "3/3 [==============================] - 0s 141ms/step - loss: 63.7890 - accuracy: 0.5455\n",
      "Epoch 9/10\n",
      "3/3 [==============================] - 0s 117ms/step - loss: 56.8867 - accuracy: 0.7612\n",
      "Epoch 10/10\n",
      "3/3 [==============================] - 0s 146ms/step - loss: 61.2448 - accuracy: 0.6866\n",
      "Epoch 10/10\n",
      "3/3 [==============================] - 0s 127ms/step - loss: 61.1844 - accuracy: 0.6970\n",
      "Epoch 10/10\n",
      "3/3 [==============================] - 0s 128ms/step - loss: 59.4169 - accuracy: 0.8636\n",
      "3/3 [==============================] - 1s 179ms/step - loss: 53.9273 - accuracy: 0.8358\n",
      "3/3 [==============================] - 1s 161ms/step - loss: 58.8170 - accuracy: 0.7612\n",
      "3/3 [==============================] - 0s 97ms/step - loss: 59.0447 - accuracy: 0.6364\n",
      "2/2 [==============================] - 1s 13ms/step\n",
      "2/2 [==============================] - 1s 30ms/step\n",
      "2/2 [==============================] - 1s 13ms/step\n",
      "2/2 [==============================] - 1s 23ms/step\n",
      "2/2 [==============================] - 1s 37ms/step\n",
      "2/2 [==============================] - 1s 15ms/step\n",
      "2/2 [==============================] - 1s 38ms/step\n",
      "2/2 [==============================] - 1s 22ms/step\n",
      "Epoch 1/10\n",
      "Epoch 1/10\n",
      "Epoch 1/10\n",
      "Epoch 1/10\n",
      "Epoch 1/10\n",
      "Epoch 1/10\n",
      "Epoch 1/10\n",
      "3/3 [==============================] - 4s 83ms/step - loss: 84.3661 - accuracy: 0.2090\n",
      "Epoch 2/10\n",
      "3/3 [==============================] - 0s 88ms/step - loss: 80.8381 - accuracy: 0.3731\n",
      "Epoch 3/10\n",
      "3/3 [==============================] - 0s 92ms/step - loss: 77.7646 - accuracy: 0.4627\n",
      "Epoch 4/10\n",
      "3/3 [==============================] - 5s 93ms/step - loss: 84.7941 - accuracy: 0.2424\n",
      "Epoch 2/10\n",
      "3/3 [==============================] - 5s 94ms/step - loss: 85.0001 - accuracy: 0.2273\n",
      "Epoch 2/10\n",
      "3/3 [==============================] - 0s 111ms/step - loss: 74.8432 - accuracy: 0.6418\n",
      "Epoch 5/10\n",
      "3/3 [==============================] - 5s 104ms/step - loss: 84.7702 - accuracy: 0.2985\n",
      "Epoch 2/10\n",
      "3/3 [==============================] - 0s 84ms/step - loss: 82.4563 - accuracy: 0.1364\n",
      "Epoch 3/10\n",
      "3/3 [==============================] - 0s 113ms/step - loss: 82.1578 - accuracy: 0.1061\n",
      "Epoch 3/10\n",
      "3/3 [==============================] - 5s 97ms/step - loss: 85.1431 - accuracy: 0.1493\n",
      "Epoch 2/10\n",
      "3/3 [==============================] - 0s 102ms/step - loss: 72.3883 - accuracy: 0.5224\n",
      "Epoch 6/10\n",
      "3/3 [==============================] - 0s 114ms/step - loss: 82.6243 - accuracy: 0.2239\n",
      "Epoch 3/10\n",
      "3/3 [==============================] - 0s 105ms/step - loss: 80.3409 - accuracy: 0.1515\n",
      "Epoch 4/10\n",
      "3/3 [==============================] - 0s 122ms/step - loss: 79.2705 - accuracy: 0.1970\n",
      "Epoch 4/10\n",
      "3/3 [==============================] - 5s 103ms/step - loss: 85.6680 - accuracy: 0.1642\n",
      "Epoch 2/10\n",
      "3/3 [==============================] - 6s 115ms/step - loss: 85.1372 - accuracy: 0.2090\n",
      "Epoch 2/10\n",
      "3/3 [==============================] - 0s 139ms/step - loss: 81.9711 - accuracy: 0.2687\n",
      "Epoch 3/10\n",
      "3/3 [==============================] - 0s 114ms/step - loss: 69.9111 - accuracy: 0.5075\n",
      "Epoch 7/10\n",
      "3/3 [==============================] - 0s 109ms/step - loss: 80.9398 - accuracy: 0.2239\n",
      "Epoch 4/10\n",
      "3/3 [==============================] - 0s 96ms/step - loss: 78.5001 - accuracy: 0.1818\n",
      "Epoch 5/10\n",
      "3/3 [==============================] - 0s 134ms/step - loss: 76.5743 - accuracy: 0.2576\n",
      "Epoch 5/10\n",
      "3/3 [==============================] - 0s 144ms/step - loss: 83.2776 - accuracy: 0.2687\n",
      "Epoch 3/10\n",
      "3/3 [==============================] - 0s 107ms/step - loss: 83.1598 - accuracy: 0.1493\n",
      "Epoch 3/10\n",
      "3/3 [==============================] - 0s 114ms/step - loss: 79.4688 - accuracy: 0.2537\n",
      "Epoch 4/10\n",
      "3/3 [==============================] - 0s 110ms/step - loss: 67.5087 - accuracy: 0.6119\n",
      "Epoch 8/10\n",
      "3/3 [==============================] - 0s 139ms/step - loss: 78.9892 - accuracy: 0.3582\n",
      "Epoch 5/10\n",
      "3/3 [==============================] - 0s 136ms/step - loss: 76.6940 - accuracy: 0.1212\n",
      "Epoch 6/10\n",
      "3/3 [==============================] - 0s 90ms/step - loss: 81.3230 - accuracy: 0.1940\n",
      "Epoch 4/10\n",
      "3/3 [==============================] - 0s 125ms/step - loss: 74.2165 - accuracy: 0.3182\n",
      "Epoch 6/10\n",
      "3/3 [==============================] - 0s 115ms/step - loss: 77.0456 - accuracy: 0.2985\n",
      "1/3 [=========>....................] - ETA: 0s - loss: 80.2065 - accuracy: 0.3125Epoch 5/10\n",
      "3/3 [==============================] - 0s 124ms/step - loss: 81.0180 - accuracy: 0.2836\n",
      "Epoch 4/10\n",
      "3/3 [==============================] - 0s 125ms/step - loss: 65.2543 - accuracy: 0.6418\n",
      "Epoch 9/10\n",
      "3/3 [==============================] - 0s 94ms/step - loss: 77.6532 - accuracy: 0.2985\n",
      "Epoch 6/10\n",
      "3/3 [==============================] - 0s 115ms/step - loss: 74.4039 - accuracy: 0.2121\n",
      "Epoch 7/10\n",
      "3/3 [==============================] - 0s 111ms/step - loss: 79.6116 - accuracy: 0.2687\n",
      "Epoch 5/10\n",
      "3/3 [==============================] - 0s 124ms/step - loss: 71.7853 - accuracy: 0.3636\n",
      "Epoch 7/10\n",
      "3/3 [==============================] - 0s 128ms/step - loss: 74.9415 - accuracy: 0.2985\n",
      "Epoch 6/10\n",
      "3/3 [==============================] - 0s 113ms/step - loss: 79.2217 - accuracy: 0.2090\n",
      "Epoch 5/10\n",
      "3/3 [==============================] - 0s 111ms/step - loss: 76.0585 - accuracy: 0.2836\n",
      "Epoch 7/10\n",
      "3/3 [==============================] - 0s 136ms/step - loss: 63.1294 - accuracy: 0.6716\n",
      "Epoch 10/10\n",
      "3/3 [==============================] - 0s 111ms/step - loss: 73.1499 - accuracy: 0.2121\n",
      "Epoch 8/10\n",
      "3/3 [==============================] - 0s 106ms/step - loss: 77.9476 - accuracy: 0.2687\n",
      "Epoch 6/10\n",
      "3/3 [==============================] - 0s 122ms/step - loss: 69.6110 - accuracy: 0.2879\n",
      "Epoch 8/10\n",
      "3/3 [==============================] - 0s 125ms/step - loss: 73.1485 - accuracy: 0.2388\n",
      "Epoch 7/10\n",
      "3/3 [==============================] - 0s 152ms/step - loss: 76.6273 - accuracy: 0.3433\n",
      "Epoch 6/10\n",
      "3/3 [==============================] - 0s 125ms/step - loss: 61.0986 - accuracy: 0.6866\n",
      "3/3 [==============================] - 0s 156ms/step - loss: 74.7356 - accuracy: 0.2985\n",
      "Epoch 8/10\n",
      "3/3 [==============================] - 0s 137ms/step - loss: 76.5877 - accuracy: 0.2090\n",
      "3/3 [==============================] - 0s 153ms/step - loss: 71.4697 - accuracy: 0.1212\n",
      "Epoch 9/10\n",
      "1/3 [=========>....................] - ETA: 0s - loss: 75.1626 - accuracy: 0.4062Epoch 7/10\n",
      "3/3 [==============================] - 0s 122ms/step - loss: 67.4294 - accuracy: 0.2879\n",
      "Epoch 9/10\n",
      "3/3 [==============================] - 0s 114ms/step - loss: 71.0991 - accuracy: 0.3284\n",
      "Epoch 8/10\n",
      "3/3 [==============================] - 0s 130ms/step - loss: 74.8602 - accuracy: 0.3731\n",
      "Epoch 7/10\n",
      "3/3 [==============================] - 0s 113ms/step - loss: 73.4860 - accuracy: 0.3582\n",
      "Epoch 9/10\n",
      "3/3 [==============================] - 0s 105ms/step - loss: 74.8573 - accuracy: 0.2985\n",
      "Epoch 8/10\n",
      "3/3 [==============================] - 0s 107ms/step - loss: 70.2131 - accuracy: 0.2273\n",
      "Epoch 10/10\n",
      "3/3 [==============================] - 0s 122ms/step - loss: 65.2036 - accuracy: 0.3333\n",
      "Epoch 10/10\n",
      "3/3 [==============================] - 0s 134ms/step - loss: 73.5151 - accuracy: 0.1940\n",
      "Epoch 8/10\n",
      "3/3 [==============================] - 0s 143ms/step - loss: 69.2066 - accuracy: 0.3731\n",
      "Epoch 9/10\n",
      "3/3 [==============================] - 0s 136ms/step - loss: 72.0858 - accuracy: 0.3881\n",
      "Epoch 10/10\n",
      "3/3 [==============================] - 0s 114ms/step - loss: 68.6285 - accuracy: 0.2879\n",
      "3/3 [==============================] - 0s 125ms/step - loss: 73.8360 - accuracy: 0.2687\n",
      "Epoch 9/10\n",
      "3/3 [==============================] - 0s 127ms/step - loss: 63.2074 - accuracy: 0.3485\n",
      "3/3 [==============================] - 0s 97ms/step - loss: 71.7470 - accuracy: 0.2985\n",
      "Epoch 9/10\n",
      "3/3 [==============================] - 0s 132ms/step - loss: 67.5004 - accuracy: 0.3881\n",
      "Epoch 10/10\n",
      "3/3 [==============================] - 0s 122ms/step - loss: 70.7871 - accuracy: 0.2836\n",
      "3/3 [==============================] - 0s 114ms/step - loss: 72.4977 - accuracy: 0.2537\n",
      "Epoch 10/10\n",
      "2/2 [==============================] - 1s 30ms/stepss: 70.2127 - accuracy: 0.2588\n",
      "3/3 [==============================] - 0s 124ms/step - loss: 70.1691 - accuracy: 0.2388\n",
      "Epoch 10/10\n",
      "3/3 [==============================] - 0s 106ms/step - loss: 65.9704 - accuracy: 0.4478\n",
      "3/3 [==============================] - 0s 82ms/step - loss: 70.9278 - accuracy: 0.2687\n",
      "3/3 [==============================] - 0s 61ms/step - loss: 68.3460 - accuracy: 0.1493\n",
      "2/2 [==============================] - 1s 11ms/step\n",
      "2/2 [==============================] - 1s 11ms/step\n",
      "2/2 [==============================] - 1s 10ms/step\n",
      "2/2 [==============================] - 1s 11ms/step\n",
      "2/2 [==============================] - 1s 9ms/step\n",
      "2/2 [==============================] - 1s 9ms/step\n",
      "Epoch 1/10\n"
     ]
    },
    {
     "name": "stdout",
     "output_type": "stream",
     "text": [
      "4/4 [==============================] - 4s 109ms/step - loss: 84.1418 - accuracy: 0.2400\n",
      "Epoch 2/10\n",
      "4/4 [==============================] - 0s 110ms/step - loss: 79.5782 - accuracy: 0.3500\n",
      "Epoch 3/10\n",
      "4/4 [==============================] - 1s 131ms/step - loss: 75.1633 - accuracy: 0.4800\n",
      "Epoch 4/10\n",
      "4/4 [==============================] - 0s 98ms/step - loss: 71.1577 - accuracy: 0.3800\n",
      "Epoch 5/10\n",
      "4/4 [==============================] - 1s 171ms/step - loss: 67.0243 - accuracy: 0.5500\n",
      "Epoch 6/10\n",
      "4/4 [==============================] - 1s 134ms/step - loss: 63.2915 - accuracy: 0.5400\n",
      "Epoch 7/10\n",
      "4/4 [==============================] - 1s 143ms/step - loss: 59.7631 - accuracy: 0.5600\n",
      "Epoch 8/10\n",
      "4/4 [==============================] - 0s 100ms/step - loss: 56.4803 - accuracy: 0.6200\n",
      "Epoch 9/10\n",
      "4/4 [==============================] - 1s 129ms/step - loss: 53.6241 - accuracy: 0.5600\n",
      "Epoch 10/10\n",
      "4/4 [==============================] - 1s 121ms/step - loss: 51.0018 - accuracy: 0.5900\n",
      "Best: 0.328580 using {'model__dropout_rate': 0.2}\n",
      "0.29025549613784907 \t with: {'model__dropout_rate': 0.0}\n",
      "0.18894830659536543 \t with: {'model__dropout_rate': 0.1}\n",
      "0.3285799168152109 \t with: {'model__dropout_rate': 0.2}\n",
      "0.220736779560309 \t with: {'model__dropout_rate': 0.4}\n",
      "0.19043374925727866 \t with: {'model__dropout_rate': 0.6}\n"
     ]
    }
   ],
   "source": [
    "GS = GridSearchCV(\n",
    "    estimator = model,\n",
    "    param_grid = param_grid,\n",
    "    scoring = 'accuracy',\n",
    "    n_jobs=-1,\n",
    "    cv = 3,\n",
    "    verbose=1\n",
    ")\n",
    "\n",
    "grid_result = GS.fit(X_train[:100], y_train[:100])\n",
    "\n",
    "# best result\n",
    "print(\"Best: %f using %s\" % (grid_result.best_score_,\n",
    "                             grid_result.best_params_))\n",
    "means = grid_result.cv_results_['mean_test_score']\n",
    "params = grid_result.cv_results_['params']\n",
    "# printing results for all combinations\n",
    "for mean, param in zip(means, params):\n",
    "    print(f\"{mean} \\t with: {param}\")"
   ]
  },
  {
   "cell_type": "code",
   "execution_count": 68,
   "metadata": {
    "executionInfo": {
     "elapsed": 10,
     "status": "ok",
     "timestamp": 1688311157167,
     "user": {
      "displayName": "ANDREA LOLLI",
      "userId": "08743711697490110255"
     },
     "user_tz": -120
    },
    "id": "zplJUXqVsI2v"
   },
   "outputs": [],
   "source": [
    "model = KerasClassifier(\n",
    "    model=create_model,\n",
    "    gru_hid_1=64, n_hid_1=64, n_hid_2=32,\n",
    "    dropout_rate=0.2,\n",
    "    input_shape=(64,),\n",
    "    output_shape=5,\n",
    "    input_length=60,\n",
    "    embedding_matrix=co_occurrence_300d,\n",
    "    epochs=10\n",
    ")"
   ]
  },
  {
   "cell_type": "code",
   "execution_count": 69,
   "metadata": {
    "executionInfo": {
     "elapsed": 9,
     "status": "ok",
     "timestamp": 1688311157168,
     "user": {
      "displayName": "ANDREA LOLLI",
      "userId": "08743711697490110255"
     },
     "user_tz": -120
    },
    "id": "0gtXVn0lswgg"
   },
   "outputs": [],
   "source": [
    "# activation functions\n",
    "activation_functions = ['relu', 'sigmoid', 'tanh']\n",
    "\n",
    "param_grid = dict(model__hid_act=activation_functions)"
   ]
  },
  {
   "cell_type": "code",
   "execution_count": 70,
   "metadata": {
    "colab": {
     "base_uri": "https://localhost:8080/"
    },
    "executionInfo": {
     "elapsed": 106197,
     "status": "ok",
     "timestamp": 1688311263357,
     "user": {
      "displayName": "ANDREA LOLLI",
      "userId": "08743711697490110255"
     },
     "user_tz": -120
    },
    "id": "s0gn3szks-PP",
    "outputId": "5a8ffcbd-5ec4-4e33-a862-2678265eb701"
   },
   "outputs": [
    {
     "name": "stdout",
     "output_type": "stream",
     "text": [
      "Fitting 3 folds for each of 3 candidates, totalling 9 fits\n",
      "Epoch 1/10\n",
      "Epoch 1/10\n",
      "Epoch 1/10\n",
      "Epoch 1/10\n",
      "Epoch 1/10\n",
      "Epoch 1/10\n",
      "Epoch 1/10\n",
      "Epoch 1/10\n",
      "11/11 [==============================] - 7s 127ms/step - loss: 79.4805 - accuracy: 0.1982\n",
      "Epoch 2/10\n",
      "11/11 [==============================] - 7s 145ms/step - loss: 80.2907 - accuracy: 0.2613\n",
      "Epoch 2/10\n",
      "11/11 [==============================] - 7s 136ms/step - loss: 80.2187 - accuracy: 0.1772\n",
      "Epoch 2/10\n",
      "11/11 [==============================] - 8s 170ms/step - loss: 77.2225 - accuracy: 0.3574\n",
      "Epoch 2/10\n",
      "11/11 [==============================] - 7s 174ms/step - loss: 78.3359 - accuracy: 0.2222\n",
      "Epoch 2/10\n",
      "11/11 [==============================] - 7s 168ms/step - loss: 79.1523 - accuracy: 0.3033\n",
      "Epoch 2/10\n",
      "11/11 [==============================] - 8s 148ms/step - loss: 80.3887 - accuracy: 0.2066\n",
      "Epoch 2/10\n",
      "11/11 [==============================] - 7s 166ms/step - loss: 78.7362 - accuracy: 0.2994\n",
      "Epoch 2/10\n",
      "11/11 [==============================] - 2s 140ms/step - loss: 64.6423 - accuracy: 0.3303\n",
      "Epoch 3/10\n",
      "11/11 [==============================] - 2s 143ms/step - loss: 68.1248 - accuracy: 0.3784\n",
      "Epoch 3/10\n",
      "11/11 [==============================] - 2s 173ms/step - loss: 68.5356 - accuracy: 0.3213\n",
      "Epoch 3/10\n",
      "11/11 [==============================] - 2s 137ms/step - loss: 68.4045 - accuracy: 0.3054\n",
      "Epoch 3/10\n",
      "11/11 [==============================] - 2s 168ms/step - loss: 59.4541 - accuracy: 0.4715\n",
      "Epoch 3/10\n",
      "11/11 [==============================] - 2s 160ms/step - loss: 64.9638 - accuracy: 0.4114\n",
      "Epoch 3/10\n",
      "11/11 [==============================] - 2s 165ms/step - loss: 61.6297 - accuracy: 0.4174\n",
      "Epoch 3/10\n",
      "11/11 [==============================] - 2s 140ms/step - loss: 63.4562 - accuracy: 0.3922\n",
      "Epoch 3/10\n",
      "11/11 [==============================] - 2s 144ms/step - loss: 50.9457 - accuracy: 0.4354\n",
      " 3/11 [=======>......................] - ETA: 1s - loss: 56.2280 - accuracy: 0.3854Epoch 4/10\n",
      "11/11 [==============================] - 2s 146ms/step - loss: 56.1636 - accuracy: 0.4535\n",
      "Epoch 4/10\n",
      "11/11 [==============================] - 2s 161ms/step - loss: 57.5744 - accuracy: 0.3994\n",
      "Epoch 4/10\n",
      "11/11 [==============================] - 2s 151ms/step - loss: 57.0105 - accuracy: 0.3832\n",
      "Epoch 4/10\n",
      "11/11 [==============================] - 2s 143ms/step - loss: 44.4465 - accuracy: 0.5345\n",
      "Epoch 4/10\n",
      "11/11 [==============================] - 2s 152ms/step - loss: 51.9677 - accuracy: 0.4835\n",
      "Epoch 4/10\n",
      "11/11 [==============================] - 2s 163ms/step - loss: 46.5887 - accuracy: 0.4985\n",
      "Epoch 4/10\n",
      "11/11 [==============================] - 2s 151ms/step - loss: 49.5365 - accuracy: 0.4491\n",
      "Epoch 4/10\n",
      "11/11 [==============================] - 2s 141ms/step - loss: 39.2918 - accuracy: 0.5075\n",
      "Epoch 5/10\n",
      "11/11 [==============================] - 2s 153ms/step - loss: 45.5517 - accuracy: 0.4835\n",
      "Epoch 5/10\n",
      "11/11 [==============================] - 2s 159ms/step - loss: 47.6955 - accuracy: 0.4505\n",
      " 9/11 [=======================>......] - ETA: 0s - loss: 41.1516 - accuracy: 0.6076Epoch 5/10\n",
      "11/11 [==============================] - 2s 151ms/step - loss: 46.6550 - accuracy: 0.4491\n",
      "Epoch 5/10\n",
      "11/11 [==============================] - 2s 173ms/step - loss: 33.2193 - accuracy: 0.6066\n",
      "Epoch 5/10\n",
      "11/11 [==============================] - 2s 145ms/step - loss: 37.9214 - accuracy: 0.5988\n",
      "Epoch 5/10\n",
      "11/11 [==============================] - 2s 150ms/step - loss: 40.5365 - accuracy: 0.5946\n",
      " 6/11 [===============>..............] - ETA: 0s - loss: 38.3131 - accuracy: 0.5990Epoch 5/10\n",
      "11/11 [==============================] - 2s 172ms/step - loss: 34.8617 - accuracy: 0.5736\n",
      "Epoch 5/10\n",
      "11/11 [==============================] - 2s 158ms/step - loss: 30.4496 - accuracy: 0.6006\n",
      " 3/11 [=======>......................] - ETA: 1s - loss: 31.8532 - accuracy: 0.6667Epoch 6/10\n",
      "11/11 [==============================] - 2s 175ms/step - loss: 36.8283 - accuracy: 0.6066\n",
      "Epoch 6/10\n",
      "11/11 [==============================] - 2s 161ms/step - loss: 39.5227 - accuracy: 0.5315\n",
      "Epoch 6/10\n",
      "11/11 [==============================] - 2s 138ms/step - loss: 25.7421 - accuracy: 0.6727\n",
      "Epoch 6/10\n",
      "11/11 [==============================] - 2s 149ms/step - loss: 31.7364 - accuracy: 0.6607\n",
      "Epoch 6/10\n",
      "11/11 [==============================] - 2s 170ms/step - loss: 38.1877 - accuracy: 0.4551\n",
      "Epoch 6/10\n",
      "11/11 [==============================] - 2s 156ms/step - loss: 29.5833 - accuracy: 0.6707\n",
      "Epoch 6/10\n",
      "11/11 [==============================] - 2s 135ms/step - loss: 27.0089 - accuracy: 0.6186\n",
      "Epoch 6/10\n",
      "11/11 [==============================] - 2s 156ms/step - loss: 24.6134 - accuracy: 0.5946\n",
      "Epoch 7/10\n",
      "11/11 [==============================] - 2s 154ms/step - loss: 30.2411 - accuracy: 0.6066\n",
      "Epoch 7/10\n",
      "11/11 [==============================] - 2s 158ms/step - loss: 32.8657 - accuracy: 0.6006\n",
      "Epoch 7/10\n",
      "11/11 [==============================] - 2s 141ms/step - loss: 31.5576 - accuracy: 0.5599\n",
      "Epoch 7/10\n",
      "11/11 [==============================] - 2s 168ms/step - loss: 20.7793 - accuracy: 0.6757\n",
      "Epoch 7/10\n",
      "11/11 [==============================] - 2s 158ms/step - loss: 25.6288 - accuracy: 0.7508\n",
      "Epoch 7/10\n",
      "11/11 [==============================] - 2s 152ms/step - loss: 21.8458 - accuracy: 0.6276\n",
      "Epoch 7/10\n",
      "11/11 [==============================] - 2s 158ms/step - loss: 24.3791 - accuracy: 0.6168\n",
      "Epoch 7/10\n",
      "11/11 [==============================] - 2s 167ms/step - loss: 20.9923 - accuracy: 0.6366\n",
      "Epoch 8/10\n",
      "11/11 [==============================] - 1s 139ms/step - loss: 25.2720 - accuracy: 0.6517\n",
      "Epoch 8/10\n",
      "11/11 [==============================] - 2s 157ms/step - loss: 27.9185 - accuracy: 0.6156\n",
      "Epoch 8/10\n",
      "11/11 [==============================] - 2s 164ms/step - loss: 26.0277 - accuracy: 0.6497\n",
      "Epoch 8/10\n",
      "11/11 [==============================] - 2s 154ms/step - loss: 17.5769 - accuracy: 0.6967\n",
      "Epoch 8/10\n",
      "11/11 [==============================] - 2s 155ms/step - loss: 21.7615 - accuracy: 0.6667\n",
      "Epoch 8/10\n",
      "11/11 [==============================] - 2s 147ms/step - loss: 20.6590 - accuracy: 0.6856\n",
      "Epoch 8/10\n",
      "11/11 [==============================] - 2s 156ms/step - loss: 18.3744 - accuracy: 0.6246\n",
      " 1/11 [=>............................] - ETA: 1s - loss: 19.7227 - accuracy: 0.7812Epoch 8/10\n",
      "11/11 [==============================] - 2s 176ms/step - loss: 18.1297 - accuracy: 0.6336\n",
      "Epoch 9/10\n",
      "11/11 [==============================] - 2s 188ms/step - loss: 21.9531 - accuracy: 0.6126\n",
      "Epoch 9/10\n",
      "11/11 [==============================] - 1s 136ms/step - loss: 18.8935 - accuracy: 0.7327\n",
      "Epoch 9/10\n",
      "11/11 [==============================] - 2s 150ms/step - loss: 22.0968 - accuracy: 0.6257\n",
      "11/11 [==============================] - 2s 150ms/step - loss: 15.0753 - accuracy: 0.7177\n",
      "Epoch 9/10\n",
      "Epoch 9/10\n",
      "11/11 [==============================] - 2s 172ms/step - loss: 24.1945 - accuracy: 0.6456\n",
      "Epoch 9/10\n",
      "11/11 [==============================] - 2s 151ms/step - loss: 17.6683 - accuracy: 0.7156\n",
      "Epoch 9/10\n",
      "11/11 [==============================] - 2s 170ms/step - loss: 16.0737 - accuracy: 0.6907\n",
      "Epoch 9/10\n",
      "11/11 [==============================] - 2s 144ms/step - loss: 16.0370 - accuracy: 0.7147\n",
      "Epoch 10/10\n",
      "11/11 [==============================] - 2s 169ms/step - loss: 19.7312 - accuracy: 0.6697\n",
      "Epoch 10/10\n",
      "11/11 [==============================] - 2s 139ms/step - loss: 16.6819 - accuracy: 0.7568\n",
      "Epoch 10/10\n",
      "11/11 [==============================] - 2s 135ms/step - loss: 15.9706 - accuracy: 0.6527\n",
      "Epoch 10/10\n",
      "11/11 [==============================] - 2s 155ms/step - loss: 13.1355 - accuracy: 0.7327\n",
      "Epoch 10/10\n",
      "11/11 [==============================] - 2s 147ms/step - loss: 21.3373 - accuracy: 0.6246\n",
      "Epoch 10/10\n",
      "11/11 [==============================] - 2s 165ms/step - loss: 19.5334 - accuracy: 0.6377\n",
      "Epoch 10/10\n",
      "11/11 [==============================] - 2s 181ms/step - loss: 14.1107 - accuracy: 0.6937\n",
      "Epoch 10/10\n",
      "11/11 [==============================] - 2s 142ms/step - loss: 14.2574 - accuracy: 0.7598\n",
      "11/11 [==============================] - 1s 128ms/step - loss: 19.4098 - accuracy: 0.6306\n",
      "11/11 [==============================] - 1s 128ms/step - loss: 14.3821 - accuracy: 0.7365\n",
      "11/11 [==============================] - 2s 159ms/step - loss: 15.0055 - accuracy: 0.7538\n"
     ]
    },
    {
     "name": "stdout",
     "output_type": "stream",
     "text": [
      "11/11 [==============================] - 2s 172ms/step - loss: 17.8381 - accuracy: 0.6426\n",
      "11/11 [==============================] - 2s 165ms/step - loss: 11.9313 - accuracy: 0.7267\n",
      "11/11 [==============================] - 2s 151ms/step - loss: 17.8460 - accuracy: 0.6467\n",
      "11/11 [==============================] - 2s 140ms/step - loss: 12.3411 - accuracy: 0.7267\n",
      "6/6 [==============================] - 2s 30ms/step\n",
      "6/6 [==============================] - 1s 28ms/step\n",
      "6/6 [==============================] - 1s 34ms/step\n",
      "6/6 [==============================] - 1s 35ms/step\n",
      "6/6 [==============================] - 1s 19ms/step\n",
      "6/6 [==============================] - 1s 22ms/step\n",
      "6/6 [==============================] - 1s 22ms/step\n",
      "6/6 [==============================] - 1s 15ms/step\n",
      "Epoch 1/10\n",
      "11/11 [==============================] - 3s 39ms/step - loss: 79.5099 - accuracy: 0.2246\n",
      "Epoch 2/10\n",
      "11/11 [==============================] - 0s 38ms/step - loss: 65.0691 - accuracy: 0.3503\n",
      "Epoch 3/10\n",
      "11/11 [==============================] - 0s 38ms/step - loss: 51.4414 - accuracy: 0.4042\n",
      "Epoch 4/10\n",
      "11/11 [==============================] - 0s 38ms/step - loss: 39.8291 - accuracy: 0.5120\n",
      "Epoch 5/10\n",
      "11/11 [==============================] - 0s 38ms/step - loss: 31.1924 - accuracy: 0.5120\n",
      "Epoch 6/10\n",
      "11/11 [==============================] - 0s 37ms/step - loss: 25.1034 - accuracy: 0.5629\n",
      "Epoch 7/10\n",
      "11/11 [==============================] - 0s 37ms/step - loss: 20.7144 - accuracy: 0.6796\n",
      "Epoch 8/10\n",
      "11/11 [==============================] - 0s 38ms/step - loss: 18.0575 - accuracy: 0.6347\n",
      "Epoch 9/10\n",
      "11/11 [==============================] - 0s 38ms/step - loss: 16.0041 - accuracy: 0.6407\n",
      "Epoch 10/10\n",
      "11/11 [==============================] - 0s 37ms/step - loss: 14.3165 - accuracy: 0.6886\n",
      "6/6 [==============================] - 1s 12ms/step\n",
      "Epoch 1/10\n",
      "16/16 [==============================] - 6s 130ms/step - loss: 74.9954 - accuracy: 0.2380\n",
      "Epoch 2/10\n",
      "16/16 [==============================] - 2s 130ms/step - loss: 51.9231 - accuracy: 0.3520\n",
      "Epoch 3/10\n",
      "16/16 [==============================] - 2s 139ms/step - loss: 33.9617 - accuracy: 0.4640\n",
      "Epoch 4/10\n",
      "16/16 [==============================] - 2s 128ms/step - loss: 24.0836 - accuracy: 0.5000\n",
      "Epoch 5/10\n",
      "16/16 [==============================] - 2s 123ms/step - loss: 18.7970 - accuracy: 0.5500\n",
      "Epoch 6/10\n",
      "16/16 [==============================] - 2s 127ms/step - loss: 15.1856 - accuracy: 0.5820\n",
      "Epoch 7/10\n",
      "16/16 [==============================] - 2s 112ms/step - loss: 13.1622 - accuracy: 0.5900\n",
      "Epoch 8/10\n",
      "16/16 [==============================] - 2s 128ms/step - loss: 11.7614 - accuracy: 0.6340\n",
      "Epoch 9/10\n",
      "16/16 [==============================] - 2s 132ms/step - loss: 11.1399 - accuracy: 0.6220\n",
      "Epoch 10/10\n",
      "16/16 [==============================] - 2s 113ms/step - loss: 10.0903 - accuracy: 0.7080\n",
      "Best: 0.452024 using {'model__hid_act': 'sigmoid'}\n",
      "0.4339273260707501 \t with: {'model__hid_act': 'relu'}\n",
      "0.4520236635163408 \t with: {'model__hid_act': 'sigmoid'}\n",
      "0.38806723901594403 \t with: {'model__hid_act': 'tanh'}\n"
     ]
    }
   ],
   "source": [
    "GS = GridSearchCV(\n",
    "    estimator = model,\n",
    "    param_grid = param_grid,\n",
    "    scoring = 'accuracy',\n",
    "    n_jobs=-1,\n",
    "    cv = 3,\n",
    "    verbose=1\n",
    ")\n",
    "\n",
    "grid_result = GS.fit(X_train[:500], y_train[:500])\n",
    "\n",
    "# best result\n",
    "print(\"Best: %f using %s\" % (grid_result.best_score_,\n",
    "                             grid_result.best_params_))\n",
    "means = grid_result.cv_results_['mean_test_score']\n",
    "params = grid_result.cv_results_['params']\n",
    "# printing results for all combinations\n",
    "for mean, param in zip(means, params):\n",
    "    print(f\"{mean} \\t with: {param}\")"
   ]
  },
  {
   "cell_type": "code",
   "execution_count": 71,
   "metadata": {
    "executionInfo": {
     "elapsed": 14,
     "status": "ok",
     "timestamp": 1688311263358,
     "user": {
      "displayName": "ANDREA LOLLI",
      "userId": "08743711697490110255"
     },
     "user_tz": -120
    },
    "id": "xK1fKHnKtAaM"
   },
   "outputs": [],
   "source": [
    "# batch sizes\n",
    "batch_size = [1, X_train[:100].shape[0], 16, 32]\n",
    "param_grid = dict(batch_size=batch_size)"
   ]
  },
  {
   "cell_type": "code",
   "execution_count": 72,
   "metadata": {
    "colab": {
     "base_uri": "https://localhost:8080/"
    },
    "executionInfo": {
     "elapsed": 110483,
     "status": "ok",
     "timestamp": 1688311373832,
     "user": {
      "displayName": "ANDREA LOLLI",
      "userId": "08743711697490110255"
     },
     "user_tz": -120
    },
    "id": "9adED0VmuQLR",
    "outputId": "146a6204-cb30-4788-bb92-eaa3db70017d"
   },
   "outputs": [
    {
     "name": "stdout",
     "output_type": "stream",
     "text": [
      "Fitting 3 folds for each of 4 candidates, totalling 12 fits\n",
      "Epoch 1/10\n",
      "Epoch 1/10\n",
      "Epoch 1/10\n",
      "Epoch 1/10\n",
      "Epoch 1/10\n",
      "Epoch 1/10\n",
      "Epoch 1/10\n",
      "Epoch 1/10\n",
      "1/1 [==============================] - 6s 6s/step - loss: 85.2505 - accuracy: 0.2537\n",
      "Epoch 2/10\n",
      "1/1 [==============================] - 0s 173ms/step - loss: 83.7802 - accuracy: 0.2239\n",
      "Epoch 3/10\n",
      "5/5 [==============================] - 6s 133ms/step - loss: 84.1882 - accuracy: 0.2388\n",
      "Epoch 2/10\n",
      "1/1 [==============================] - 6s 6s/step - loss: 85.2749 - accuracy: 0.2090\n",
      "Epoch 2/10\n",
      "5/5 [==============================] - 6s 146ms/step - loss: 83.7099 - accuracy: 0.2424\n",
      "Epoch 2/10\n",
      "1/1 [==============================] - 0s 295ms/step - loss: 82.1359 - accuracy: 0.3433\n",
      "Epoch 4/10\n",
      "1/1 [==============================] - 0s 208ms/step - loss: 83.5761 - accuracy: 0.2985\n",
      "Epoch 3/10\n",
      "1/1 [==============================] - 0s 247ms/step - loss: 80.5527 - accuracy: 0.4030\n",
      "1/1 [==============================] - 0s 217ms/step - loss: 82.0331 - accuracy: 0.3881\n",
      "Epoch 4/10\n",
      "Epoch 5/10\n",
      "1/1 [==============================] - 6s 6s/step - loss: 85.4126 - accuracy: 0.2727\n",
      "Epoch 2/10\n",
      "1/1 [==============================] - 0s 206ms/step - loss: 80.3883 - accuracy: 0.4328\n",
      "Epoch 5/10\n",
      "1/1 [==============================] - 0s 246ms/step - loss: 78.9521 - accuracy: 0.3881\n",
      "Epoch 6/10\n",
      "1/1 [==============================] - 0s 264ms/step - loss: 83.5856 - accuracy: 0.1970\n",
      "Epoch 3/10\n",
      "1/1 [==============================] - 0s 244ms/step - loss: 78.8961 - accuracy: 0.5224\n",
      "1/1 [==============================] - 0s 203ms/step - loss: 77.3943 - accuracy: 0.4328\n",
      "Epoch 6/10\n",
      "Epoch 7/10\n",
      "5/5 [==============================] - 1s 144ms/step - loss: 79.0882 - accuracy: 0.2727\n",
      "32/67 [=============>................] - ETA: 2s - loss: 48.8404 - accuracy: 0.3438Epoch 3/10\n",
      "1/1 [==============================] - 0s 171ms/step - loss: 82.2037 - accuracy: 0.2576\n",
      "50/66 [=====================>........] - ETA: 1s - loss: 38.0513 - accuracy: 0.6000Epoch 4/10\n",
      "5/5 [==============================] - 1s 221ms/step - loss: 79.8663 - accuracy: 0.2687\n",
      "Epoch 3/10\n",
      "1/1 [==============================] - 0s 217ms/step - loss: 77.3598 - accuracy: 0.5970\n",
      "52/66 [======================>.......] - ETA: 0s - loss: 37.1206 - accuracy: 0.5962Epoch 7/10\n",
      "1/1 [==============================] - 0s 306ms/step - loss: 75.8251 - accuracy: 0.4478\n",
      "Epoch 8/10\n",
      "1/1 [==============================] - 0s 226ms/step - loss: 80.5364 - accuracy: 0.3636\n",
      "Epoch 5/10\n",
      "1/1 [==============================] - 0s 262ms/step - loss: 75.6964 - accuracy: 0.6119\n",
      "38/67 [================>.............] - ETA: 2s - loss: 44.5306 - accuracy: 0.3947Epoch 8/10\n",
      "1/1 [==============================] - 0s 216ms/step - loss: 78.7844 - accuracy: 0.4697\n",
      "Epoch 6/10\n",
      "1/1 [==============================] - 0s 254ms/step - loss: 74.0442 - accuracy: 0.5522\n",
      "Epoch 9/10\n",
      "1/1 [==============================] - 0s 234ms/step - loss: 74.0274 - accuracy: 0.6418\n",
      "Epoch 9/10\n",
      "1/1 [==============================] - 0s 234ms/step - loss: 77.2589 - accuracy: 0.4848\n",
      "Epoch 7/10\n",
      "5/5 [==============================] - 1s 147ms/step - loss: 74.5153 - accuracy: 0.4697\n",
      "Epoch 4/10\n",
      "1/1 [==============================] - 0s 226ms/step - loss: 72.4974 - accuracy: 0.4925\n",
      "Epoch 10/10\n",
      "5/5 [==============================] - 1s 155ms/step - loss: 75.9170 - accuracy: 0.4627\n",
      "61/66 [==========================>...] - ETA: 0s - loss: 33.4082 - accuracy: 0.5574Epoch 4/10\n",
      "1/1 [==============================] - 0s 194ms/step - loss: 72.4639 - accuracy: 0.6567\n",
      "Epoch 10/10\n",
      "1/1 [==============================] - 0s 167ms/step - loss: 75.5835 - accuracy: 0.4545\n",
      "Epoch 8/10\n",
      "1/1 [==============================] - 0s 227ms/step - loss: 70.8593 - accuracy: 0.5821\n",
      "1/1 [==============================] - 0s 171ms/step - loss: 70.8756 - accuracy: 0.6866\n",
      "1/1 [==============================] - 0s 182ms/step - loss: 73.9753 - accuracy: 0.5758\n",
      "Epoch 9/10\n",
      "66/66 [==============================] - 9s 67ms/step - loss: 31.6082 - accuracy: 0.5606\n",
      "Epoch 2/10\n",
      "1/1 [==============================] - 0s 195ms/step - loss: 72.3288 - accuracy: 0.6212\n",
      "Epoch 10/10\n",
      "5/5 [==============================] - 1s 124ms/step - loss: 69.9835 - accuracy: 0.5152\n",
      "Epoch 5/10\n",
      "1/1 [==============================] - 0s 172ms/step - loss: 70.6930 - accuracy: 0.5909\n",
      "5/5 [==============================] - 1s 151ms/step - loss: 71.9778 - accuracy: 0.5373\n",
      "Epoch 5/10\n",
      "5/5 [==============================] - 1s 127ms/step - loss: 65.4468 - accuracy: 0.5909\n",
      "Epoch 6/10\n",
      "5/5 [==============================] - 1s 130ms/step - loss: 68.3297 - accuracy: 0.4478\n",
      "Epoch 6/10\n",
      "67/67 [==============================] - 10s 68ms/step - loss: 31.3353 - accuracy: 0.5522\n",
      "Epoch 2/10\n",
      "67/67 [==============================] - 10s 68ms/step - loss: 31.1723 - accuracy: 0.4478\n",
      "Epoch 2/10\n",
      "1/1 [==============================] - 1s 1s/steploss: 65.5358 - accuracy: 0.4688\n",
      "1/1 [==============================] - 2s 2s/steploss: 61.0252 - accuracy: 0.6406\n",
      "5/5 [==============================] - 1s 122ms/step - loss: 60.9816 - accuracy: 0.6364\n",
      "Epoch 7/10\n",
      "5/5 [==============================] - 1s 134ms/step - loss: 64.7416 - accuracy: 0.4776\n",
      "Epoch 7/10\n",
      "1/1 [==============================] - 2s 2s/step- loss: 7.1021 - accuracy: 0.7692\n",
      "5/5 [==============================] - 1s 154ms/step - loss: 56.8185 - accuracy: 0.6515\n",
      "Epoch 8/10\n",
      "20/67 [=======>......................] - ETA: 3s - loss: 6.4128 - accuracy: 0.7500Epoch 1/10\n",
      "5/5 [==============================] - 1s 151ms/step - loss: 61.0341 - accuracy: 0.6567\n",
      "Epoch 8/10\n",
      "3/5 [=================>............] - ETA: 0s - loss: 53.2215 - accuracy: 0.7500Epoch 1/10\n",
      "5/5 [==============================] - 1s 148ms/step - loss: 52.7810 - accuracy: 0.7727\n",
      "Epoch 9/10\n",
      "5/5 [==============================] - 1s 135ms/step - loss: 57.6702 - accuracy: 0.6269\n",
      "2/5 [===========>..................] - ETA: 0s - loss: 50.0216 - accuracy: 0.7188Epoch 9/10\n",
      "32/67 [=============>................] - ETA: 2s - loss: 5.4810 - accuracy: 0.6562Epoch 1/10\n",
      "5/5 [==============================] - 1s 155ms/step - loss: 49.2699 - accuracy: 0.6818\n",
      "Epoch 10/10\n",
      "5/5 [==============================] - 1s 143ms/step - loss: 54.5139 - accuracy: 0.6119\n",
      "Epoch 10/10\n",
      "66/66 [==============================] - 4s 64ms/step - loss: 4.1666 - accuracy: 0.5758\n",
      "Epoch 3/10\n",
      "5/5 [==============================] - 1s 115ms/step - loss: 46.0918 - accuracy: 0.6667\n",
      "5/5 [==============================] - 1s 119ms/step - loss: 51.3203 - accuracy: 0.6567\n",
      "67/67 [==============================] - 4s 66ms/step - loss: 4.0374 - accuracy: 0.5970\n",
      "Epoch 3/10\n",
      "67/67 [==============================] - 4s 66ms/step - loss: 4.0537 - accuracy: 0.5075\n",
      "Epoch 3/10\n",
      "3/3 [==============================] - 1s 32ms/steploss: 2.4069 - accuracy: 0.27\n",
      "3/3 [==============================] - 2s 46ms/steploss: 2.2832 - accuracy: 0.44\n",
      "36/67 [===============>..............] - ETA: 1s - loss: 2.1803 - accuracy: 0.4722Epoch 1/10\n",
      "66/66 [==============================] - 4s 57ms/step - loss: 2.0047 - accuracy: 0.5758\n",
      "Epoch 4/10\n",
      "67/67 [==============================] - 4s 57ms/step - loss: 1.9562 - accuracy: 0.5970\n",
      "Epoch 4/10\n",
      "67/67 [==============================] - 4s 57ms/step - loss: 2.0317 - accuracy: 0.5075\n",
      "Epoch 4/10\n",
      "3/3 [==============================] - 8s 103ms/step - loss: 84.4796 - accuracy: 0.1818\n",
      "Epoch 2/10\n",
      "3/3 [==============================] - 0s 119ms/step - loss: 80.3760 - accuracy: 0.3788\n",
      "Epoch 3/10\n",
      "5/5 [==============================] - 9s 119ms/step - loss: 83.5253 - accuracy: 0.1642\n",
      "Epoch 2/10\n",
      "3/3 [==============================] - 8s 138ms/step - loss: 84.5951 - accuracy: 0.2537\n",
      "Epoch 2/10\n",
      "3/3 [==============================] - 0s 131ms/step - loss: 76.9202 - accuracy: 0.3788\n",
      "Epoch 4/10\n",
      "66/66 [==============================] - 4s 56ms/step - loss: 1.6085 - accuracy: 0.5758\n",
      "Epoch 5/10\n",
      "3/3 [==============================] - 0s 146ms/step - loss: 81.4884 - accuracy: 0.2537\n",
      "Epoch 3/10\n",
      "3/3 [==============================] - 0s 109ms/step - loss: 73.4871 - accuracy: 0.3788\n",
      "Epoch 5/10\n",
      "5/5 [==============================] - 1s 139ms/step - loss: 79.3125 - accuracy: 0.4030\n",
      "Epoch 3/10\n",
      "3/3 [==============================] - 0s 150ms/step - loss: 78.5660 - accuracy: 0.3881\n",
      "Epoch 4/10\n",
      "3/3 [==============================] - 0s 111ms/step - loss: 70.2974 - accuracy: 0.4394\n",
      "Epoch 6/10\n"
     ]
    },
    {
     "name": "stdout",
     "output_type": "stream",
     "text": [
      "5/5 [==============================] - 1s 116ms/step - loss: 75.6974 - accuracy: 0.3731\n",
      "Epoch 4/10\n",
      "3/3 [==============================] - 0s 94ms/step - loss: 75.9137 - accuracy: 0.4328\n",
      "2/3 [===================>..........] - ETA: 0s - loss: 67.8271 - accuracy: 0.4219Epoch 5/10\n",
      "3/3 [==============================] - 0s 116ms/step - loss: 67.7876 - accuracy: 0.4242\n",
      "Epoch 7/10\n",
      "3/3 [==============================] - 0s 111ms/step - loss: 73.1080 - accuracy: 0.5522\n",
      "61/67 [==========================>...] - ETA: 0s - loss: 1.7108 - accuracy: 0.5082Epoch 6/10\n",
      "3/3 [==============================] - 0s 118ms/step - loss: 65.4216 - accuracy: 0.5455\n",
      "63/67 [===========================>..] - ETA: 0s - loss: 1.7201 - accuracy: 0.4921Epoch 8/10\n",
      "5/5 [==============================] - 1s 104ms/step - loss: 71.7886 - accuracy: 0.4627\n",
      "Epoch 5/10\n",
      "67/67 [==============================] - 4s 58ms/step - loss: 1.5784 - accuracy: 0.5970\n",
      "Epoch 5/10\n",
      "67/67 [==============================] - 4s 57ms/step - loss: 1.7002 - accuracy: 0.5075\n",
      "Epoch 5/10\n",
      "3/3 [==============================] - 0s 153ms/step - loss: 70.6720 - accuracy: 0.5075\n",
      "Epoch 7/10\n",
      "3/3 [==============================] - 0s 107ms/step - loss: 63.3406 - accuracy: 0.5455\n",
      "Epoch 9/10\n",
      "3/3 [==============================] - 0s 111ms/step - loss: 67.8880 - accuracy: 0.6716\n",
      "Epoch 8/10\n",
      "3/3 [==============================] - 0s 129ms/step - loss: 61.2999 - accuracy: 0.5000\n",
      "Epoch 10/10\n",
      "5/5 [==============================] - 1s 156ms/step - loss: 68.2847 - accuracy: 0.4776\n",
      "Epoch 6/10\n",
      "3/3 [==============================] - 0s 120ms/step - loss: 65.5967 - accuracy: 0.7313\n",
      "14/67 [=====>........................] - ETA: 3s - loss: 1.6292 - accuracy: 0.5000Epoch 9/10\n",
      "3/3 [==============================] - 1s 176ms/step - loss: 59.1807 - accuracy: 0.6061\n",
      "5/5 [==============================] - 1s 126ms/step - loss: 64.8207 - accuracy: 0.4776\n",
      "Epoch 7/10\n",
      "3/3 [==============================] - 0s 119ms/step - loss: 63.5082 - accuracy: 0.6866\n",
      "Epoch 10/10\n",
      "3/3 [==============================] - 7s 104ms/step - loss: 84.7395 - accuracy: 0.1791\n",
      "Epoch 2/10\n",
      "3/3 [==============================] - 0s 128ms/step - loss: 61.3925 - accuracy: 0.6716\n",
      "5/5 [==============================] - 1s 107ms/step - loss: 61.4896 - accuracy: 0.5373\n",
      "Epoch 8/10\n",
      "3/3 [==============================] - 0s 91ms/step - loss: 81.1489 - accuracy: 0.3582\n",
      "Epoch 3/10\n",
      "66/66 [==============================] - 4s 58ms/step - loss: 1.5558 - accuracy: 0.5758\n",
      "Epoch 6/10\n",
      "3/3 [==============================] - 0s 107ms/step - loss: 78.3642 - accuracy: 0.3582\n",
      "Epoch 4/10\n",
      "5/5 [==============================] - 1s 118ms/step - loss: 58.0224 - accuracy: 0.5970\n",
      "38/67 [================>.............] - ETA: 1s - loss: 1.5988 - accuracy: 0.5000Epoch 9/10\n",
      "2/2 [==============================] - 1s 26ms/steploss: 1.4945 - accuracy: 0.6000\n",
      "3/3 [==============================] - 0s 99ms/step - loss: 75.7808 - accuracy: 0.3582\n",
      "Epoch 5/10\n",
      "5/5 [==============================] - 0s 98ms/step - loss: 54.8747 - accuracy: 0.6567\n",
      "Epoch 10/10\n",
      "3/3 [==============================] - 0s 95ms/step - loss: 73.2038 - accuracy: 0.5821\n",
      "Epoch 6/10\n",
      "2/2 [==============================] - 1s 22ms/stepss: 52.7440 - accuracy: 0.68862\n",
      "3/3 [==============================] - 0s 103ms/step - loss: 70.9572 - accuracy: 0.5075\n",
      "Epoch 7/10\n",
      "5/5 [==============================] - 0s 98ms/step - loss: 52.0348 - accuracy: 0.7313\n",
      "3/3 [==============================] - 0s 98ms/step - loss: 68.8725 - accuracy: 0.5821\n",
      "Epoch 8/10\n",
      "67/67 [==============================] - 4s 53ms/step - loss: 1.5021 - accuracy: 0.5970\n",
      "65/67 [============================>.] - ETA: 0s - loss: 1.6245 - accuracy: 0.5231Epoch 6/10\n",
      "67/67 [==============================] - 4s 54ms/step - loss: 1.6368 - accuracy: 0.5075\n",
      "Epoch 6/10\n",
      "3/3 [==============================] - 0s 80ms/step - loss: 66.9580 - accuracy: 0.5522\n",
      "Epoch 9/10\n",
      "3/3 [==============================] - 0s 90ms/step - loss: 65.0075 - accuracy: 0.6269\n",
      "Epoch 10/10\n",
      "3/3 [==============================] - 0s 90ms/step - loss: 62.9236 - accuracy: 0.6567\n",
      "3/3 [==============================] - 1s 25ms/steploss: 1.6500 - accuracy: 0.5716\n",
      "66/66 [==============================] - 3s 42ms/step - loss: 1.5321 - accuracy: 0.5758\n",
      "Epoch 7/10\n",
      "2/2 [==============================] - 1s 21ms/steploss: 1.5676 - accuracy: 0.5306\n",
      "67/67 [==============================] - 2s 36ms/step - loss: 1.4876 - accuracy: 0.5970\n",
      "65/67 [============================>.] - ETA: 0s - loss: 1.6455 - accuracy: 0.5077Epoch 7/10\n",
      "67/67 [==============================] - 2s 35ms/step - loss: 1.6453 - accuracy: 0.5075\n",
      "Epoch 7/10\n",
      "66/66 [==============================] - 2s 31ms/step - loss: 1.5186 - accuracy: 0.5758\n",
      "35/67 [==============>...............] - ETA: 1s - loss: 1.5486 - accuracy: 0.5714Epoch 8/10\n",
      "67/67 [==============================] - 2s 32ms/step - loss: 1.4739 - accuracy: 0.5970\n",
      "Epoch 8/10\n",
      "67/67 [==============================] - 2s 33ms/step - loss: 1.6343 - accuracy: 0.5075\n",
      "33/66 [==============>...............] - ETA: 1s - loss: 1.5347 - accuracy: 0.5455Epoch 8/10\n",
      "66/66 [==============================] - 2s 33ms/step - loss: 1.5044 - accuracy: 0.5758\n",
      "Epoch 9/10\n",
      "67/67 [==============================] - 2s 34ms/step - loss: 1.4669 - accuracy: 0.5970\n",
      "29/66 [============>.................] - ETA: 1s - loss: 1.5201 - accuracy: 0.5172Epoch 9/10\n",
      "67/67 [==============================] - 2s 36ms/step - loss: 1.6291 - accuracy: 0.5075\n",
      "Epoch 9/10\n",
      "66/66 [==============================] - 2s 35ms/step - loss: 1.5099 - accuracy: 0.5758\n",
      "Epoch 10/10\n",
      "67/67 [==============================] - 2s 34ms/step - loss: 1.4780 - accuracy: 0.5970\n",
      "Epoch 10/10\n",
      "67/67 [==============================] - 2s 34ms/step - loss: 1.6165 - accuracy: 0.5075\n",
      "Epoch 10/10\n",
      "66/66 [==============================] - 2s 33ms/step - loss: 1.5090 - accuracy: 0.5758\n",
      "67/67 [==============================] - 2s 30ms/step - loss: 1.4660 - accuracy: 0.5970\n",
      "67/67 [==============================] - 2s 30ms/step - loss: 1.6249 - accuracy: 0.5075\n",
      "34/34 [==============================] - 1s 8ms/step\n",
      "33/33 [==============================] - 1s 7ms/step\n",
      "33/33 [==============================] - 1s 6ms/step\n",
      "Epoch 1/10\n",
      "100/100 [==============================] - 8s 56ms/step - loss: 22.6844 - accuracy: 0.4800\n",
      "Epoch 2/10\n",
      "100/100 [==============================] - 6s 57ms/step - loss: 2.2222 - accuracy: 0.5600\n",
      "Epoch 3/10\n",
      "100/100 [==============================] - 6s 55ms/step - loss: 1.6248 - accuracy: 0.5600\n",
      "Epoch 4/10\n",
      "100/100 [==============================] - 6s 63ms/step - loss: 1.5581 - accuracy: 0.5600\n",
      "Epoch 5/10\n",
      "100/100 [==============================] - 5s 53ms/step - loss: 1.5546 - accuracy: 0.5600\n",
      "Epoch 6/10\n",
      "100/100 [==============================] - 5s 52ms/step - loss: 1.5529 - accuracy: 0.5600\n",
      "Epoch 7/10\n",
      "100/100 [==============================] - 5s 50ms/step - loss: 1.5497 - accuracy: 0.5600\n",
      "Epoch 8/10\n",
      "100/100 [==============================] - 6s 56ms/step - loss: 1.5448 - accuracy: 0.5600\n",
      "Epoch 9/10\n",
      "100/100 [==============================] - 6s 57ms/step - loss: 1.5457 - accuracy: 0.5600\n",
      "Epoch 10/10\n",
      "100/100 [==============================] - 6s 60ms/step - loss: 1.5442 - accuracy: 0.5600\n",
      "Best: 0.560309 using {'batch_size': 1}\n",
      "0.5603089720736779 \t with: {'batch_size': 1}\n",
      "0.30124777183600715 \t with: {'batch_size': 100}\n",
      "0.20974450386215093 \t with: {'batch_size': 16}\n",
      "0.19102792632204393 \t with: {'batch_size': 32}\n"
     ]
    }
   ],
   "source": [
    "GS = GridSearchCV(\n",
    "    estimator = model,\n",
    "    param_grid = param_grid,\n",
    "    scoring = 'accuracy',\n",
    "    n_jobs=-1,\n",
    "    cv = 3,\n",
    "    verbose=1\n",
    ")\n",
    "\n",
    "grid_result = GS.fit(X_train[:100], y_train[:100])\n",
    "\n",
    "# best result\n",
    "print(\"Best: %f using %s\" % (grid_result.best_score_,\n",
    "                             grid_result.best_params_))\n",
    "means = grid_result.cv_results_['mean_test_score']\n",
    "params = grid_result.cv_results_['params']\n",
    "# printing results for all combinations\n",
    "for mean, param in zip(means, params):\n",
    "    print(f\"{mean} \\t with: {param}\")"
   ]
  },
  {
   "cell_type": "code",
   "execution_count": 74,
   "metadata": {
    "executionInfo": {
     "elapsed": 588,
     "status": "ok",
     "timestamp": 1688311380300,
     "user": {
      "displayName": "ANDREA LOLLI",
      "userId": "08743711697490110255"
     },
     "user_tz": -120
    },
    "id": "c3e8-E2auYBI"
   },
   "outputs": [],
   "source": [
    "model = KerasClassifier(\n",
    "    model=create_model,\n",
    "    gru_hid_1=64, n_hid_1=64, n_hid_2=32,\n",
    "    dropout_rate=0.2,\n",
    "    batch_size=32,\n",
    "    input_shape=(64,),\n",
    "    output_shape=5,\n",
    "    input_length=60,\n",
    "    embedding_matrix=co_occurrence_300d,\n",
    "    epochs=10\n",
    ")"
   ]
  },
  {
   "cell_type": "code",
   "execution_count": 75,
   "metadata": {
    "executionInfo": {
     "elapsed": 9,
     "status": "ok",
     "timestamp": 1688311380302,
     "user": {
      "displayName": "ANDREA LOLLI",
      "userId": "08743711697490110255"
     },
     "user_tz": -120
    },
    "id": "OAQsYrKsvS74"
   },
   "outputs": [],
   "source": [
    "# kernel regularizer\n",
    "kernel_regularizer = [None, 'l1', 'l2', 'l1_l2']\n",
    "\n",
    "param_grid = dict(model__kernel_regularizer=kernel_regularizer)\n"
   ]
  },
  {
   "cell_type": "code",
   "execution_count": 76,
   "metadata": {
    "colab": {
     "base_uri": "https://localhost:8080/"
    },
    "executionInfo": {
     "elapsed": 67854,
     "status": "ok",
     "timestamp": 1688311449524,
     "user": {
      "displayName": "ANDREA LOLLI",
      "userId": "08743711697490110255"
     },
     "user_tz": -120
    },
    "id": "FpmQOYZ8vUlk",
    "outputId": "5431fbe5-73bf-4040-86b1-d220bb8addc0"
   },
   "outputs": [
    {
     "name": "stdout",
     "output_type": "stream",
     "text": [
      "Fitting 3 folds for each of 4 candidates, totalling 12 fits\n",
      "Epoch 1/10\n",
      "Epoch 1/10\n",
      "3/3 [==============================] - 2s 40ms/step - loss: 2.5685 - accuracy: 0.1970\n",
      "Epoch 2/10\n",
      "1/3 [=========>....................] - ETA: 0s - loss: 1.6486 - accuracy: 0.3438Epoch 1/10\n",
      "3/3 [==============================] - 0s 32ms/step - loss: 1.7309 - accuracy: 0.3182\n",
      "Epoch 3/10\n",
      "Epoch 1/10\n",
      "Epoch 1/10\n",
      "1/3 [=========>....................] - ETA: 4s - loss: 2.2610 - accuracy: 0.2188Epoch 1/10\n",
      "2/3 [===================>..........] - ETA: 0s - loss: 1.4460 - accuracy: 0.5000Epoch 1/10\n",
      "3/3 [==============================] - 0s 41ms/step - loss: 1.4700 - accuracy: 0.4848\n",
      "Epoch 4/10\n",
      "Epoch 1/10\n",
      "3/3 [==============================] - 2s 61ms/step - loss: 2.1217 - accuracy: 0.2537\n",
      "Epoch 2/10\n",
      "3/3 [==============================] - 0s 40ms/step - loss: 1.5611 - accuracy: 0.4848\n",
      "Epoch 5/10\n",
      "3/3 [==============================] - 0s 38ms/step - loss: 1.6900 - accuracy: 0.4328\n",
      "Epoch 3/10\n",
      "3/3 [==============================] - 0s 40ms/step - loss: 1.1217 - accuracy: 0.5455\n",
      "Epoch 6/10\n",
      "3/3 [==============================] - 0s 37ms/step - loss: 1.6697 - accuracy: 0.4030\n",
      "Epoch 4/10\n",
      "3/3 [==============================] - 0s 43ms/step - loss: 1.2334 - accuracy: 0.5606\n",
      "Epoch 7/10\n",
      "3/3 [==============================] - 0s 37ms/step - loss: 1.6606 - accuracy: 0.3134\n",
      "Epoch 5/10\n",
      "3/3 [==============================] - 0s 44ms/step - loss: 1.0197 - accuracy: 0.6515\n",
      "Epoch 8/10\n",
      "3/3 [==============================] - 0s 38ms/step - loss: 1.3822 - accuracy: 0.4776\n",
      "Epoch 6/10\n",
      "3/3 [==============================] - 0s 36ms/step - loss: 0.9744 - accuracy: 0.6515\n",
      "Epoch 9/10\n",
      "3/3 [==============================] - 0s 31ms/step - loss: 1.1980 - accuracy: 0.5373\n",
      "Epoch 7/10\n",
      "3/3 [==============================] - 0s 33ms/step - loss: 1.0738 - accuracy: 0.6119\n",
      "Epoch 8/10\n",
      "3/3 [==============================] - 0s 30ms/step - loss: 0.9737 - accuracy: 0.6667\n",
      "Epoch 10/10\n",
      "3/3 [==============================] - 0s 30ms/step - loss: 0.7515 - accuracy: 0.7273\n",
      "3/3 [==============================] - 0s 38ms/step - loss: 1.0816 - accuracy: 0.5075\n",
      "Epoch 9/10\n",
      "3/3 [==============================] - 0s 47ms/step - loss: 1.0954 - accuracy: 0.5373\n",
      "Epoch 10/10\n",
      "3/3 [==============================] - 0s 36ms/step - loss: 1.0791 - accuracy: 0.5970\n",
      "2/2 [==============================] - 0s 6ms/step\n",
      "2/2 [==============================] - 0s 5ms/step\n",
      "Epoch 1/10\n",
      "Epoch 1/10\n",
      "3/3 [==============================] - 3s 31ms/step - loss: 2.3070 - accuracy: 0.1642\n",
      "Epoch 2/10\n",
      "3/3 [==============================] - 0s 36ms/step - loss: 1.6660 - accuracy: 0.2836\n",
      "Epoch 3/10\n",
      "3/3 [==============================] - 3s 43ms/step - loss: 84.6684 - accuracy: 0.2090\n",
      "Epoch 2/10\n",
      "3/3 [==============================] - 3s 45ms/step - loss: 6.2549 - accuracy: 0.2239\n",
      "Epoch 2/10\n",
      "3/3 [==============================] - 3s 52ms/step - loss: 84.6854 - accuracy: 0.2239\n",
      "Epoch 2/10\n",
      "3/3 [==============================] - 0s 49ms/step - loss: 1.5292 - accuracy: 0.3582\n",
      "Epoch 4/10\n",
      "3/3 [==============================] - 3s 54ms/step - loss: 6.6368 - accuracy: 0.1212\n",
      "2/3 [===================>..........] - ETA: 0s - loss: 84.9446 - accuracy: 0.1875Epoch 2/10\n",
      "3/3 [==============================] - 0s 51ms/step - loss: 81.6065 - accuracy: 0.3582\n",
      "Epoch 3/10\n",
      "3/3 [==============================] - 3s 49ms/step - loss: 84.8689 - accuracy: 0.1818\n",
      "2/3 [===================>..........] - ETA: 0s - loss: 5.8882 - accuracy: 0.3125Epoch 2/10\n",
      "3/3 [==============================] - 0s 41ms/step - loss: 5.8954 - accuracy: 0.2985\n",
      "Epoch 3/10\n",
      "3/3 [==============================] - 0s 52ms/step - loss: 81.2918 - accuracy: 0.3731\n",
      "Epoch 3/10\n",
      "3/3 [==============================] - 0s 44ms/step - loss: 5.8442 - accuracy: 0.3182\n",
      "Epoch 3/10\n",
      "3/3 [==============================] - 0s 59ms/step - loss: 1.3357 - accuracy: 0.4776\n",
      "Epoch 5/10\n",
      "3/3 [==============================] - 0s 47ms/step - loss: 79.1316 - accuracy: 0.2836\n",
      "Epoch 4/10\n",
      "3/3 [==============================] - 0s 46ms/step - loss: 80.6178 - accuracy: 0.3636\n",
      "Epoch 3/10\n",
      "3/3 [==============================] - 0s 44ms/step - loss: 5.6355 - accuracy: 0.2687\n",
      "Epoch 4/10\n",
      "3/3 [==============================] - 0s 41ms/step - loss: 78.1745 - accuracy: 0.4030\n",
      "1/3 [=========>....................] - ETA: 0s - loss: 76.8802 - accuracy: 0.3750Epoch 4/10\n",
      "3/3 [==============================] - 0s 39ms/step - loss: 5.5073 - accuracy: 0.3939\n",
      "Epoch 4/10\n",
      "3/3 [==============================] - 0s 48ms/step - loss: 1.2971 - accuracy: 0.5522\n",
      "Epoch 6/10\n",
      "3/3 [==============================] - 0s 41ms/step - loss: 76.4686 - accuracy: 0.4091\n",
      "Epoch 4/10\n",
      "3/3 [==============================] - 0s 46ms/step - loss: 76.3769 - accuracy: 0.3881\n",
      "Epoch 5/10\n",
      "3/3 [==============================] - 0s 45ms/step - loss: 5.4772 - accuracy: 0.2985\n",
      "Epoch 5/10\n",
      "3/3 [==============================] - 0s 44ms/step - loss: 75.0741 - accuracy: 0.4179\n",
      "Epoch 5/10\n",
      "3/3 [==============================] - 0s 48ms/step - loss: 5.2236 - accuracy: 0.4848\n",
      "Epoch 5/10\n",
      "3/3 [==============================] - 0s 48ms/step - loss: 1.0428 - accuracy: 0.6119\n",
      "Epoch 7/10\n",
      "3/3 [==============================] - 0s 47ms/step - loss: 73.7891 - accuracy: 0.4627\n",
      "Epoch 6/10\n",
      "3/3 [==============================] - 0s 50ms/step - loss: 73.0279 - accuracy: 0.4545\n",
      "Epoch 5/10\n",
      "3/3 [==============================] - 0s 45ms/step - loss: 5.5546 - accuracy: 0.2388\n",
      "Epoch 6/10\n",
      "3/3 [==============================] - 0s 48ms/step - loss: 72.1229 - accuracy: 0.4925\n",
      "Epoch 6/10\n",
      "3/3 [==============================] - 0s 50ms/step - loss: 5.1624 - accuracy: 0.5152\n",
      "Epoch 6/10\n",
      "3/3 [==============================] - 0s 50ms/step - loss: 0.9888 - accuracy: 0.6119\n",
      "Epoch 8/10\n",
      "3/3 [==============================] - 0s 50ms/step - loss: 71.6671 - accuracy: 0.4328\n",
      "Epoch 7/10\n",
      "3/3 [==============================] - 0s 51ms/step - loss: 69.3600 - accuracy: 0.4697\n",
      "Epoch 6/10\n",
      "3/3 [==============================] - 0s 53ms/step - loss: 5.4295 - accuracy: 0.3582\n",
      "Epoch 7/10\n",
      "3/3 [==============================] - 0s 40ms/step - loss: 69.4636 - accuracy: 0.5075\n",
      "1/3 [=========>....................] - ETA: 0s - loss: 0.8158 - accuracy: 0.6875Epoch 7/10\n",
      "3/3 [==============================] - 0s 48ms/step - loss: 5.0634 - accuracy: 0.5303\n",
      "Epoch 7/10\n",
      "3/3 [==============================] - 0s 48ms/step - loss: 0.9138 - accuracy: 0.6418\n",
      "Epoch 9/10\n",
      "3/3 [==============================] - 0s 36ms/step - loss: 65.7559 - accuracy: 0.5303\n",
      "Epoch 7/10\n",
      "3/3 [==============================] - 0s 56ms/step - loss: 69.3700 - accuracy: 0.4179\n",
      "Epoch 8/10\n",
      "3/3 [==============================] - 0s 51ms/step - loss: 5.3438 - accuracy: 0.4776\n",
      "Epoch 8/10\n",
      "3/3 [==============================] - 0s 51ms/step - loss: 66.6269 - accuracy: 0.5970\n",
      "Epoch 8/10\n",
      "3/3 [==============================] - 0s 50ms/step - loss: 4.9188 - accuracy: 0.5303\n",
      "Epoch 8/10\n",
      "3/3 [==============================] - 0s 42ms/step - loss: 67.1485 - accuracy: 0.5075\n",
      "Epoch 9/10\n",
      "3/3 [==============================] - 0s 42ms/step - loss: 62.5074 - accuracy: 0.6061\n",
      "Epoch 8/10\n",
      "3/3 [==============================] - 0s 55ms/step - loss: 1.0177 - accuracy: 0.5522\n",
      "Epoch 10/10\n",
      "3/3 [==============================] - 0s 48ms/step - loss: 5.2515 - accuracy: 0.4925\n",
      "Epoch 9/10\n",
      "3/3 [==============================] - 0s 40ms/step - loss: 64.0829 - accuracy: 0.5522\n",
      "1/3 [=========>....................] - ETA: 0s - loss: 65.4398 - accuracy: 0.5000Epoch 9/10\n",
      "3/3 [==============================] - 0s 46ms/step - loss: 4.8619 - accuracy: 0.5758\n",
      "Epoch 9/10\n",
      "3/3 [==============================] - 0s 43ms/step - loss: 0.9294 - accuracy: 0.7164\n",
      "3/3 [==============================] - 0s 46ms/step - loss: 59.5417 - accuracy: 0.7424\n",
      "Epoch 9/10\n",
      "3/3 [==============================] - 0s 45ms/step - loss: 64.9969 - accuracy: 0.5373\n",
      "Epoch 10/10\n",
      "3/3 [==============================] - 0s 36ms/step - loss: 61.4904 - accuracy: 0.6269\n",
      "Epoch 10/10\n",
      "3/3 [==============================] - 0s 54ms/step - loss: 5.0587 - accuracy: 0.5522\n",
      "Epoch 10/10\n",
      "3/3 [==============================] - 0s 45ms/step - loss: 4.7428 - accuracy: 0.6212\n",
      "Epoch 10/10\n",
      "3/3 [==============================] - 0s 34ms/step - loss: 62.9268 - accuracy: 0.4925\n",
      "3/3 [==============================] - 0s 32ms/step - loss: 59.1865 - accuracy: 0.5373\n",
      "3/3 [==============================] - 0s 49ms/step - loss: 57.0478 - accuracy: 0.5758\n",
      "Epoch 10/10\n",
      "3/3 [==============================] - 0s 33ms/step - loss: 5.0961 - accuracy: 0.4925\n"
     ]
    },
    {
     "name": "stdout",
     "output_type": "stream",
     "text": [
      "3/3 [==============================] - 0s 38ms/step - loss: 4.5933 - accuracy: 0.8182\n",
      "3/3 [==============================] - 0s 37ms/step - loss: 54.6393 - accuracy: 0.6667\n",
      "3/3 [==============================] - 3s 36ms/step - loss: 6.0667 - accuracy: 0.2836\n",
      "Epoch 2/10\n",
      "3/3 [==============================] - 0s 29ms/step - loss: 5.5684 - accuracy: 0.3433\n",
      "Epoch 3/10\n",
      "2/2 [==============================] - 0s 11ms/stepss: 5.2756 - accuracy: 0.6250\n",
      "3/3 [==============================] - 0s 38ms/step - loss: 5.1762 - accuracy: 0.5672\n",
      "Epoch 4/10\n",
      "2/2 [==============================] - 0s 14ms/step\n",
      "3/3 [==============================] - 0s 45ms/step - loss: 5.1866 - accuracy: 0.4925\n",
      "Epoch 5/10\n",
      "2/2 [==============================] - 0s 7ms/step\n",
      "3/3 [==============================] - 3s 42ms/step - loss: 88.5644 - accuracy: 0.2576\n",
      "Epoch 2/10\n",
      "2/2 [==============================] - 0s 6ms/steposs: 5.0520 - accuracy: 0.5312\n",
      "2/2 [==============================] - 1s 30ms/step\n",
      "2/2 [==============================] - 1s 8ms/step\n",
      "3/3 [==============================] - 0s 40ms/step - loss: 5.0021 - accuracy: 0.5522\n",
      "Epoch 6/10\n",
      "3/3 [==============================] - 0s 50ms/step - loss: 84.9921 - accuracy: 0.3485\n",
      "Epoch 3/10\n",
      "3/3 [==============================] - 0s 36ms/step - loss: 4.8278 - accuracy: 0.6119\n",
      "Epoch 7/10\n",
      "3/3 [==============================] - 0s 45ms/step - loss: 81.6666 - accuracy: 0.3939\n",
      "Epoch 4/10\n",
      "3/3 [==============================] - 0s 36ms/step - loss: 4.7110 - accuracy: 0.6567\n",
      "Epoch 8/10\n",
      "3/3 [==============================] - 0s 26ms/step - loss: 78.4351 - accuracy: 0.5606\n",
      "Epoch 5/10\n",
      "3/3 [==============================] - 0s 27ms/step - loss: 4.6146 - accuracy: 0.6567\n",
      "Epoch 9/10\n",
      "3/3 [==============================] - 0s 25ms/step - loss: 75.4349 - accuracy: 0.4848\n",
      "Epoch 6/10\n",
      "Epoch 1/10\n",
      "1/3 [=========>....................] - ETA: 0s - loss: 72.8313 - accuracy: 0.6562Epoch 1/10\n",
      "3/3 [==============================] - 0s 32ms/step - loss: 4.6169 - accuracy: 0.7164\n",
      "Epoch 10/10\n",
      "3/3 [==============================] - 0s 26ms/step - loss: 72.3949 - accuracy: 0.6667\n",
      "Epoch 7/10\n",
      "3/3 [==============================] - 0s 23ms/step - loss: 4.4548 - accuracy: 0.7015\n",
      "3/3 [==============================] - 0s 21ms/step - loss: 69.7187 - accuracy: 0.5758\n",
      "Epoch 8/10\n",
      "3/3 [==============================] - 0s 16ms/step - loss: 67.0164 - accuracy: 0.6364\n",
      "Epoch 9/10\n",
      "3/3 [==============================] - 0s 16ms/step - loss: 64.5217 - accuracy: 0.6667\n",
      "Epoch 10/10\n",
      "3/3 [==============================] - 0s 18ms/step - loss: 61.9837 - accuracy: 0.6212\n",
      "2/2 [==============================] - 0s 3ms/step\n",
      "2/2 [==============================] - 0s 3ms/step\n",
      "3/3 [==============================] - 1s 15ms/step - loss: 88.5275 - accuracy: 0.2090\n",
      "Epoch 2/10\n",
      "3/3 [==============================] - 1s 18ms/step - loss: 89.0688 - accuracy: 0.2090\n",
      "Epoch 2/10\n",
      "3/3 [==============================] - 0s 15ms/step - loss: 84.2202 - accuracy: 0.3582\n",
      "Epoch 3/10\n",
      "3/3 [==============================] - 0s 16ms/step - loss: 85.6439 - accuracy: 0.4328\n",
      "Epoch 3/10\n",
      "3/3 [==============================] - 0s 16ms/step - loss: 80.7783 - accuracy: 0.3582\n",
      "Epoch 4/10\n",
      "3/3 [==============================] - 0s 16ms/step - loss: 82.3398 - accuracy: 0.5224\n",
      "Epoch 4/10\n",
      "3/3 [==============================] - 0s 17ms/step - loss: 77.6063 - accuracy: 0.4478\n",
      "Epoch 5/10\n",
      "3/3 [==============================] - 0s 17ms/step - loss: 79.7881 - accuracy: 0.5075\n",
      "Epoch 5/10\n",
      "3/3 [==============================] - 0s 18ms/step - loss: 74.8996 - accuracy: 0.4030\n",
      "Epoch 6/10\n",
      "3/3 [==============================] - 0s 19ms/step - loss: 77.3222 - accuracy: 0.5373\n",
      "Epoch 6/10\n",
      "3/3 [==============================] - 0s 18ms/step - loss: 72.4233 - accuracy: 0.4328\n",
      "Epoch 7/10\n",
      "3/3 [==============================] - 0s 18ms/step - loss: 74.9565 - accuracy: 0.6269\n",
      "Epoch 7/10\n",
      "3/3 [==============================] - 0s 19ms/step - loss: 69.8473 - accuracy: 0.4179\n",
      "Epoch 8/10\n",
      "3/3 [==============================] - 0s 21ms/step - loss: 72.8192 - accuracy: 0.5970\n",
      "Epoch 8/10\n",
      "3/3 [==============================] - 0s 21ms/step - loss: 67.5127 - accuracy: 0.4627\n",
      "Epoch 9/10\n",
      "3/3 [==============================] - 0s 19ms/step - loss: 70.7270 - accuracy: 0.6418\n",
      "Epoch 9/10\n",
      "3/3 [==============================] - 0s 19ms/step - loss: 65.2622 - accuracy: 0.5075\n",
      "Epoch 10/10\n",
      "3/3 [==============================] - 0s 20ms/step - loss: 68.6048 - accuracy: 0.5821\n",
      "Epoch 10/10\n",
      "3/3 [==============================] - 0s 20ms/step - loss: 63.1845 - accuracy: 0.6119\n",
      "3/3 [==============================] - 0s 15ms/step - loss: 66.4697 - accuracy: 0.6567\n",
      "2/2 [==============================] - 0s 3ms/step\n",
      "2/2 [==============================] - 0s 2ms/step\n",
      "Epoch 1/10\n",
      "4/4 [==============================] - 1s 66ms/step - loss: 6.3178 - accuracy: 0.1600\n",
      "Epoch 2/10\n",
      "4/4 [==============================] - 0s 46ms/step - loss: 6.0260 - accuracy: 0.2200\n",
      "Epoch 3/10\n",
      "4/4 [==============================] - 0s 45ms/step - loss: 5.6905 - accuracy: 0.3300\n",
      "Epoch 4/10\n",
      "4/4 [==============================] - 0s 55ms/step - loss: 5.3899 - accuracy: 0.3600\n",
      "Epoch 5/10\n",
      "4/4 [==============================] - 0s 63ms/step - loss: 5.3411 - accuracy: 0.4000\n",
      "Epoch 6/10\n",
      "4/4 [==============================] - 0s 44ms/step - loss: 5.0959 - accuracy: 0.4600\n",
      "Epoch 7/10\n",
      "4/4 [==============================] - 0s 38ms/step - loss: 4.8557 - accuracy: 0.5700\n",
      "Epoch 8/10\n",
      "4/4 [==============================] - 0s 61ms/step - loss: 4.8574 - accuracy: 0.5400\n",
      "Epoch 9/10\n",
      "4/4 [==============================] - 0s 45ms/step - loss: 4.8303 - accuracy: 0.5300\n",
      "Epoch 10/10\n",
      "4/4 [==============================] - 0s 67ms/step - loss: 4.8024 - accuracy: 0.5700\n",
      "Best: 0.399584 using {'model__kernel_regularizer': 'l2'}\n",
      "0.11021984551396317 \t with: {'model__kernel_regularizer': None}\n",
      "0.3095662507427213 \t with: {'model__kernel_regularizer': 'l1'}\n",
      "0.3995840760546643 \t with: {'model__kernel_regularizer': 'l2'}\n",
      "0.36036838978015445 \t with: {'model__kernel_regularizer': 'l1_l2'}\n"
     ]
    }
   ],
   "source": [
    "GS = GridSearchCV(\n",
    "    estimator = model,\n",
    "    param_grid = param_grid,\n",
    "    scoring = 'accuracy',\n",
    "    n_jobs=-1,\n",
    "    cv = 3,\n",
    "    verbose=1\n",
    ")\n",
    "\n",
    "grid_result = GS.fit(X_train[:100], y_train[:100])\n",
    "\n",
    "# best result\n",
    "print(\"Best: %f using %s\" % (grid_result.best_score_,\n",
    "                             grid_result.best_params_))\n",
    "means = grid_result.cv_results_['mean_test_score']\n",
    "params = grid_result.cv_results_['params']\n",
    "# printing results for all combinations\n",
    "for mean, param in zip(means, params):\n",
    "    print(f\"{mean} \\t with: {param}\")"
   ]
  },
  {
   "cell_type": "code",
   "execution_count": 78,
   "metadata": {
    "executionInfo": {
     "elapsed": 20,
     "status": "ok",
     "timestamp": 1688311449525,
     "user": {
      "displayName": "ANDREA LOLLI",
      "userId": "08743711697490110255"
     },
     "user_tz": -120
    },
    "id": "5dNHJ2UpvWkq"
   },
   "outputs": [],
   "source": [
    "model = KerasClassifier(\n",
    "    model=create_model,\n",
    "    gru_hid_1=64, n_hid_1=64, n_hid_2=32,\n",
    "    dropout_rate=0.2,\n",
    "    batch_size=32,\n",
    "    kernel_regularizer='l2',\n",
    "    input_shape=(64,),\n",
    "    output_shape=5,\n",
    "    input_length=60,\n",
    "    embedding_matrix=co_occurrence_300d,\n",
    "    epochs=10\n",
    ")"
   ]
  },
  {
   "cell_type": "code",
   "execution_count": 79,
   "metadata": {
    "executionInfo": {
     "elapsed": 15,
     "status": "ok",
     "timestamp": 1688311449526,
     "user": {
      "displayName": "ANDREA LOLLI",
      "userId": "08743711697490110255"
     },
     "user_tz": -120
    },
    "id": "EKdpRxgfwDe0"
   },
   "outputs": [],
   "source": [
    "# kernel initializer\n",
    "kernel_initializers = ['glorot_uniform', 'he_normal']\n",
    "\n",
    "param_grid = dict(model__kernel_initializer=kernel_initializers)\n"
   ]
  },
  {
   "cell_type": "code",
   "execution_count": 80,
   "metadata": {
    "colab": {
     "base_uri": "https://localhost:8080/"
    },
    "executionInfo": {
     "elapsed": 77030,
     "status": "ok",
     "timestamp": 1688311526543,
     "user": {
      "displayName": "ANDREA LOLLI",
      "userId": "08743711697490110255"
     },
     "user_tz": -120
    },
    "id": "VNp33kWFwHVy",
    "outputId": "b12ee13e-e341-40e3-93fd-51af0065b112"
   },
   "outputs": [
    {
     "name": "stdout",
     "output_type": "stream",
     "text": [
      "Fitting 3 folds for each of 2 candidates, totalling 6 fits\n",
      "Epoch 1/10\n",
      "Epoch 1/10\n",
      "Epoch 1/10\n",
      "Epoch 1/10\n",
      "Epoch 1/10\n",
      "Epoch 1/10\n",
      "11/11 [==============================] - 2s 39ms/step - loss: 6.2226 - accuracy: 0.1862\n",
      "Epoch 2/10\n",
      "11/11 [==============================] - 2s 36ms/step - loss: 5.9056 - accuracy: 0.2793\n",
      "Epoch 2/10\n",
      "11/11 [==============================] - 2s 42ms/step - loss: 7.8854 - accuracy: 0.2523\n",
      "Epoch 2/10\n",
      "11/11 [==============================] - 1s 47ms/step - loss: 5.5174 - accuracy: 0.3514\n",
      "Epoch 3/10\n",
      "11/11 [==============================] - 1s 50ms/step - loss: 5.3952 - accuracy: 0.3694\n",
      "Epoch 3/10\n",
      "11/11 [==============================] - 2s 42ms/step - loss: 6.2109 - accuracy: 0.2395\n",
      "Epoch 2/10\n",
      "11/11 [==============================] - 0s 44ms/step - loss: 7.0992 - accuracy: 0.3514\n",
      "Epoch 3/10\n",
      "11/11 [==============================] - 3s 50ms/step - loss: 7.8894 - accuracy: 0.2793\n",
      "Epoch 2/10\n",
      "11/11 [==============================] - 1s 45ms/step - loss: 5.0475 - accuracy: 0.4234\n",
      "Epoch 4/10\n",
      "11/11 [==============================] - 1s 50ms/step - loss: 5.6846 - accuracy: 0.2635\n",
      "Epoch 3/10\n",
      "11/11 [==============================] - 1s 55ms/step - loss: 5.0664 - accuracy: 0.4294\n",
      "Epoch 4/10\n",
      "11/11 [==============================] - 3s 50ms/step - loss: 7.6086 - accuracy: 0.2365\n",
      "Epoch 2/10\n",
      "11/11 [==============================] - 1s 50ms/step - loss: 6.7575 - accuracy: 0.3544\n",
      "Epoch 4/10\n",
      "11/11 [==============================] - 1s 47ms/step - loss: 4.8993 - accuracy: 0.4144\n",
      "Epoch 5/10\n",
      "11/11 [==============================] - 1s 51ms/step - loss: 7.0723 - accuracy: 0.4054\n",
      "Epoch 3/10\n",
      "11/11 [==============================] - 1s 48ms/step - loss: 5.2361 - accuracy: 0.3653\n",
      "Epoch 4/10\n",
      "11/11 [==============================] - 1s 51ms/step - loss: 4.6813 - accuracy: 0.5465\n",
      " 3/11 [=======>......................] - ETA: 0s - loss: 4.5406 - accuracy: 0.5000Epoch 5/10\n",
      "11/11 [==============================] - 1s 48ms/step - loss: 7.0258 - accuracy: 0.4072\n",
      " 2/11 [====>.........................] - ETA: 0s - loss: 4.9611 - accuracy: 0.4219Epoch 3/10\n",
      "11/11 [==============================] - 1s 47ms/step - loss: 6.2265 - accuracy: 0.4625\n",
      "Epoch 5/10\n",
      "11/11 [==============================] - 1s 52ms/step - loss: 4.4813 - accuracy: 0.5255\n",
      "Epoch 6/10\n",
      "11/11 [==============================] - 1s 57ms/step - loss: 6.6148 - accuracy: 0.4625\n",
      "Epoch 4/10\n",
      "11/11 [==============================] - 1s 46ms/step - loss: 4.9272 - accuracy: 0.4341\n",
      "Epoch 5/10\n",
      "11/11 [==============================] - 1s 57ms/step - loss: 4.4915 - accuracy: 0.5706\n",
      "Epoch 6/10\n",
      "11/11 [==============================] - 1s 54ms/step - loss: 6.6012 - accuracy: 0.5269\n",
      "Epoch 4/10\n",
      "11/11 [==============================] - 1s 52ms/step - loss: 5.8979 - accuracy: 0.5105\n",
      " 5/11 [============>.................] - ETA: 0s - loss: 6.3354 - accuracy: 0.4625Epoch 6/10\n",
      "11/11 [==============================] - 1s 52ms/step - loss: 6.3064 - accuracy: 0.4625\n",
      "11/11 [==============================] - 1s 53ms/step - loss: 4.6834 - accuracy: 0.4940\n",
      "Epoch 5/10\n",
      "Epoch 6/10\n",
      "11/11 [==============================] - 1s 65ms/step - loss: 4.2819 - accuracy: 0.5916\n",
      "Epoch 7/10\n",
      "11/11 [==============================] - 1s 52ms/step - loss: 6.2554 - accuracy: 0.4940\n",
      "Epoch 5/10\n",
      "11/11 [==============================] - 1s 48ms/step - loss: 5.5720 - accuracy: 0.5826\n",
      "Epoch 7/10\n",
      "11/11 [==============================] - 1s 57ms/step - loss: 4.2082 - accuracy: 0.6486\n",
      " 3/11 [=======>......................] - ETA: 0s - loss: 4.2165 - accuracy: 0.6250Epoch 7/10\n",
      "11/11 [==============================] - 1s 48ms/step - loss: 4.4596 - accuracy: 0.5599\n",
      "Epoch 7/10\n",
      "11/11 [==============================] - 1s 53ms/step - loss: 5.9472 - accuracy: 0.5556\n",
      "Epoch 6/10\n",
      "11/11 [==============================] - 1s 54ms/step - loss: 4.0723 - accuracy: 0.6276\n",
      "Epoch 8/10\n",
      "11/11 [==============================] - 1s 49ms/step - loss: 4.0204 - accuracy: 0.6907\n",
      "Epoch 8/10\n",
      "11/11 [==============================] - 1s 55ms/step - loss: 5.8308 - accuracy: 0.5928\n",
      "Epoch 6/10\n",
      "11/11 [==============================] - 1s 56ms/step - loss: 5.2010 - accuracy: 0.6667\n",
      "Epoch 8/10\n",
      "11/11 [==============================] - 1s 49ms/step - loss: 4.2551 - accuracy: 0.6228\n",
      "Epoch 8/10\n",
      "11/11 [==============================] - 1s 53ms/step - loss: 5.6134 - accuracy: 0.6126\n",
      "Epoch 7/10\n",
      "11/11 [==============================] - 1s 52ms/step - loss: 3.8880 - accuracy: 0.6306\n",
      "Epoch 9/10\n",
      "11/11 [==============================] - 1s 57ms/step - loss: 3.7497 - accuracy: 0.7568\n",
      "Epoch 9/10\n",
      "11/11 [==============================] - 1s 55ms/step - loss: 4.9571 - accuracy: 0.7027\n",
      "Epoch 9/10\n",
      "11/11 [==============================] - 1s 70ms/step - loss: 5.5587 - accuracy: 0.6377\n",
      "Epoch 7/10\n",
      "11/11 [==============================] - 1s 49ms/step - loss: 4.0898 - accuracy: 0.6497\n",
      "Epoch 9/10\n",
      "11/11 [==============================] - 1s 56ms/step - loss: 5.3914 - accuracy: 0.6637\n",
      "Epoch 8/10\n",
      "11/11 [==============================] - 1s 51ms/step - loss: 3.6895 - accuracy: 0.7057\n",
      "Epoch 10/10\n",
      "11/11 [==============================] - 1s 46ms/step - loss: 4.6840 - accuracy: 0.7568\n",
      "Epoch 10/10\n",
      "11/11 [==============================] - 1s 53ms/step - loss: 3.6470 - accuracy: 0.7327\n",
      "Epoch 10/10\n",
      "11/11 [==============================] - 1s 60ms/step - loss: 5.1703 - accuracy: 0.7784\n",
      "11/11 [==============================] - 1s 53ms/step - loss: 3.7571 - accuracy: 0.7754\n",
      "Epoch 8/10\n",
      "Epoch 10/10\n",
      "11/11 [==============================] - 0s 45ms/step - loss: 3.5112 - accuracy: 0.7538\n",
      "11/11 [==============================] - 1s 49ms/step - loss: 5.1366 - accuracy: 0.6787\n",
      "Epoch 9/10\n",
      "11/11 [==============================] - 1s 55ms/step - loss: 3.4548 - accuracy: 0.7958\n",
      "11/11 [==============================] - 1s 59ms/step - loss: 4.4489 - accuracy: 0.7958\n",
      "11/11 [==============================] - 1s 45ms/step - loss: 3.6437 - accuracy: 0.7545\n",
      "11/11 [==============================] - 1s 49ms/step - loss: 4.9653 - accuracy: 0.7725\n",
      "Epoch 9/10\n",
      "11/11 [==============================] - 0s 42ms/step - loss: 4.8351 - accuracy: 0.7508\n",
      "Epoch 10/10\n",
      "6/6 [==============================] - 1s 14ms/steploss: 4.5808 - accuracy: 0.90\n",
      "6/6 [==============================] - 0s 10ms/steploss: 4.6221 - accuracy: 0.7857\n",
      "6/6 [==============================] - 1s 10ms/steploss: 4.7294 - accuracy: 0.82\n",
      "6/6 [==============================] - 0s 9ms/step loss: 4.5826 - accuracy: 0.80\n",
      "11/11 [==============================] - 0s 32ms/step - loss: 4.7265 - accuracy: 0.8114\n",
      "Epoch 10/10\n",
      "11/11 [==============================] - 0s 29ms/step - loss: 4.6011 - accuracy: 0.7868\n",
      "11/11 [==============================] - 0s 15ms/step - loss: 4.5005 - accuracy: 0.8473\n",
      "6/6 [==============================] - 0s 5ms/step\n",
      "6/6 [==============================] - 0s 4ms/step\n",
      "Epoch 1/10\n",
      "16/16 [==============================] - 2s 49ms/step - loss: 6.0304 - accuracy: 0.2740\n",
      "Epoch 2/10\n",
      "16/16 [==============================] - 1s 51ms/step - loss: 5.3226 - accuracy: 0.3960\n",
      "Epoch 3/10\n",
      "16/16 [==============================] - 1s 51ms/step - loss: 4.9901 - accuracy: 0.4160\n",
      "Epoch 4/10\n",
      "16/16 [==============================] - 1s 62ms/step - loss: 4.5492 - accuracy: 0.5440\n",
      "Epoch 5/10\n",
      "16/16 [==============================] - 1s 87ms/step - loss: 4.2244 - accuracy: 0.5920\n",
      "Epoch 6/10\n",
      "16/16 [==============================] - 1s 67ms/step - loss: 3.9520 - accuracy: 0.6520\n",
      "Epoch 7/10\n",
      "16/16 [==============================] - 1s 81ms/step - loss: 3.7033 - accuracy: 0.6940\n",
      "Epoch 8/10\n",
      "16/16 [==============================] - 1s 80ms/step - loss: 3.4796 - accuracy: 0.7360\n",
      "Epoch 9/10\n",
      "16/16 [==============================] - 1s 78ms/step - loss: 3.3058 - accuracy: 0.7720\n",
      "Epoch 10/10\n",
      "16/16 [==============================] - 1s 85ms/step - loss: 3.0769 - accuracy: 0.8220\n",
      "Best: 0.469916 using {'model__kernel_initializer': 'glorot_uniform'}\n",
      "0.4699155905057355 \t with: {'model__kernel_initializer': 'glorot_uniform'}\n",
      "0.46393959069812185 \t with: {'model__kernel_initializer': 'he_normal'}\n"
     ]
    }
   ],
   "source": [
    "GS = GridSearchCV(\n",
    "    estimator = model,\n",
    "    param_grid = param_grid,\n",
    "    scoring = 'accuracy',\n",
    "    n_jobs=-1,\n",
    "    cv = 3,\n",
    "    verbose=1\n",
    ")\n",
    "\n",
    "grid_result = GS.fit(X_train[:500], y_train[:500])\n",
    "\n",
    "# best result\n",
    "print(\"Best: %f using %s\" % (grid_result.best_score_,\n",
    "                             grid_result.best_params_))\n",
    "means = grid_result.cv_results_['mean_test_score']\n",
    "params = grid_result.cv_results_['params']\n",
    "# printing results for all combinations\n",
    "for mean, param in zip(means, params):\n",
    "    print(f\"{mean} \\t with: {param}\")"
   ]
  },
  {
   "cell_type": "code",
   "execution_count": 81,
   "metadata": {
    "executionInfo": {
     "elapsed": 13,
     "status": "ok",
     "timestamp": 1688311526543,
     "user": {
      "displayName": "ANDREA LOLLI",
      "userId": "08743711697490110255"
     },
     "user_tz": -120
    },
    "id": "EXly9A5ywIkX"
   },
   "outputs": [],
   "source": [
    "optimizers = ['adam', 'sgd']\n",
    "\n",
    "param_grid = dict(model__optimizer=optimizers)"
   ]
  },
  {
   "cell_type": "code",
   "execution_count": 82,
   "metadata": {
    "colab": {
     "base_uri": "https://localhost:8080/"
    },
    "executionInfo": {
     "elapsed": 69843,
     "status": "ok",
     "timestamp": 1688311596379,
     "user": {
      "displayName": "ANDREA LOLLI",
      "userId": "08743711697490110255"
     },
     "user_tz": -120
    },
    "id": "TR_gVUrYwepF",
    "outputId": "9e4d9596-cc1c-4f6b-f6b0-f2675b5b0ecd"
   },
   "outputs": [
    {
     "name": "stdout",
     "output_type": "stream",
     "text": [
      "Fitting 3 folds for each of 2 candidates, totalling 6 fits\n",
      "Epoch 1/10\n",
      "Epoch 1/10\n",
      "Epoch 1/10\n",
      "Epoch 1/10\n",
      "Epoch 1/10\n",
      "Epoch 1/10\n",
      "11/11 [==============================] - 2s 41ms/step - loss: 6.2430 - accuracy: 0.2275\n",
      "11/11 [==============================] - 2s 40ms/step - loss: 6.2594 - accuracy: 0.2162\n",
      "Epoch 2/10\n",
      "Epoch 2/10\n",
      "11/11 [==============================] - 2s 49ms/step - loss: 6.0917 - accuracy: 0.2853\n",
      "Epoch 2/10\n",
      "11/11 [==============================] - 2s 42ms/step - loss: 6.2078 - accuracy: 0.2006\n",
      "Epoch 2/10\n",
      "11/11 [==============================] - 0s 42ms/step - loss: 5.9892 - accuracy: 0.3333\n",
      "Epoch 3/10\n",
      "11/11 [==============================] - 1s 45ms/step - loss: 5.8779 - accuracy: 0.3084\n",
      "Epoch 3/10\n",
      "11/11 [==============================] - 3s 49ms/step - loss: 6.1745 - accuracy: 0.2132\n",
      "Epoch 2/10\n",
      "11/11 [==============================] - 1s 53ms/step - loss: 5.5013 - accuracy: 0.3754\n",
      "Epoch 3/10\n",
      "11/11 [==============================] - 1s 47ms/step - loss: 5.5542 - accuracy: 0.3204\n",
      "10/11 [==========================>...] - ETA: 0s - loss: 5.9964 - accuracy: 0.2625Epoch 3/10\n",
      "11/11 [==============================] - 3s 52ms/step - loss: 6.0078 - accuracy: 0.2583\n",
      "Epoch 2/10\n",
      "11/11 [==============================] - 1s 52ms/step - loss: 5.7393 - accuracy: 0.3453\n",
      "Epoch 4/10\n",
      "11/11 [==============================] - 1s 50ms/step - loss: 5.8211 - accuracy: 0.2964\n",
      "Epoch 4/10\n",
      "11/11 [==============================] - 1s 48ms/step - loss: 5.9126 - accuracy: 0.3063\n",
      "Epoch 3/10\n",
      "11/11 [==============================] - 1s 47ms/step - loss: 5.1803 - accuracy: 0.4565\n",
      "Epoch 4/10\n",
      "11/11 [==============================] - 0s 44ms/step - loss: 5.3061 - accuracy: 0.3503\n",
      "Epoch 4/10\n",
      "11/11 [==============================] - 1s 45ms/step - loss: 5.4716 - accuracy: 0.3453\n",
      "Epoch 3/10\n",
      "11/11 [==============================] - 1s 47ms/step - loss: 5.6946 - accuracy: 0.3814\n",
      "Epoch 5/10\n",
      "11/11 [==============================] - 1s 47ms/step - loss: 5.4919 - accuracy: 0.3772\n",
      "Epoch 5/10\n",
      "11/11 [==============================] - 1s 51ms/step - loss: 5.7905 - accuracy: 0.3333\n",
      "Epoch 4/10\n",
      "11/11 [==============================] - 1s 54ms/step - loss: 4.8908 - accuracy: 0.5165\n",
      "Epoch 5/10\n",
      "11/11 [==============================] - 1s 53ms/step - loss: 4.8458 - accuracy: 0.5060\n",
      "Epoch 5/10\n",
      "11/11 [==============================] - 1s 46ms/step - loss: 5.5195 - accuracy: 0.4144\n",
      "Epoch 6/10\n",
      "11/11 [==============================] - 1s 61ms/step - loss: 5.1704 - accuracy: 0.3934\n",
      "Epoch 4/10\n",
      "11/11 [==============================] - 1s 63ms/step - loss: 5.4323 - accuracy: 0.4281\n",
      "Epoch 6/10\n",
      "11/11 [==============================] - 1s 55ms/step - loss: 5.4035 - accuracy: 0.4144\n",
      "Epoch 5/10\n",
      "11/11 [==============================] - 1s 53ms/step - loss: 4.6136 - accuracy: 0.5539\n",
      "Epoch 6/10\n",
      "11/11 [==============================] - 1s 53ms/step - loss: 5.4621 - accuracy: 0.4234\n",
      "Epoch 7/10\n",
      "11/11 [==============================] - 1s 57ms/step - loss: 4.6103 - accuracy: 0.5255\n",
      "Epoch 6/10\n",
      "11/11 [==============================] - 1s 50ms/step - loss: 4.8910 - accuracy: 0.4535\n",
      "Epoch 5/10\n",
      "11/11 [==============================] - 1s 63ms/step - loss: 5.3580 - accuracy: 0.4281\n",
      "Epoch 7/10\n",
      "11/11 [==============================] - 1s 68ms/step - loss: 5.3620 - accuracy: 0.4895\n",
      "Epoch 6/10\n",
      "11/11 [==============================] - 1s 66ms/step - loss: 5.2881 - accuracy: 0.4745\n",
      "Epoch 8/10\n",
      "11/11 [==============================] - 1s 69ms/step - loss: 4.2941 - accuracy: 0.6276\n",
      "Epoch 7/10\n",
      "11/11 [==============================] - 1s 69ms/step - loss: 4.3041 - accuracy: 0.6228\n",
      "Epoch 7/10\n",
      "11/11 [==============================] - 1s 66ms/step - loss: 4.5350 - accuracy: 0.5495\n",
      "Epoch 6/10\n",
      "11/11 [==============================] - 1s 61ms/step - loss: 5.2109 - accuracy: 0.5120\n",
      "Epoch 8/10\n",
      "11/11 [==============================] - 1s 55ms/step - loss: 5.3346 - accuracy: 0.4234\n",
      "Epoch 7/10\n",
      "11/11 [==============================] - 1s 58ms/step - loss: 5.2999 - accuracy: 0.4595\n",
      "Epoch 9/10\n",
      "11/11 [==============================] - 1s 59ms/step - loss: 4.1645 - accuracy: 0.6456\n",
      "Epoch 8/10\n",
      "11/11 [==============================] - 1s 58ms/step - loss: 4.0676 - accuracy: 0.6587\n",
      " 5/11 [============>.................] - ETA: 0s - loss: 5.2118 - accuracy: 0.5000Epoch 8/10\n",
      "11/11 [==============================] - 1s 60ms/step - loss: 4.3401 - accuracy: 0.5706\n",
      " 1/11 [=>............................] - ETA: 0s - loss: 4.0608 - accuracy: 0.7500Epoch 7/10\n",
      "11/11 [==============================] - 1s 61ms/step - loss: 5.2362 - accuracy: 0.5090\n",
      "Epoch 9/10\n",
      "11/11 [==============================] - 1s 60ms/step - loss: 5.2052 - accuracy: 0.5045\n",
      "Epoch 8/10\n",
      "11/11 [==============================] - 1s 58ms/step - loss: 5.2439 - accuracy: 0.5105\n",
      "Epoch 10/10\n",
      "11/11 [==============================] - 1s 58ms/step - loss: 4.0060 - accuracy: 0.6877\n",
      " 7/11 [==================>...........] - ETA: 0s - loss: 5.2171 - accuracy: 0.5000Epoch 9/10\n",
      "11/11 [==============================] - 1s 61ms/step - loss: 3.8582 - accuracy: 0.7216\n",
      "Epoch 9/10\n",
      "11/11 [==============================] - 1s 59ms/step - loss: 4.0986 - accuracy: 0.6396\n",
      "Epoch 8/10\n",
      "11/11 [==============================] - 1s 55ms/step - loss: 5.1300 - accuracy: 0.5359\n",
      "Epoch 10/10\n",
      "11/11 [==============================] - 1s 61ms/step - loss: 5.1016 - accuracy: 0.5495\n",
      "Epoch 9/10\n",
      "11/11 [==============================] - 1s 58ms/step - loss: 5.1381 - accuracy: 0.5165\n",
      "11/11 [==============================] - 1s 57ms/step - loss: 3.7309 - accuracy: 0.7568\n",
      "Epoch 10/10\n",
      "11/11 [==============================] - 1s 56ms/step - loss: 3.8606 - accuracy: 0.6787\n",
      "Epoch 9/10\n",
      "11/11 [==============================] - 1s 63ms/step - loss: 3.7157 - accuracy: 0.7515\n",
      " 1/11 [=>............................] - ETA: 0s - loss: 3.7146 - accuracy: 0.7500Epoch 10/10\n",
      "11/11 [==============================] - 1s 59ms/step - loss: 4.9974 - accuracy: 0.6018\n",
      "11/11 [==============================] - 1s 61ms/step - loss: 4.9790 - accuracy: 0.5946\n",
      "Epoch 10/10\n",
      "11/11 [==============================] - 1s 52ms/step - loss: 3.5438 - accuracy: 0.7928\n",
      "11/11 [==============================] - 1s 55ms/step - loss: 3.6887 - accuracy: 0.7117\n",
      "Epoch 10/10\n",
      "6/6 [==============================] - 1s 17ms/steploss: 3.5315 - accuracy: 0.74\n",
      "11/11 [==============================] - 1s 58ms/step - loss: 3.5455 - accuracy: 0.7425\n",
      "11/11 [==============================] - 1s 48ms/step - loss: 4.9925 - accuracy: 0.5616\n",
      "6/6 [==============================] - 1s 10ms/steploss: 3.5678 - accuracy: 0.7127\n",
      "11/11 [==============================] - 0s 40ms/step - loss: 3.5783 - accuracy: 0.7147\n",
      "6/6 [==============================] - 1s 8ms/step\n",
      "6/6 [==============================] - 0s 8ms/step\n",
      "6/6 [==============================] - 1s 8ms/step\n",
      "6/6 [==============================] - 0s 7ms/step\n",
      "Epoch 1/10\n",
      "16/16 [==============================] - 4s 82ms/step - loss: 6.0619 - accuracy: 0.2460\n",
      "Epoch 2/10\n",
      "16/16 [==============================] - 1s 87ms/step - loss: 5.8154 - accuracy: 0.3160\n",
      "Epoch 3/10\n",
      "16/16 [==============================] - 1s 71ms/step - loss: 5.5992 - accuracy: 0.3780\n",
      "Epoch 4/10\n",
      "16/16 [==============================] - 1s 65ms/step - loss: 5.4010 - accuracy: 0.4380\n",
      "Epoch 5/10\n",
      "16/16 [==============================] - 1s 71ms/step - loss: 5.3791 - accuracy: 0.4420\n",
      "Epoch 6/10\n",
      "16/16 [==============================] - 1s 69ms/step - loss: 5.2717 - accuracy: 0.4780\n",
      "Epoch 7/10\n",
      "16/16 [==============================] - 1s 59ms/step - loss: 5.1108 - accuracy: 0.5240\n",
      "Epoch 8/10\n",
      "16/16 [==============================] - 1s 72ms/step - loss: 5.0139 - accuracy: 0.5580\n",
      "Epoch 9/10\n",
      "16/16 [==============================] - 1s 69ms/step - loss: 5.0113 - accuracy: 0.5600\n",
      "Epoch 10/10\n",
      "16/16 [==============================] - 1s 65ms/step - loss: 4.9650 - accuracy: 0.5960\n",
      "Best: 0.417815 using {'model__optimizer': 'sgd'}\n",
      "0.4120313589688094 \t with: {'model__optimizer': 'adam'}\n",
      "0.4178149724647091 \t with: {'model__optimizer': 'sgd'}\n"
     ]
    }
   ],
   "source": [
    "GS = GridSearchCV(\n",
    "    estimator = model,\n",
    "    param_grid = param_grid,\n",
    "    scoring = 'accuracy',\n",
    "    n_jobs=-1,\n",
    "    cv = 3,\n",
    "    verbose=1\n",
    ")\n",
    "\n",
    "grid_result = GS.fit(X_train[:500], y_train[:500])\n",
    "\n",
    "# best result\n",
    "print(\"Best: %f using %s\" % (grid_result.best_score_,\n",
    "                             grid_result.best_params_))\n",
    "means = grid_result.cv_results_['mean_test_score']\n",
    "params = grid_result.cv_results_['params']\n",
    "# printing results for all combinations\n",
    "for mean, param in zip(means, params):\n",
    "    print(f\"{mean} \\t with: {param}\")"
   ]
  },
  {
   "cell_type": "code",
   "execution_count": 85,
   "metadata": {
    "executionInfo": {
     "elapsed": 459,
     "status": "ok",
     "timestamp": 1688311596827,
     "user": {
      "displayName": "ANDREA LOLLI",
      "userId": "08743711697490110255"
     },
     "user_tz": -120
    },
    "id": "oRO2ZpNBw4ZT"
   },
   "outputs": [],
   "source": [
    "# Final Model\n",
    "model = create_model(gru_hid_1=64, n_hid_1=64, n_hid_2=32,\n",
    "                     dropout_rate=0.2,\n",
    "                     kernel_regularizer='l2',\n",
    "                     input_shape=(64,),\n",
    "                     output_shape=5,\n",
    "                     input_length=60,\n",
    "                     embedding_matrix=co_occurrence_300d)"
   ]
  },
  {
   "cell_type": "code",
   "execution_count": 86,
   "metadata": {
    "colab": {
     "base_uri": "https://localhost:8080/"
    },
    "executionInfo": {
     "elapsed": 142955,
     "status": "ok",
     "timestamp": 1688312154776,
     "user": {
      "displayName": "ANDREA LOLLI",
      "userId": "08743711697490110255"
     },
     "user_tz": -120
    },
    "id": "s3SMqpL8yuwH",
    "outputId": "ce972240-1cdb-4a1a-dc37-1d180f5f668a"
   },
   "outputs": [
    {
     "name": "stdout",
     "output_type": "stream",
     "text": [
      "Epoch 1/20\n",
      "171/171 [==============================] - 10s 49ms/step - loss: 4.6428 - accuracy: 0.3758 - val_loss: 3.4943 - val_accuracy: 0.5348\n",
      "Epoch 2/20\n",
      "171/171 [==============================] - 10s 57ms/step - loss: 3.0634 - accuracy: 0.5190 - val_loss: 2.5767 - val_accuracy: 0.5531\n",
      "Epoch 3/20\n",
      "171/171 [==============================] - 13s 73ms/step - loss: 2.3382 - accuracy: 0.5744 - val_loss: 2.2251 - val_accuracy: 0.5480\n",
      "Epoch 4/20\n",
      "171/171 [==============================] - 10s 59ms/step - loss: 2.0146 - accuracy: 0.5974 - val_loss: 1.9484 - val_accuracy: 0.5641\n",
      "Epoch 5/20\n",
      "171/171 [==============================] - 13s 74ms/step - loss: 1.7905 - accuracy: 0.6143 - val_loss: 1.8892 - val_accuracy: 0.5502\n",
      "Epoch 6/20\n",
      "171/171 [==============================] - 11s 67ms/step - loss: 1.6814 - accuracy: 0.6311 - val_loss: 1.7902 - val_accuracy: 0.5912\n",
      "Epoch 7/20\n",
      "171/171 [==============================] - 12s 71ms/step - loss: 1.6383 - accuracy: 0.6419 - val_loss: 1.8255 - val_accuracy: 0.5648\n",
      "Epoch 8/20\n",
      "171/171 [==============================] - 14s 84ms/step - loss: 1.6127 - accuracy: 0.6537 - val_loss: 1.8134 - val_accuracy: 0.5678\n",
      "Epoch 9/20\n",
      "171/171 [==============================] - 13s 75ms/step - loss: 1.5679 - accuracy: 0.6643 - val_loss: 1.8222 - val_accuracy: 0.5553\n",
      "Epoch 10/20\n",
      "171/171 [==============================] - 12s 71ms/step - loss: 1.5413 - accuracy: 0.6771 - val_loss: 1.8245 - val_accuracy: 0.5495\n",
      "Epoch 11/20\n",
      "171/171 [==============================] - 13s 77ms/step - loss: 1.5140 - accuracy: 0.6899 - val_loss: 1.8623 - val_accuracy: 0.5707\n",
      "Epoch 12/20\n",
      "171/171 [==============================] - 14s 85ms/step - loss: 1.5366 - accuracy: 0.6907 - val_loss: 1.9068 - val_accuracy: 0.5458\n",
      "Epoch 13/20\n",
      "171/171 [==============================] - 13s 75ms/step - loss: 1.5356 - accuracy: 0.6943 - val_loss: 1.9320 - val_accuracy: 0.5538\n",
      "Epoch 14/20\n",
      "171/171 [==============================] - 13s 76ms/step - loss: 1.5175 - accuracy: 0.7112 - val_loss: 2.0378 - val_accuracy: 0.5363\n",
      "Epoch 15/20\n",
      "171/171 [==============================] - 13s 77ms/step - loss: 1.5370 - accuracy: 0.7194 - val_loss: 1.9875 - val_accuracy: 0.5634\n",
      "Epoch 16/20\n",
      "171/171 [==============================] - 12s 70ms/step - loss: 1.5352 - accuracy: 0.7264 - val_loss: 2.0483 - val_accuracy: 0.5451\n",
      "Epoch 17/20\n",
      "171/171 [==============================] - 14s 80ms/step - loss: 1.5180 - accuracy: 0.7267 - val_loss: 2.0051 - val_accuracy: 0.5480\n",
      "Epoch 18/20\n",
      "171/171 [==============================] - 13s 74ms/step - loss: 1.5048 - accuracy: 0.7383 - val_loss: 2.0615 - val_accuracy: 0.5465\n",
      "Epoch 19/20\n",
      "171/171 [==============================] - 13s 74ms/step - loss: 1.5376 - accuracy: 0.7370 - val_loss: 2.1023 - val_accuracy: 0.5385\n",
      "Epoch 20/20\n",
      "171/171 [==============================] - 12s 71ms/step - loss: 1.5469 - accuracy: 0.7394 - val_loss: 2.0701 - val_accuracy: 0.5385\n"
     ]
    }
   ],
   "source": [
    "history = model.fit(X_train, y_train, validation_data=(X_val, y_val), batch_size=32, epochs=20, shuffle=True)"
   ]
  },
  {
   "cell_type": "markdown",
   "metadata": {
    "id": "t9hjzadARWD7"
   },
   "source": [
    "# 6) How would you evaluate the generalization capabilities of the mdolel on unseen data?\n",
    "\n",
    "I evaluated the generalization capabilities of the model on unseen data by computing the evaluation metrics and generating a confusion matrix. The evaluation metrics, such as the test loss and accuracy, provide an overall assessment of the model's performance on the test data. Additionally, the confusion matrix allows us to analyze the model's predictions across different classes. By visualizing the confusion matrix, we can gain insights into the model's performance in terms of correctly predicting the different star ratings."
   ]
  },
  {
   "cell_type": "code",
   "execution_count": 87,
   "metadata": {
    "colab": {
     "base_uri": "https://localhost:8080/"
    },
    "executionInfo": {
     "elapsed": 465,
     "status": "ok",
     "timestamp": 1688312155235,
     "user": {
      "displayName": "ANDREA LOLLI",
      "userId": "08743711697490110255"
     },
     "user_tz": -120
    },
    "id": "14X28cvwqUuf",
    "outputId": "309856d7-5880-4771-ed12-2a835daff1ea"
   },
   "outputs": [
    {
     "name": "stdout",
     "output_type": "stream",
     "text": [
      "54/54 [==============================] - 1s 23ms/step - loss: 2.1278 - accuracy: 0.5354\n",
      "Test Loss: 2.1277730464935303\n",
      "Test Accuracy: 0.5354422926902771\n"
     ]
    }
   ],
   "source": [
    "# Evaluate the model on the test data\n",
    "loss, accuracy = model.evaluate(X_test, y_test)\n",
    "\n",
    "# Print the evaluation results\n",
    "print(\"Test Loss:\", loss)\n",
    "print(\"Test Accuracy:\", accuracy)"
   ]
  },
  {
   "cell_type": "code",
   "execution_count": 88,
   "metadata": {
    "colab": {
     "base_uri": "https://localhost:8080/",
     "height": 581
    },
    "executionInfo": {
     "elapsed": 2931,
     "status": "ok",
     "timestamp": 1688312455451,
     "user": {
      "displayName": "ANDREA LOLLI",
      "userId": "08743711697490110255"
     },
     "user_tz": -120
    },
    "id": "IczpiDwrPv3T",
    "outputId": "460f33ba-08bd-4b6d-ee2c-c5d79c33f189"
   },
   "outputs": [
    {
     "name": "stdout",
     "output_type": "stream",
     "text": [
      "54/54 [==============================] - 1s 15ms/step\n"
     ]
    },
    {
     "data": {
      "image/png": "[encoded data removed]",
      "text/plain": [
       "<Figure size 800x600 with 2 Axes>"
      ]
     },
     "metadata": {},
     "output_type": "display_data"
    }
   ],
   "source": [
    "# Convert one-hot encoded true labels to class indices\n",
    "y_true_indices = np.argmax(y_test, axis=1)\n",
    "\n",
    "# Convert predicted labels to class indices\n",
    "y_pred_indices = np.argmax(model.predict(X_test), axis=1)\n",
    "\n",
    "# Create the confusion matrix\n",
    "cm = confusion_matrix(y_true_indices, y_pred_indices)\n",
    "\n",
    "# Define class labels\n",
    "class_labels = ['1 star', '2 stars', '3 stars', '4 starts', '5 stars']\n",
    "\n",
    "# Plot the confusion matrix\n",
    "plt.figure(figsize=(8, 6))\n",
    "sns.heatmap(cm, annot=True, cmap='Blues', fmt='d', xticklabels=class_labels, yticklabels=class_labels)\n",
    "plt.xlabel('Predicted Labels')\n",
    "plt.ylabel('True Labels')\n",
    "plt.title('Confusion Matrix')\n",
    "plt.show()"
   ]
  },
  {
   "cell_type": "code",
   "execution_count": null,
   "metadata": {
    "id": "AWnAj_boQOwi"
   },
   "outputs": [],
   "source": []
  }
 ],
 "metadata": {
  "colab": {
   "authorship_tag": "ABX9TyMHTwH8Ec68bqiI9QqhKDxV",
   "provenance": []
  },
  "kernelspec": {
   "display_name": "Python 3 (ipykernel)",
   "language": "python",
   "name": "python3"
  },
  "language_info": {
   "codemirror_mode": {
    "name": "ipython",
    "version": 3
   },
   "file_extension": ".py",
   "mimetype": "text/x-python",
   "name": "python",
   "nbconvert_exporter": "python",
   "pygments_lexer": "ipython3",
   "version": "3.9.13"
  }
 },
 "nbformat": 4,
 "nbformat_minor": 1
}
